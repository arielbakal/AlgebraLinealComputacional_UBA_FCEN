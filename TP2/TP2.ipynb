{
 "cells": [
  {
   "cell_type": "code",
   "execution_count": 351,
   "metadata": {},
   "outputs": [],
   "source": [
    "import numpy as np\n",
    "import pandas as pd\n",
    "import matplotlib.pyplot as plt"
   ]
  },
  {
   "attachments": {},
   "cell_type": "markdown",
   "metadata": {},
   "source": [
    "### Ejercicio 1"
   ]
  },
  {
   "cell_type": "code",
   "execution_count": 352,
   "metadata": {},
   "outputs": [],
   "source": [
    "datos_csv = pd.read_csv('mnist_train.csv', header=None)\n",
    "datos_entrenamiento = datos_csv.values.tolist()"
   ]
  },
  {
   "attachments": {},
   "cell_type": "markdown",
   "metadata": {},
   "source": [
    "#### Inciso A"
   ]
  },
  {
   "cell_type": "code",
   "execution_count": 353,
   "metadata": {},
   "outputs": [],
   "source": [
    "def vector_a_matriz(vector): # matriz 28x28\n",
    "    matriz = []\n",
    "    fila = []\n",
    "    for i in range(0, 28):\n",
    "        for j in range(0, 28):\n",
    "            fila.append(int(vector[i*28+j]))\n",
    "        matriz.append(fila)\n",
    "        fila = []\n",
    "    return np.array(matriz)\n",
    "\n",
    "\n",
    "def remover_indice_vector(vector):\n",
    "    indice_del_vector = vector[0] \n",
    "    # Guardar matriz vectorizada sin el indice (primer elemento)\n",
    "    vector_sin_indice = vector[1:]\n",
    "\n",
    "    return indice_del_vector, vector_sin_indice\n",
    "\n",
    "\n",
    "def graficar_matriz(datos, fila):\n",
    "    # Guardar la matriz vectorizada\n",
    "    vector = datos[fila]\n",
    "    \n",
    "    indice_del_vector, vector_sin_indice = remover_indice_vector(vector)\n",
    "    \n",
    "    matriz = vector_a_matriz(vector_sin_indice)\n",
    "\n",
    "    plt.imshow(matriz, cmap='gray')\n",
    "\n",
    "    plt.title(indice_del_vector)\n",
    "\n",
    "    plt.show()\n",
    "\n"
   ]
  },
  {
   "cell_type": "code",
   "execution_count": 392,
   "metadata": {},
   "outputs": [
    {
     "data": {
      "image/png": "[encoded data removed]",
      "text/plain": [
       "<Figure size 640x480 with 1 Axes>"
      ]
     },
     "metadata": {},
     "output_type": "display_data"
    }
   ],
   "source": [
    "graficar_matriz(datos_entrenamiento, 0)"
   ]
  },
  {
   "attachments": {},
   "cell_type": "markdown",
   "metadata": {},
   "source": [
    "#### Inciso B"
   ]
  },
  {
   "cell_type": "code",
   "execution_count": 355,
   "metadata": {},
   "outputs": [],
   "source": [
    "def cantidad_indices(datos):\n",
    "    indices = []\n",
    "    for i in range(0, len(datos)):\n",
    "        indices.append(int(datos[i][0]))\n",
    "    \n",
    "    for j in range(0, 10):\n",
    "        print(\"Hay\", indices.count(j), \"imagenes del digito\", j)\n",
    "    "
   ]
  },
  {
   "cell_type": "code",
   "execution_count": 387,
   "metadata": {},
   "outputs": [
    {
     "name": "stdout",
     "output_type": "stream",
     "text": [
      "Hay 5923 imagenes del digito 0\n",
      "Hay 6742 imagenes del digito 1\n",
      "Hay 5958 imagenes del digito 2\n",
      "Hay 6131 imagenes del digito 3\n",
      "Hay 5842 imagenes del digito 4\n",
      "Hay 5421 imagenes del digito 5\n",
      "Hay 5918 imagenes del digito 6\n",
      "Hay 6265 imagenes del digito 7\n",
      "Hay 5851 imagenes del digito 8\n",
      "Hay 5949 imagenes del digito 9\n"
     ]
    }
   ],
   "source": [
    "cantidad_indices(datos_entrenamiento)"
   ]
  },
  {
   "attachments": {},
   "cell_type": "markdown",
   "metadata": {},
   "source": [
    "Correr la funcion con las imagenes de testeo"
   ]
  },
  {
   "attachments": {},
   "cell_type": "markdown",
   "metadata": {},
   "source": [
    "#### Inciso C"
   ]
  },
  {
   "cell_type": "code",
   "execution_count": 357,
   "metadata": {},
   "outputs": [],
   "source": [
    "def promedio_2000_imagenes(datos):\n",
    "    suma = np.zeros((28,28))\n",
    "\n",
    "    for i in range(0, 2000):\n",
    "       _, vector = remover_indice_vector(datos[i])\n",
    "       suma = suma + vector_a_matriz(vector)\n",
    "\n",
    "    promedio = suma / 2000\n",
    "\n",
    "    return promedio"
   ]
  },
  {
   "cell_type": "code",
   "execution_count": 358,
   "metadata": {},
   "outputs": [
    {
     "data": {
      "text/plain": [
       "array([[0.000000e+00, 0.000000e+00, 0.000000e+00, 0.000000e+00,\n",
       "        0.000000e+00, 0.000000e+00, 0.000000e+00, 0.000000e+00,\n",
       "        0.000000e+00, 0.000000e+00, 0.000000e+00, 0.000000e+00,\n",
       "        0.000000e+00, 0.000000e+00, 0.000000e+00, 0.000000e+00,\n",
       "        0.000000e+00, 0.000000e+00, 0.000000e+00, 0.000000e+00,\n",
       "        0.000000e+00, 0.000000e+00, 0.000000e+00, 0.000000e+00,\n",
       "        0.000000e+00, 0.000000e+00, 0.000000e+00, 0.000000e+00],\n",
       "       [0.000000e+00, 0.000000e+00, 0.000000e+00, 0.000000e+00,\n",
       "        0.000000e+00, 0.000000e+00, 0.000000e+00, 0.000000e+00,\n",
       "        0.000000e+00, 0.000000e+00, 1.000000e-02, 6.200000e-02,\n",
       "        4.500000e-02, 1.550000e-01, 1.840000e-01, 2.595000e-01,\n",
       "        2.610000e-01, 2.005000e-01, 1.960000e-01, 1.560000e-01,\n",
       "        2.290000e-01, 1.365000e-01, 7.100000e-02, 0.000000e+00,\n",
       "        0.000000e+00, 0.000000e+00, 0.000000e+00, 0.000000e+00],\n",
       "       [0.000000e+00, 0.000000e+00, 0.000000e+00, 0.000000e+00,\n",
       "        0.000000e+00, 0.000000e+00, 0.000000e+00, 3.500000e-03,\n",
       "        6.950000e-02, 1.395000e-01, 3.775000e-01, 6.450000e-01,\n",
       "        1.133000e+00, 1.578500e+00, 2.307500e+00, 2.752000e+00,\n",
       "        4.320000e+00, 4.485500e+00, 4.338000e+00, 3.567500e+00,\n",
       "        2.038000e+00, 1.093000e+00, 3.785000e-01, 1.270000e-01,\n",
       "        5.550000e-02, 0.000000e+00, 0.000000e+00, 0.000000e+00],\n",
       "       [0.000000e+00, 0.000000e+00, 0.000000e+00, 0.000000e+00,\n",
       "        0.000000e+00, 0.000000e+00, 5.250000e-02, 2.325000e-01,\n",
       "        6.185000e-01, 1.277500e+00, 2.633500e+00, 4.322000e+00,\n",
       "        6.354500e+00, 7.829500e+00, 9.471500e+00, 1.237900e+01,\n",
       "        1.463900e+01, 1.419950e+01, 1.179200e+01, 9.087000e+00,\n",
       "        5.228000e+00, 2.247000e+00, 7.255000e-01, 2.135000e-01,\n",
       "        1.220000e-01, 0.000000e+00, 0.000000e+00, 0.000000e+00],\n",
       "       [0.000000e+00, 0.000000e+00, 0.000000e+00, 0.000000e+00,\n",
       "        4.650000e-02, 1.875000e-01, 4.115000e-01, 9.290000e-01,\n",
       "        2.441500e+00, 5.293500e+00, 9.546000e+00, 1.474850e+01,\n",
       "        2.203100e+01, 2.981150e+01, 3.788250e+01, 4.460150e+01,\n",
       "        4.608450e+01, 4.326700e+01, 3.650250e+01, 2.893750e+01,\n",
       "        2.012950e+01, 1.084850e+01, 5.320500e+00, 2.283000e+00,\n",
       "        7.905000e-01, 8.700000e-02, 0.000000e+00, 0.000000e+00],\n",
       "       [0.000000e+00, 0.000000e+00, 0.000000e+00, 1.400000e-01,\n",
       "        4.675000e-01, 1.233000e+00, 2.537000e+00, 4.650000e+00,\n",
       "        8.361000e+00, 1.491050e+01, 2.410750e+01, 3.634950e+01,\n",
       "        4.837250e+01, 6.228650e+01, 7.708650e+01, 8.681050e+01,\n",
       "        8.967850e+01, 8.466800e+01, 7.305600e+01, 5.756250e+01,\n",
       "        4.155000e+01, 2.600300e+01, 1.424700e+01, 8.552000e+00,\n",
       "        3.801500e+00, 8.135000e-01, 6.750000e-02, 0.000000e+00],\n",
       "       [0.000000e+00, 0.000000e+00, 0.000000e+00, 2.530000e-01,\n",
       "        1.136000e+00, 2.856500e+00, 5.912000e+00, 1.021000e+01,\n",
       "        1.688950e+01, 2.798600e+01, 4.349300e+01, 5.937350e+01,\n",
       "        7.423750e+01, 9.206950e+01, 1.104705e+02, 1.207900e+02,\n",
       "        1.209110e+02, 1.137405e+02, 1.017115e+02, 8.252800e+01,\n",
       "        6.023350e+01, 4.092100e+01, 2.493100e+01, 1.292650e+01,\n",
       "        6.273500e+00, 1.722000e+00, 2.920000e-01, 1.525000e-01],\n",
       "       [2.350000e-02, 1.595000e-01, 1.280000e-01, 7.820000e-01,\n",
       "        2.132500e+00, 4.947000e+00, 9.125000e+00, 1.582700e+01,\n",
       "        2.667300e+01, 4.436900e+01, 6.360700e+01, 8.081250e+01,\n",
       "        9.907900e+01, 1.184040e+02, 1.309690e+02, 1.339155e+02,\n",
       "        1.353205e+02, 1.285965e+02, 1.169215e+02, 1.003765e+02,\n",
       "        7.659800e+01, 5.258150e+01, 3.220000e+01, 1.733100e+01,\n",
       "        7.061500e+00, 2.745000e+00, 9.765000e-01, 1.190000e-01],\n",
       "       [9.550000e-02, 1.260000e-01, 1.875000e-01, 1.252000e+00,\n",
       "        3.942500e+00, 7.581500e+00, 1.304950e+01, 2.268650e+01,\n",
       "        3.797400e+01, 5.953950e+01, 8.078000e+01, 1.002210e+02,\n",
       "        1.170100e+02, 1.266900e+02, 1.274390e+02, 1.233745e+02,\n",
       "        1.233715e+02, 1.239910e+02, 1.203615e+02, 1.063890e+02,\n",
       "        8.628400e+01, 6.034000e+01, 3.722450e+01, 1.933650e+01,\n",
       "        8.395500e+00, 3.453000e+00, 5.725000e-01, 0.000000e+00],\n",
       "       [1.550000e-02, 1.150000e-01, 1.855000e-01, 1.325500e+00,\n",
       "        4.357500e+00, 9.048000e+00, 1.626200e+01, 2.856750e+01,\n",
       "        4.795400e+01, 7.066100e+01, 9.225500e+01, 1.088755e+02,\n",
       "        1.151680e+02, 1.113350e+02, 1.037060e+02, 9.955400e+01,\n",
       "        1.040100e+02, 1.125280e+02, 1.136825e+02, 1.049265e+02,\n",
       "        8.667650e+01, 6.041350e+01, 3.694100e+01, 1.726800e+01,\n",
       "        6.876000e+00, 2.030500e+00, 2.870000e-01, 0.000000e+00],\n",
       "       [0.000000e+00, 8.350000e-02, 3.130000e-01, 1.395000e+00,\n",
       "        4.538000e+00, 9.187500e+00, 1.784700e+01, 3.183950e+01,\n",
       "        5.371350e+01, 7.533200e+01, 9.735150e+01, 1.073850e+02,\n",
       "        9.964650e+01, 8.938350e+01, 8.104450e+01, 8.325250e+01,\n",
       "        9.335000e+01, 1.041905e+02, 1.070215e+02, 1.014600e+02,\n",
       "        8.073950e+01, 5.469050e+01, 3.119300e+01, 1.351000e+01,\n",
       "        4.134500e+00, 8.285000e-01, 6.800000e-02, 0.000000e+00],\n",
       "       [0.000000e+00, 1.070000e-01, 2.955000e-01, 1.439500e+00,\n",
       "        4.412500e+00, 9.003000e+00, 1.834400e+01, 3.509450e+01,\n",
       "        5.632700e+01, 8.047550e+01, 9.876200e+01, 1.005050e+02,\n",
       "        8.923100e+01, 7.987950e+01, 7.734200e+01, 8.451550e+01,\n",
       "        9.560500e+01, 1.062615e+02, 1.058180e+02, 9.809500e+01,\n",
       "        7.239350e+01, 4.576250e+01, 2.479750e+01, 1.091050e+01,\n",
       "        3.099500e+00, 3.500000e-01, 1.085000e-01, 0.000000e+00],\n",
       "       [0.000000e+00, 1.125000e-01, 2.575000e-01, 1.002500e+00,\n",
       "        3.577000e+00, 9.586000e+00, 2.077500e+01, 3.934250e+01,\n",
       "        6.206400e+01, 8.666100e+01, 9.894700e+01, 9.564350e+01,\n",
       "        8.536200e+01, 8.303750e+01, 8.903950e+01, 1.008150e+02,\n",
       "        1.134925e+02, 1.173040e+02, 1.098180e+02, 9.272650e+01,\n",
       "        6.359650e+01, 3.859500e+01, 2.165750e+01, 1.021050e+01,\n",
       "        3.354500e+00, 2.035000e-01, 8.650000e-02, 0.000000e+00],\n",
       "       [0.000000e+00, 1.600000e-02, 1.850000e-01, 4.410000e-01,\n",
       "        3.085000e+00, 9.938500e+00, 2.345750e+01, 4.394500e+01,\n",
       "        6.813000e+01, 8.939500e+01, 9.723950e+01, 9.262200e+01,\n",
       "        8.883900e+01, 9.780800e+01, 1.126195e+02, 1.266235e+02,\n",
       "        1.327150e+02, 1.276440e+02, 1.107830e+02, 8.590100e+01,\n",
       "        5.947700e+01, 3.659650e+01, 2.154850e+01, 1.105900e+01,\n",
       "        3.673500e+00, 2.905000e-01, 1.000000e-02, 0.000000e+00],\n",
       "       [0.000000e+00, 0.000000e+00, 2.250000e-02, 3.535000e-01,\n",
       "        2.822000e+00, 1.130150e+01, 2.629650e+01, 4.862300e+01,\n",
       "        7.184900e+01, 8.982650e+01, 9.487000e+01, 9.313550e+01,\n",
       "        9.954700e+01, 1.172865e+02, 1.319765e+02, 1.430690e+02,\n",
       "        1.402210e+02, 1.317375e+02, 1.100560e+02, 8.375850e+01,\n",
       "        5.801400e+01, 3.744250e+01, 2.183050e+01, 1.148000e+01,\n",
       "        3.734500e+00, 2.900000e-01, 1.900000e-02, 0.000000e+00],\n",
       "       [0.000000e+00, 0.000000e+00, 0.000000e+00, 3.950000e-01,\n",
       "        2.924000e+00, 1.378950e+01, 2.994350e+01, 5.161700e+01,\n",
       "        7.319500e+01, 8.881650e+01, 9.434800e+01, 9.628500e+01,\n",
       "        1.073135e+02, 1.248650e+02, 1.351750e+02, 1.400500e+02,\n",
       "        1.358635e+02, 1.289150e+02, 1.077720e+02, 8.229800e+01,\n",
       "        5.878700e+01, 3.771250e+01, 2.255250e+01, 1.177150e+01,\n",
       "        3.859500e+00, 5.155000e-01, 1.815000e-01, 0.000000e+00],\n",
       "       [0.000000e+00, 0.000000e+00, 5.650000e-02, 5.205000e-01,\n",
       "        4.625000e+00, 1.711200e+01, 3.343300e+01, 5.264950e+01,\n",
       "        7.056300e+01, 8.318400e+01, 8.757950e+01, 9.362600e+01,\n",
       "        1.037025e+02, 1.165750e+02, 1.270755e+02, 1.306335e+02,\n",
       "        1.268370e+02, 1.205475e+02, 1.046790e+02, 8.144500e+01,\n",
       "        5.867000e+01, 3.777250e+01, 2.226050e+01, 1.077900e+01,\n",
       "        4.209000e+00, 6.735000e-01, 1.070000e-01, 0.000000e+00],\n",
       "       [0.000000e+00, 0.000000e+00, 7.950000e-02, 1.139500e+00,\n",
       "        6.934000e+00, 2.178800e+01, 3.640550e+01, 5.233400e+01,\n",
       "        6.323200e+01, 7.234200e+01, 7.767800e+01, 8.399000e+01,\n",
       "        9.066500e+01, 1.013195e+02, 1.151760e+02, 1.203390e+02,\n",
       "        1.194770e+02, 1.125455e+02, 9.813800e+01, 7.721550e+01,\n",
       "        5.516900e+01, 3.525650e+01, 2.022300e+01, 1.085850e+01,\n",
       "        4.938000e+00, 1.084000e+00, 2.280000e-01, 4.650000e-02],\n",
       "       [0.000000e+00, 0.000000e+00, 1.235000e-01, 1.699000e+00,\n",
       "        8.874500e+00, 2.473800e+01, 3.996200e+01, 5.309700e+01,\n",
       "        5.900750e+01, 6.639300e+01, 7.423500e+01, 7.731400e+01,\n",
       "        8.342500e+01, 9.688650e+01, 1.130350e+02, 1.196435e+02,\n",
       "        1.154780e+02, 1.063535e+02, 9.218750e+01, 7.036650e+01,\n",
       "        4.757350e+01, 3.028100e+01, 1.796500e+01, 9.101000e+00,\n",
       "        4.099500e+00, 8.080000e-01, 7.400000e-02, 7.500000e-02],\n",
       "       [0.000000e+00, 0.000000e+00, 4.280000e-01, 2.810000e+00,\n",
       "        1.098950e+01, 2.692950e+01, 4.429500e+01, 5.664750e+01,\n",
       "        6.393600e+01, 7.244900e+01, 8.087000e+01, 8.508200e+01,\n",
       "        9.328500e+01, 1.067320e+02, 1.205665e+02, 1.222310e+02,\n",
       "        1.158645e+02, 1.032030e+02, 8.582000e+01, 6.262450e+01,\n",
       "        4.004350e+01, 2.555800e+01, 1.372000e+01, 6.943000e+00,\n",
       "        2.737500e+00, 3.770000e-01, 3.500000e-03, 2.400000e-02],\n",
       "       [0.000000e+00, 0.000000e+00, 6.075000e-01, 3.511500e+00,\n",
       "        1.178400e+01, 2.569450e+01, 4.447750e+01, 5.944050e+01,\n",
       "        7.207150e+01, 8.403450e+01, 9.340200e+01, 1.010050e+02,\n",
       "        1.114385e+02, 1.236765e+02, 1.310040e+02, 1.268240e+02,\n",
       "        1.129215e+02, 9.456400e+01, 7.328000e+01, 5.042400e+01,\n",
       "        3.246150e+01, 1.844250e+01, 1.050850e+01, 5.545500e+00,\n",
       "        2.246000e+00, 4.320000e-01, 7.450000e-02, 0.000000e+00],\n",
       "       [0.000000e+00, 0.000000e+00, 4.060000e-01, 2.580000e+00,\n",
       "        9.306000e+00, 2.115750e+01, 3.837150e+01, 5.782450e+01,\n",
       "        7.591000e+01, 9.386450e+01, 1.059250e+02, 1.160510e+02,\n",
       "        1.262710e+02, 1.331760e+02, 1.314000e+02, 1.195265e+02,\n",
       "        9.964750e+01, 7.669750e+01, 5.492700e+01, 3.663700e+01,\n",
       "        2.246050e+01, 1.254200e+01, 7.187000e+00, 3.551000e+00,\n",
       "        1.348000e+00, 2.830000e-01, 2.010000e-01, 0.000000e+00],\n",
       "       [0.000000e+00, 0.000000e+00, 1.015000e-01, 1.245000e+00,\n",
       "        5.122500e+00, 1.323350e+01, 2.550150e+01, 4.424250e+01,\n",
       "        6.651000e+01, 8.618350e+01, 1.036545e+02, 1.162560e+02,\n",
       "        1.217060e+02, 1.220235e+02, 1.130040e+02, 9.473450e+01,\n",
       "        7.368100e+01, 5.370100e+01, 3.704450e+01, 2.246700e+01,\n",
       "        1.294150e+01, 7.732000e+00, 4.272500e+00, 1.812500e+00,\n",
       "        6.900000e-01, 1.350000e-01, 7.400000e-02, 0.000000e+00],\n",
       "       [0.000000e+00, 0.000000e+00, 1.700000e-02, 4.760000e-01,\n",
       "        2.375000e+00, 6.157500e+00, 1.317350e+01, 2.615800e+01,\n",
       "        4.473200e+01, 6.426650e+01, 8.075050e+01, 9.203250e+01,\n",
       "        9.497600e+01, 9.007650e+01, 7.891850e+01, 6.193450e+01,\n",
       "        4.663650e+01, 3.255950e+01, 2.111800e+01, 1.180050e+01,\n",
       "        6.194000e+00, 3.607500e+00, 1.867500e+00, 1.118000e+00,\n",
       "        1.235000e-01, 0.000000e+00, 0.000000e+00, 0.000000e+00],\n",
       "       [0.000000e+00, 0.000000e+00, 0.000000e+00, 3.040000e-01,\n",
       "        1.199000e+00, 2.877000e+00, 5.556000e+00, 1.130100e+01,\n",
       "        1.884750e+01, 2.922500e+01, 3.930400e+01, 4.626550e+01,\n",
       "        4.797850e+01, 4.471800e+01, 3.767450e+01, 2.923650e+01,\n",
       "        2.281550e+01, 1.547500e+01, 9.842000e+00, 5.363000e+00,\n",
       "        3.127500e+00, 1.534500e+00, 8.580000e-01, 4.370000e-01,\n",
       "        6.900000e-02, 0.000000e+00, 0.000000e+00, 0.000000e+00],\n",
       "       [0.000000e+00, 0.000000e+00, 0.000000e+00, 1.900000e-02,\n",
       "        3.010000e-01, 1.139000e+00, 2.719000e+00, 5.506000e+00,\n",
       "        8.869000e+00, 1.271200e+01, 1.576800e+01, 1.671550e+01,\n",
       "        1.607650e+01, 1.471200e+01, 1.335100e+01, 1.048250e+01,\n",
       "        8.989500e+00, 6.077500e+00, 4.140000e+00, 2.247500e+00,\n",
       "        1.445000e+00, 6.285000e-01, 2.735000e-01, 1.265000e-01,\n",
       "        5.850000e-02, 0.000000e+00, 0.000000e+00, 0.000000e+00],\n",
       "       [0.000000e+00, 0.000000e+00, 0.000000e+00, 1.900000e-02,\n",
       "        2.110000e-01, 4.185000e-01, 1.416500e+00, 2.883500e+00,\n",
       "        4.357500e+00, 5.364500e+00, 5.801000e+00, 5.603500e+00,\n",
       "        5.268500e+00, 5.298500e+00, 4.850000e+00, 4.189000e+00,\n",
       "        3.425000e+00, 2.491500e+00, 1.413500e+00, 5.905000e-01,\n",
       "        3.350000e-01, 1.730000e-01, 3.900000e-02, 0.000000e+00,\n",
       "        0.000000e+00, 0.000000e+00, 0.000000e+00, 0.000000e+00],\n",
       "       [0.000000e+00, 0.000000e+00, 0.000000e+00, 0.000000e+00,\n",
       "        0.000000e+00, 8.850000e-02, 2.085000e-01, 4.035000e-01,\n",
       "        3.680000e-01, 3.550000e-01, 4.685000e-01, 6.325000e-01,\n",
       "        7.885000e-01, 6.365000e-01, 5.315000e-01, 6.200000e-01,\n",
       "        5.410000e-01, 3.405000e-01, 1.820000e-01, 1.335000e-01,\n",
       "        7.700000e-02, 9.450000e-02, 5.950000e-02, 0.000000e+00,\n",
       "        0.000000e+00, 0.000000e+00, 0.000000e+00, 0.000000e+00]])"
      ]
     },
     "execution_count": 358,
     "metadata": {},
     "output_type": "execute_result"
    }
   ],
   "source": [
    "promedio_2000_imagenes(datos_entrenamiento)"
   ]
  }
 ],
 "metadata": {
  "kernelspec": {
   "display_name": "Python 3",
   "language": "python",
   "name": "python3"
  },
  "language_info": {
   "codemirror_mode": {
    "name": "ipython",
    "version": 3
   },
   "file_extension": ".py",
   "mimetype": "text/x-python",
   "name": "python",
   "nbconvert_exporter": "python",
   "pygments_lexer": "ipython3",
   "version": "3.10.11"
  },
  "orig_nbformat": 4
 },
 "nbformat": 4,
 "nbformat_minor": 2
}
