{
 "cells": [
  {
   "cell_type": "code",
   "execution_count": 29,
   "metadata": {},
   "outputs": [],
   "source": [
    "import numpy as np\n",
    "import pandas as pd\n",
    "import matplotlib.pyplot as plt"
   ]
  },
  {
   "attachments": {},
   "cell_type": "markdown",
   "metadata": {},
   "source": [
    "### Ejercicio 1"
   ]
  },
  {
   "cell_type": "code",
   "execution_count": 34,
   "metadata": {},
   "outputs": [
    {
     "name": "stdout",
     "output_type": "stream",
     "text": [
      "       5  0  0.1  0.2  0.3  0.4  0.5  0.6  0.7  0.8  ...  0.608  0.609  0.610  \\\n",
      "0      0  0    0    0    0    0    0    0    0    0  ...      0      0      0   \n",
      "1      4  0    0    0    0    0    0    0    0    0  ...      0      0      0   \n",
      "2      1  0    0    0    0    0    0    0    0    0  ...      0      0      0   \n",
      "3      9  0    0    0    0    0    0    0    0    0  ...      0      0      0   \n",
      "4      2  0    0    0    0    0    0    0    0    0  ...      0      0      0   \n",
      "...   .. ..  ...  ...  ...  ...  ...  ...  ...  ...  ...    ...    ...    ...   \n",
      "59994  8  0    0    0    0    0    0    0    0    0  ...      0      0      0   \n",
      "59995  3  0    0    0    0    0    0    0    0    0  ...      0      0      0   \n",
      "59996  5  0    0    0    0    0    0    0    0    0  ...      0      0      0   \n",
      "59997  6  0    0    0    0    0    0    0    0    0  ...      0      0      0   \n",
      "59998  8  0    0    0    0    0    0    0    0    0  ...      0      0      0   \n",
      "\n",
      "       0.611  0.612  0.613  0.614  0.615  0.616  0.617  \n",
      "0          0      0      0      0      0      0      0  \n",
      "1          0      0      0      0      0      0      0  \n",
      "2          0      0      0      0      0      0      0  \n",
      "3          0      0      0      0      0      0      0  \n",
      "4          0      0      0      0      0      0      0  \n",
      "...      ...    ...    ...    ...    ...    ...    ...  \n",
      "59994      0      0      0      0      0      0      0  \n",
      "59995      0      0      0      0      0      0      0  \n",
      "59996      0      0      0      0      0      0      0  \n",
      "59997      0      0      0      0      0      0      0  \n",
      "59998      0      0      0      0      0      0      0  \n",
      "\n",
      "[59999 rows x 785 columns]\n"
     ]
    }
   ],
   "source": [
    "# Abrimos el archivo\n",
    "archivo_mnist = open(\"mnist_train.csv\", \"r\")\n",
    "# Leemos el CSV y listamos las filas\n",
    "datos_entrenamiento = pd.read_csv(archivo_mnist)\n",
    "\n",
    "print(datos_entrenamiento)"
   ]
  },
  {
   "attachments": {},
   "cell_type": "markdown",
   "metadata": {},
   "source": [
    "#### Inciso A"
   ]
  },
  {
   "cell_type": "code",
   "execution_count": 31,
   "metadata": {},
   "outputs": [],
   "source": [
    "def vector_a_matriz(vector): # matriz 28x28\n",
    "    matriz = []\n",
    "    fila = []\n",
    "    for i in range(0, 28):\n",
    "        for j in range(0, 28):\n",
    "            fila.append(int(vector[i*28+j]))\n",
    "        matriz.append(fila)\n",
    "        fila = []\n",
    "    return np.array(matriz)\n",
    "\n",
    "\n",
    "def remover_indice_vector(vector):\n",
    "    indice_del_vector = vector[0] \n",
    "    # Guardar matriz vectorizada sin el indice (primer elemento)\n",
    "    vector_sin_indice = vector\n",
    "    vector_sin_indice.pop(0)\n",
    "\n",
    "    return indice_del_vector, vector_sin_indice\n",
    "\n",
    "\n",
    "def graficar_matriz(datos, fila):\n",
    "    # Guardar la matriz vectorizada\n",
    "    vector = datos[fila]\n",
    "    \n",
    "    indice_del_vector, vector_sin_indice = remover_indice_vector(vector)\n",
    "    \n",
    "    matriz = vector_a_matriz(vector_sin_indice)\n",
    "\n",
    "    plt.imshow(matriz, cmap='gray')\n",
    "\n",
    "    plt.title(indice_del_vector)\n",
    "\n",
    "    plt.show()\n",
    "\n"
   ]
  },
  {
   "cell_type": "code",
   "execution_count": 32,
   "metadata": {},
   "outputs": [
    {
     "ename": "AttributeError",
     "evalue": "'str' object has no attribute 'pop'",
     "output_type": "error",
     "traceback": [
      "\u001b[1;31m---------------------------------------------------------------------------\u001b[0m",
      "\u001b[1;31mAttributeError\u001b[0m                            Traceback (most recent call last)",
      "Cell \u001b[1;32mIn[32], line 1\u001b[0m\n\u001b[1;32m----> 1\u001b[0m graficar_matriz(datos_entrenamiento, \u001b[39m2\u001b[39;49m)\n",
      "Cell \u001b[1;32mIn[31], line 25\u001b[0m, in \u001b[0;36mgraficar_matriz\u001b[1;34m(datos, fila)\u001b[0m\n\u001b[0;32m     21\u001b[0m \u001b[39mdef\u001b[39;00m \u001b[39mgraficar_matriz\u001b[39m(datos, fila):\n\u001b[0;32m     22\u001b[0m     \u001b[39m# Guardar la matriz vectorizada\u001b[39;00m\n\u001b[0;32m     23\u001b[0m     vector \u001b[39m=\u001b[39m datos[fila]\n\u001b[1;32m---> 25\u001b[0m     indice_del_vector, vector_sin_indice \u001b[39m=\u001b[39m remover_indice_vector(vector)\n\u001b[0;32m     27\u001b[0m     matriz \u001b[39m=\u001b[39m vector_a_matriz(vector_sin_indice)\n\u001b[0;32m     29\u001b[0m     plt\u001b[39m.\u001b[39mimshow(matriz, cmap\u001b[39m=\u001b[39m\u001b[39m'\u001b[39m\u001b[39mgray\u001b[39m\u001b[39m'\u001b[39m)\n",
      "Cell \u001b[1;32mIn[31], line 16\u001b[0m, in \u001b[0;36mremover_indice_vector\u001b[1;34m(vector)\u001b[0m\n\u001b[0;32m     14\u001b[0m \u001b[39m# Guardar matriz vectorizada sin el indice (primer elemento)\u001b[39;00m\n\u001b[0;32m     15\u001b[0m vector_sin_indice \u001b[39m=\u001b[39m vector\n\u001b[1;32m---> 16\u001b[0m vector_sin_indice\u001b[39m.\u001b[39;49mpop(\u001b[39m0\u001b[39m)\n\u001b[0;32m     18\u001b[0m \u001b[39mreturn\u001b[39;00m indice_del_vector, vector_sin_indice\n",
      "\u001b[1;31mAttributeError\u001b[0m: 'str' object has no attribute 'pop'"
     ]
    }
   ],
   "source": [
    "graficar_matriz(datos_entrenamiento, 2)"
   ]
  },
  {
   "attachments": {},
   "cell_type": "markdown",
   "metadata": {},
   "source": [
    "#### Inciso B"
   ]
  },
  {
   "cell_type": "code",
   "execution_count": null,
   "metadata": {},
   "outputs": [],
   "source": [
    "def cantidad_indices(datos):\n",
    "    indices = []\n",
    "    for i in range(0, len(datos)):\n",
    "        indices.append(int(datos[i][0]))\n",
    "    \n",
    "    for j in range(0, 10):\n",
    "        print(\"Hay\", indices.count(j), \"imagenes del digito\", j)\n",
    "    "
   ]
  },
  {
   "cell_type": "code",
   "execution_count": null,
   "metadata": {},
   "outputs": [
    {
     "name": "stdout",
     "output_type": "stream",
     "text": [
      "Hay 5924 imagenes del digito 0\n",
      "Hay 6742 imagenes del digito 1\n",
      "Hay 5958 imagenes del digito 2\n",
      "Hay 6131 imagenes del digito 3\n",
      "Hay 5841 imagenes del digito 4\n",
      "Hay 5421 imagenes del digito 5\n",
      "Hay 5918 imagenes del digito 6\n",
      "Hay 6265 imagenes del digito 7\n",
      "Hay 5851 imagenes del digito 8\n",
      "Hay 5949 imagenes del digito 9\n"
     ]
    }
   ],
   "source": [
    "cantidad_indices(datos_entrenamiento)"
   ]
  },
  {
   "attachments": {},
   "cell_type": "markdown",
   "metadata": {},
   "source": [
    "Correr la funcion con las imagenes de testeo"
   ]
  },
  {
   "attachments": {},
   "cell_type": "markdown",
   "metadata": {},
   "source": [
    "#### Inciso C"
   ]
  },
  {
   "cell_type": "code",
   "execution_count": null,
   "metadata": {},
   "outputs": [],
   "source": [
    "def promedio_2000_imagenes(datos):\n",
    "    suma = np.zeros((28,28))\n",
    "\n",
    "    for i in range(0, 2000):\n",
    "       _, vector = remover_indice_vector(datos[i])\n",
    "       suma = suma + vector_a_matriz(vector)\n",
    "\n",
    "    promedio = suma / 2000\n",
    "\n",
    "    return promedio"
   ]
  },
  {
   "cell_type": "code",
   "execution_count": null,
   "metadata": {},
   "outputs": [
    {
     "ename": "IndexError",
     "evalue": "list index out of range",
     "output_type": "error",
     "traceback": [
      "\u001b[1;31m---------------------------------------------------------------------------\u001b[0m",
      "\u001b[1;31mIndexError\u001b[0m                                Traceback (most recent call last)",
      "Cell \u001b[1;32mIn[17], line 1\u001b[0m\n\u001b[1;32m----> 1\u001b[0m promedio_2000_imagenes(datos_entrenamiento)\n",
      "Cell \u001b[1;32mIn[16], line 6\u001b[0m, in \u001b[0;36mpromedio_2000_imagenes\u001b[1;34m(datos)\u001b[0m\n\u001b[0;32m      4\u001b[0m \u001b[39mfor\u001b[39;00m i \u001b[39min\u001b[39;00m \u001b[39mrange\u001b[39m(\u001b[39m0\u001b[39m, \u001b[39m2000\u001b[39m):\n\u001b[0;32m      5\u001b[0m    _, vector \u001b[39m=\u001b[39m remover_indice_vector(datos[i])\n\u001b[1;32m----> 6\u001b[0m    suma \u001b[39m=\u001b[39m suma \u001b[39m+\u001b[39m vector_a_matriz(vector)\n\u001b[0;32m      8\u001b[0m promedio \u001b[39m=\u001b[39m suma \u001b[39m/\u001b[39m \u001b[39m2000\u001b[39m\n\u001b[0;32m     10\u001b[0m \u001b[39mreturn\u001b[39;00m promedio\n",
      "Cell \u001b[1;32mIn[12], line 6\u001b[0m, in \u001b[0;36mvector_a_matriz\u001b[1;34m(vector)\u001b[0m\n\u001b[0;32m      4\u001b[0m \u001b[39mfor\u001b[39;00m i \u001b[39min\u001b[39;00m \u001b[39mrange\u001b[39m(\u001b[39m0\u001b[39m, \u001b[39m28\u001b[39m):\n\u001b[0;32m      5\u001b[0m     \u001b[39mfor\u001b[39;00m j \u001b[39min\u001b[39;00m \u001b[39mrange\u001b[39m(\u001b[39m0\u001b[39m, \u001b[39m28\u001b[39m):\n\u001b[1;32m----> 6\u001b[0m         fila\u001b[39m.\u001b[39mappend(\u001b[39mint\u001b[39m(vector[i\u001b[39m*\u001b[39;49m\u001b[39m28\u001b[39;49m\u001b[39m+\u001b[39;49mj]))\n\u001b[0;32m      7\u001b[0m     matriz\u001b[39m.\u001b[39mappend(fila)\n\u001b[0;32m      8\u001b[0m     fila \u001b[39m=\u001b[39m []\n",
      "\u001b[1;31mIndexError\u001b[0m: list index out of range"
     ]
    }
   ],
   "source": [
    "promedio_2000_imagenes(datos_entrenamiento)"
   ]
  },
  {
   "cell_type": "code",
   "execution_count": null,
   "metadata": {},
   "outputs": [],
   "source": []
  }
 ],
 "metadata": {
  "kernelspec": {
   "display_name": "Python 3",
   "language": "python",
   "name": "python3"
  },
  "language_info": {
   "codemirror_mode": {
    "name": "ipython",
    "version": 3
   },
   "file_extension": ".py",
   "mimetype": "text/x-python",
   "name": "python",
   "nbconvert_exporter": "python",
   "pygments_lexer": "ipython3",
   "version": "3.11.3"
  },
  "orig_nbformat": 4
 },
 "nbformat": 4,
 "nbformat_minor": 2
}
