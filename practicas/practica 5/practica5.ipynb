{
 "cells": [
  {
   "cell_type": "code",
   "execution_count": 161,
   "metadata": {},
   "outputs": [],
   "source": [
    "import numpy as np"
   ]
  },
  {
   "cell_type": "code",
   "execution_count": 162,
   "metadata": {},
   "outputs": [
    {
     "name": "stdout",
     "output_type": "stream",
     "text": [
      "[1.875 2.5   3.125]\n"
     ]
    }
   ],
   "source": [
    "A = np.array([[4, -1, 0], [-1, 4, -1], [0, -1, 4]])\n",
    "b = np.array([5, 5, 10])\n",
    "print(np.linalg.solve(A, b))"
   ]
  },
  {
   "cell_type": "code",
   "execution_count": 163,
   "metadata": {},
   "outputs": [],
   "source": [
    "def jacobi(matriz, igualdad, iteraciones):\n",
    "\n",
    "    D = np.diag(np.diag(matriz))\n",
    "\n",
    "    Mj = np.eye(np.shape(matriz)[0],np.shape(matriz)[1])-(np.linalg.inv(D)@matriz)\n",
    "\n",
    "    x = np.zeros(np.shape(matriz)[0])\n",
    "\n",
    "    for i in range(iteraciones):\n",
    "        x_k = (Mj@x) + (np.linalg.inv(D)@igualdad)\n",
    "\n",
    "        if np.array_equal(x_k, x):\n",
    "            print(\"iteraciones:\", i)\n",
    "            return x_k\n",
    "\n",
    "        x = x_k\n",
    "    \n",
    "    print(\"No alcanzo la solucion exacta\")\n",
    "    return x"
   ]
  },
  {
   "cell_type": "code",
   "execution_count": 164,
   "metadata": {},
   "outputs": [
    {
     "name": "stdout",
     "output_type": "stream",
     "text": [
      "iteraciones: 36\n"
     ]
    },
    {
     "data": {
      "text/plain": [
       "array([1.875, 2.5  , 3.125])"
      ]
     },
     "execution_count": 164,
     "metadata": {},
     "output_type": "execute_result"
    }
   ],
   "source": [
    "jacobi(A, b, 100)"
   ]
  },
  {
   "cell_type": "code",
   "execution_count": 165,
   "metadata": {},
   "outputs": [],
   "source": [
    "def gauss_seidel(matriz, igualdad, iteraciones):\n",
    "\n",
    "    L, D = np.tril(A), np.diag(np.diag(matriz))\n",
    "\n",
    "    Mgs = np.eye(np.shape(matriz)[0],np.shape(matriz)[1])-(np.linalg.inv(D+L)@matriz)\n",
    "\n",
    "    x = np.zeros(np.shape(matriz)[0])\n",
    "\n",
    "    for i in range(iteraciones):\n",
    "        x_k = (Mgs@x) + (np.linalg.inv(D+L)@igualdad)\n",
    "\n",
    "        if np.array_equal(x_k, x):\n",
    "            print(\"iteraciones:\", i)\n",
    "            return x_k\n",
    "\n",
    "        x = x_k\n",
    "    \n",
    "    print(\"No alcanzo la solucion exacta\")\n",
    "    return x"
   ]
  },
  {
   "cell_type": "code",
   "execution_count": 166,
   "metadata": {},
   "outputs": [
    {
     "name": "stdout",
     "output_type": "stream",
     "text": [
      "iteraciones: 84\n"
     ]
    },
    {
     "data": {
      "text/plain": [
       "array([1.875, 2.5  , 3.125])"
      ]
     },
     "execution_count": 166,
     "metadata": {},
     "output_type": "execute_result"
    }
   ],
   "source": [
    "gauss_seidel(A, b, 100)"
   ]
  },
  {
   "cell_type": "code",
   "execution_count": 167,
   "metadata": {},
   "outputs": [],
   "source": [
    "A = np.array([[3,1,1], [2,6,1], [1,1,4]])\n",
    "b = np.array([5, 9, 6])"
   ]
  },
  {
   "cell_type": "code",
   "execution_count": 168,
   "metadata": {},
   "outputs": [
    {
     "name": "stdout",
     "output_type": "stream",
     "text": [
      "iteraciones: 65\n"
     ]
    },
    {
     "data": {
      "text/plain": [
       "array([1., 1., 1.])"
      ]
     },
     "execution_count": 168,
     "metadata": {},
     "output_type": "execute_result"
    }
   ],
   "source": [
    "jacobi(A, b, 100)"
   ]
  },
  {
   "cell_type": "code",
   "execution_count": 169,
   "metadata": {},
   "outputs": [
    {
     "name": "stdout",
     "output_type": "stream",
     "text": [
      "iteraciones: 81\n"
     ]
    },
    {
     "data": {
      "text/plain": [
       "array([1., 1., 1.])"
      ]
     },
     "execution_count": 169,
     "metadata": {},
     "output_type": "execute_result"
    }
   ],
   "source": [
    "gauss_seidel(A, b, 100)"
   ]
  }
 ],
 "metadata": {
  "kernelspec": {
   "display_name": "Python 3",
   "language": "python",
   "name": "python3"
  },
  "language_info": {
   "codemirror_mode": {
    "name": "ipython",
    "version": 3
   },
   "file_extension": ".py",
   "mimetype": "text/x-python",
   "name": "python",
   "nbconvert_exporter": "python",
   "pygments_lexer": "ipython3",
   "version": "3.10.11"
  },
  "orig_nbformat": 4
 },
 "nbformat": 4,
 "nbformat_minor": 2
}
