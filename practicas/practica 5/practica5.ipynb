{
 "cells": [
  {
   "cell_type": "code",
   "execution_count": 72,
   "metadata": {},
   "outputs": [],
   "source": [
    "import numpy as np\n",
    "import matplotlib.pyplot as plt"
   ]
  },
  {
   "cell_type": "code",
   "execution_count": 73,
   "metadata": {},
   "outputs": [
    {
     "name": "stdout",
     "output_type": "stream",
     "text": [
      "[1.875 2.5   3.125]\n"
     ]
    }
   ],
   "source": [
    "A = np.array([[4, -1, 0], [-1, 4, -1], [0, -1, 4]])\n",
    "b = np.array([5, 5, 10])\n",
    "print(np.linalg.solve(A, b))"
   ]
  },
  {
   "attachments": {},
   "cell_type": "markdown",
   "metadata": {},
   "source": [
    "#### Jacobi"
   ]
  },
  {
   "cell_type": "code",
   "execution_count": 74,
   "metadata": {},
   "outputs": [],
   "source": [
    "def jacobi(matriz, igualdad, iteraciones):\n",
    "\n",
    "    D = np.diag(np.diag(matriz))\n",
    "\n",
    "    Mj = np.eye(np.shape(matriz)[0],np.shape(matriz)[1])-(np.linalg.inv(D)@matriz)\n",
    "\n",
    "    x = np.zeros(np.shape(matriz)[0])\n",
    "\n",
    "    for i in range(iteraciones):\n",
    "        x_k = (Mj@x) + (np.linalg.inv(D)@igualdad)\n",
    "\n",
    "        if np.array_equal(x_k, x):\n",
    "            print(\"iteraciones:\", i)\n",
    "            return x_k\n",
    "\n",
    "        x = x_k\n",
    "    \n",
    "    print(\"No alcanzo la solucion exacta\")\n",
    "    return x"
   ]
  },
  {
   "cell_type": "code",
   "execution_count": 75,
   "metadata": {},
   "outputs": [
    {
     "name": "stdout",
     "output_type": "stream",
     "text": [
      "iteraciones: 36\n"
     ]
    },
    {
     "data": {
      "text/plain": [
       "array([1.875, 2.5  , 3.125])"
      ]
     },
     "execution_count": 75,
     "metadata": {},
     "output_type": "execute_result"
    }
   ],
   "source": [
    "jacobi(A, b, 100)"
   ]
  },
  {
   "attachments": {},
   "cell_type": "markdown",
   "metadata": {},
   "source": [
    "#### Gauss-Seidel"
   ]
  },
  {
   "cell_type": "code",
   "execution_count": 76,
   "metadata": {},
   "outputs": [],
   "source": [
    "def gauss_seidel(matriz, igualdad, iteraciones):\n",
    "\n",
    "    L, D = np.tril(matriz, k=-1), np.diag(np.diag(matriz))\n",
    "\n",
    "    Mgs = np.eye(np.shape(matriz)[0],np.shape(matriz)[1])-(np.linalg.inv(D+L)@matriz)\n",
    "\n",
    "    x = np.zeros(np.shape(matriz)[0])\n",
    "\n",
    "    for i in range(iteraciones):\n",
    "        x_k = (Mgs@x) + (np.linalg.inv(D+L)@igualdad)\n",
    "\n",
    "        if np.array_equal(x_k, x):\n",
    "            print(\"iteraciones:\", i)\n",
    "            return x_k\n",
    "\n",
    "        x = x_k\n",
    "    \n",
    "    print(\"No alcanzo la solucion exacta\")\n",
    "    return x"
   ]
  },
  {
   "cell_type": "code",
   "execution_count": 86,
   "metadata": {},
   "outputs": [],
   "source": [
    "def gauss_seidel2(matriz, igualdad, iteraciones):\n",
    "\n",
    "    L, D, U = np.tril(matriz, k=-1), np.diag(np.diag(matriz)), np.triu(matriz, k=1)\n",
    "\n",
    "    Mgs = (-1)*np.linalg.inv(L+D)@U\n",
    "\n",
    "    x = np.zeros(np.shape(matriz)[0])\n",
    "\n",
    "    for i in range(iteraciones):\n",
    "        x_k = (Mgs@x) + (np.linalg.inv(D+L)@igualdad)\n",
    "\n",
    "        if np.array_equal(x_k, x):\n",
    "            print(\"iteraciones:\", i)\n",
    "            return x_k\n",
    "\n",
    "        x = x_k\n",
    "    \n",
    "    print(\"No alcanzo la solucion exacta\")\n",
    "    return x"
   ]
  },
  {
   "cell_type": "code",
   "execution_count": 79,
   "metadata": {},
   "outputs": [
    {
     "name": "stdout",
     "output_type": "stream",
     "text": [
      "iteraciones: 19\n"
     ]
    },
    {
     "data": {
      "text/plain": [
       "array([1.875, 2.5  , 3.125])"
      ]
     },
     "execution_count": 79,
     "metadata": {},
     "output_type": "execute_result"
    }
   ],
   "source": [
    "gauss_seidel(A, b, 100)"
   ]
  },
  {
   "cell_type": "code",
   "execution_count": 87,
   "metadata": {},
   "outputs": [
    {
     "name": "stdout",
     "output_type": "stream",
     "text": [
      "iteraciones: 19\n"
     ]
    },
    {
     "data": {
      "text/plain": [
       "array([1.875, 2.5  , 3.125])"
      ]
     },
     "execution_count": 87,
     "metadata": {},
     "output_type": "execute_result"
    }
   ],
   "source": [
    "gauss_seidel2(A, b, 100)"
   ]
  },
  {
   "cell_type": "code",
   "execution_count": 56,
   "metadata": {},
   "outputs": [],
   "source": [
    "A = np.array([[3,1,1], [2,6,1], [1,1,4]])\n",
    "b = np.array([5, 9, 6])"
   ]
  },
  {
   "cell_type": "code",
   "execution_count": 57,
   "metadata": {},
   "outputs": [
    {
     "name": "stdout",
     "output_type": "stream",
     "text": [
      "iteraciones: 65\n"
     ]
    },
    {
     "data": {
      "text/plain": [
       "array([1., 1., 1.])"
      ]
     },
     "execution_count": 57,
     "metadata": {},
     "output_type": "execute_result"
    }
   ],
   "source": [
    "jacobi(A, b, 100)"
   ]
  },
  {
   "cell_type": "code",
   "execution_count": 58,
   "metadata": {},
   "outputs": [
    {
     "name": "stdout",
     "output_type": "stream",
     "text": [
      "iteraciones: 18\n"
     ]
    },
    {
     "data": {
      "text/plain": [
       "array([1., 1., 1.])"
      ]
     },
     "execution_count": 58,
     "metadata": {},
     "output_type": "execute_result"
    }
   ],
   "source": [
    "gauss_seidel(A, b, 100)"
   ]
  },
  {
   "attachments": {},
   "cell_type": "markdown",
   "metadata": {},
   "source": [
    "Podemos ver como Gauss-Seidel converge mas rapido que Jacobi, puesto que utilizamos mas informacion en la iteracion (considerando L)"
   ]
  },
  {
   "attachments": {},
   "cell_type": "markdown",
   "metadata": {},
   "source": [
    "#### Metodo SOR"
   ]
  },
  {
   "cell_type": "code",
   "execution_count": 59,
   "metadata": {},
   "outputs": [
    {
     "name": "stdout",
     "output_type": "stream",
     "text": [
      "[0.6 0.6]\n"
     ]
    }
   ],
   "source": [
    "A = np.array([[1, 2/3],[2/3, 1]])\n",
    "b = np.array([1,1])\n",
    "x_i = np.linalg.solve(A, b)\n",
    "print(x_i)"
   ]
  },
  {
   "cell_type": "code",
   "execution_count": 60,
   "metadata": {},
   "outputs": [],
   "source": [
    "def sor(A, b, w, iteraciones):\n",
    "\n",
    "    L, D, U = np.tril(A, k=-1), np.diag(np.diag(A)), np.triu(A, k=1)\n",
    "\n",
    "    x = np.zeros(np.shape(A)[0])\n",
    "\n",
    "    i = 0\n",
    "\n",
    "    for i in range(iteraciones):\n",
    "        \n",
    "        x_k = np.linalg.inv( D + w*L ) @ (w*b - ( w*U + (w-1)*D ) @ x )\n",
    "\n",
    "        r = b - A @ x_k # residuo\n",
    "        \n",
    "        i += 1\n",
    "\n",
    "        if np.linalg.norm(r) < 1e-10:\n",
    "            return x_k, i\n",
    "\n",
    "        x = x_k\n",
    "\n",
    "    return x, i"
   ]
  },
  {
   "cell_type": "code",
   "execution_count": 61,
   "metadata": {},
   "outputs": [
    {
     "name": "stdout",
     "output_type": "stream",
     "text": [
      "Metodo SOR con w = 1\n",
      "solucion:  [0.6 0.6]\n",
      "iteraciones:  28 \n",
      "\n",
      "Metodo SOR con w = 1.25\n",
      "solucion:  [0.6 0.6]\n",
      "iteraciones:  17 \n",
      "\n",
      "Metodo SOR con w = 1.5\n",
      "solucion:  [0.6 0.6]\n",
      "iteraciones:  34 \n",
      "\n",
      "Metodo SOR con w = 1.75\n",
      "solucion:  [0.6 0.6]\n",
      "iteraciones:  80 \n",
      "\n"
     ]
    }
   ],
   "source": [
    "omega = [1, 1.25, 1.5, 1.75]\n",
    "for w in omega:\n",
    "    x, i = sor(A, b, w, 1000)\n",
    "    print(\"Metodo SOR con w =\", w)\n",
    "    print(\"solucion: \",x)\n",
    "    print(\"iteraciones: \",i, \"\\n\")\n",
    "    w += 0.5"
   ]
  },
  {
   "attachments": {},
   "cell_type": "markdown",
   "metadata": {},
   "source": [
    "Observemos como nuestro omega mas \"relajador\" es 1.25, el cual converge mas rapido que nuestro w = 1 o bien Gauss-Seidel.\n",
    "\n",
    "Es realmente 1.25 el mejor omega?"
   ]
  },
  {
   "cell_type": "code",
   "execution_count": 62,
   "metadata": {},
   "outputs": [],
   "source": [
    "def sor_radio_espectral(A, omega):\n",
    "\n",
    "    L, D, U = np.tril(A, k=-1), np.diag(np.diag(A)), np.triu(A, k=1)\n",
    "    \n",
    "    M = np.linalg.inv(D + omega * L) @ ((1 - omega) * D - omega * U)\n",
    "    \n",
    "    rho_M = np.max(np.abs(np.linalg.eigvals(M)))  \n",
    "\n",
    "    return rho_M\n",
    "\n",
    "def grafico_radio_espectral(A):\n",
    "\n",
    "    omegas = np.linspace(0, 2, num=100)\n",
    "    radio_espectral = []\n",
    "\n",
    "    for omega in omegas:\n",
    "        rho_M = sor_radio_espectral(A, omega)\n",
    "        radio_espectral.append(rho_M)\n",
    "\n",
    "    plt.plot(omegas, radio_espectral)\n",
    "    plt.xlabel('Omega')\n",
    "    plt.ylabel('Radio Espectral')\n",
    "    plt.title('Evolucion del radio espectral en funcion de omega')\n",
    "    plt.grid(True)\n",
    "    plt.show()\n"
   ]
  },
  {
   "cell_type": "code",
   "execution_count": 63,
   "metadata": {},
   "outputs": [
    {
     "data": {
      "image/png": "[encoded data removed]",
      "text/plain": [
       "<Figure size 640x480 with 1 Axes>"
      ]
     },
     "metadata": {},
     "output_type": "display_data"
    }
   ],
   "source": [
    "A = np.array([[1, 2/3],[2/3, 1]])\n",
    "grafico_radio_espectral(A)"
   ]
  },
  {
   "attachments": {},
   "cell_type": "markdown",
   "metadata": {},
   "source": [
    "Existe un omega incluso mejor entre 1 y 1.25. Probemos con 1.15"
   ]
  },
  {
   "cell_type": "code",
   "execution_count": 64,
   "metadata": {},
   "outputs": [
    {
     "name": "stdout",
     "output_type": "stream",
     "text": [
      "Metodo SOR con w = 1.15\n",
      "solucion:  [0.6 0.6]\n",
      "iteraciones:  14\n"
     ]
    }
   ],
   "source": [
    "x, i = sor(A, b, 1.15, 1000)\n",
    "print(\"Metodo SOR con w = 1.15\")\n",
    "print(\"solucion: \",x)\n",
    "print(\"iteraciones: \",i)"
   ]
  },
  {
   "attachments": {},
   "cell_type": "markdown",
   "metadata": {},
   "source": [
    "Efectivamente converge mas rapido, puesto que obtenemos un radio espectral mas cercano el cero y esto acelera la convergencia"
   ]
  },
  {
   "cell_type": "code",
   "execution_count": 65,
   "metadata": {},
   "outputs": [],
   "source": [
    "A = np.array([[5,7,6,5],[7,10,8,7],[6,8,10,9],[5,7,9,10]])\n",
    "b = np.array([23,32,33,31])"
   ]
  },
  {
   "cell_type": "code",
   "execution_count": 66,
   "metadata": {},
   "outputs": [
    {
     "name": "stdout",
     "output_type": "stream",
     "text": [
      "No alcanzo la solucion exacta\n"
     ]
    },
    {
     "data": {
      "text/plain": [
       "array([-3.14611569e+39, -2.18934043e+39, -2.21913648e+39, -2.06108595e+39])"
      ]
     },
     "execution_count": 66,
     "metadata": {},
     "output_type": "execute_result"
    }
   ],
   "source": [
    "jacobi(A, b, 100)"
   ]
  },
  {
   "cell_type": "code",
   "execution_count": 67,
   "metadata": {},
   "outputs": [
    {
     "name": "stdout",
     "output_type": "stream",
     "text": [
      "No alcanzo la solucion exacta\n"
     ]
    },
    {
     "data": {
      "text/plain": [
       "array([2.0301599 , 0.3808344 , 0.73843982, 1.15374013])"
      ]
     },
     "execution_count": 67,
     "metadata": {},
     "output_type": "execute_result"
    }
   ],
   "source": [
    "gauss_seidel(A, b, 100)"
   ]
  },
  {
   "cell_type": "code",
   "execution_count": 68,
   "metadata": {},
   "outputs": [],
   "source": [
    "A = np.array([[5,7,6,5],[7,10,8,7],[6,8,10,9],[5,7,9,10]])\n",
    "L, D, U = np.tril(A, k=-1), np.diag(np.diag(A)), np.triu(A, k=1)"
   ]
  },
  {
   "cell_type": "code",
   "execution_count": 69,
   "metadata": {},
   "outputs": [],
   "source": [
    "Mj = np.linalg.inv(D) @ ( L + U )\n",
    "Mgs = np.linalg.inv(L + D) @ U"
   ]
  },
  {
   "cell_type": "code",
   "execution_count": 70,
   "metadata": {},
   "outputs": [
    {
     "data": {
      "text/plain": [
       "array([ 2.47579145, -0.56219805, -0.99845116, -0.91514225])"
      ]
     },
     "execution_count": 70,
     "metadata": {},
     "output_type": "execute_result"
    }
   ],
   "source": [
    "np.linalg.eigvals(Mj)"
   ]
  },
  {
   "cell_type": "code",
   "execution_count": 71,
   "metadata": {},
   "outputs": [
    {
     "data": {
      "text/plain": [
       "array([ 0.        , -0.99689759, -0.83727977, -0.60382264])"
      ]
     },
     "execution_count": 71,
     "metadata": {},
     "output_type": "execute_result"
    }
   ],
   "source": [
    "np.linalg.eigvals(Mgs)"
   ]
  }
 ],
 "metadata": {
  "kernelspec": {
   "display_name": "Python 3",
   "language": "python",
   "name": "python3"
  },
  "language_info": {
   "codemirror_mode": {
    "name": "ipython",
    "version": 3
   },
   "file_extension": ".py",
   "mimetype": "text/x-python",
   "name": "python",
   "nbconvert_exporter": "python",
   "pygments_lexer": "ipython3",
   "version": "3.11.3"
  },
  "orig_nbformat": 4
 },
 "nbformat": 4,
 "nbformat_minor": 2
}
