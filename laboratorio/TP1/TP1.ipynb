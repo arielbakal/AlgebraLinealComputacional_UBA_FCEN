{
  "nbformat": 4,
  "nbformat_minor": 0,
  "metadata": {
    "colab": {
      "provenance": [],
      "include_colab_link": true
    },
    "kernelspec": {
      "name": "python3",
      "display_name": "Python 3"
    },
    "language_info": {
      "name": "python"
    }
  },
  "cells": [
    {
      "cell_type": "markdown",
      "metadata": {
        "id": "view-in-github",
        "colab_type": "text"
      },
      "source": [
        "<a href=\"https://colab.research.google.com/github/arielbakal/uba_alc/blob/main/laboratorio/TP1/TP1.ipynb\" target=\"_parent\"><img src=\"https://colab.research.google.com/assets/colab-badge.svg\" alt=\"Open In Colab\"/></a>"
      ]
    },
    {
      "cell_type": "code",
      "execution_count": 31,
      "metadata": {
        "id": "Pi9VqXAtG4Ny"
      },
      "outputs": [],
      "source": [
        "import numpy as np\n",
        "import matplotlib.pyplot as plt\n",
        "import math as mt"
      ]
    },
    {
      "cell_type": "markdown",
      "source": [
        "### Ejercicio 1"
      ],
      "metadata": {
        "id": "B8qMmCxoWQd8"
      }
    },
    {
      "cell_type": "code",
      "source": [
        "def met_pot(A,k):\n",
        "  x = np.random.rand(A.shape[1])\n",
        "  for i in range(k):\n",
        "    Ax = A@x\n",
        "    Ax_norma = np.linalg.norm(Ax)\n",
        "    x = Ax/Ax_norma\n",
        "    print(x)\n",
        "  return x"
      ],
      "metadata": {
        "id": "f1ASpDgzMHyy"
      },
      "execution_count": 32,
      "outputs": []
    },
    {
      "cell_type": "code",
      "source": [
        "A = np.array([[3,1],[0,2]])\n",
        "x = met_pot(A, 50)"
      ],
      "metadata": {
        "colab": {
          "base_uri": "https://localhost:8080/"
        },
        "id": "rAhCNqRLP9sJ",
        "outputId": "e5243652-30f5-4e06-e5a2-7d56d5b624d5"
      },
      "execution_count": 33,
      "outputs": [
        {
          "output_type": "stream",
          "name": "stdout",
          "text": [
            "[0.88365362 0.4681413 ]\n",
            "[0.95777962 0.28750338]\n",
            "[0.98385302 0.17897829]\n",
            "[0.9935262  0.11360326]\n",
            "[0.99731485 0.07323307]\n",
            "[0.9988603  0.04772944]\n",
            "[0.99950875 0.03134108]\n",
            "[0.99978607 0.02068366]\n",
            "[0.9999062  0.01369632]\n",
            "[0.99995869 0.00908985]\n",
            "[0.99998175 0.00604174]\n",
            "[0.99999192 0.00401977]\n",
            "[0.99999642 0.00267627]\n",
            "[0.99999841 0.00178259]\n",
            "[0.99999929 0.00118769]\n",
            "[9.99999687e-01 7.91481426e-04]\n",
            "[9.99999861e-01 5.27515203e-04]\n",
            "[9.99999938e-01 3.51615002e-04]\n",
            "[9.99999973e-01 2.34382538e-04]\n",
            "[9.99999988e-01 1.56242821e-04]\n",
            "[9.99999995e-01 1.04156457e-04]\n",
            "[9.99999998e-01 6.94352275e-05]\n",
            "[9.99999999e-01 4.62890803e-05]\n",
            "[1.00000000e+00 3.08589108e-05]\n",
            "[1.00000000e+00 2.05723956e-05]\n",
            "[1.00000000e+00 1.37148363e-05]\n",
            "[1.00000000e+00 9.14318242e-06]\n",
            "[1.00000000e+00 6.09543637e-06]\n",
            "[1.00000000e+00 4.06361599e-06]\n",
            "[1.00000000e+00 2.70907366e-06]\n",
            "[1.00000000e+00 1.80604747e-06]\n",
            "[1.00000000e+00 1.20403092e-06]\n",
            "[1.00000000e+00 8.02686961e-07]\n",
            "[1.00000000e+00 5.35124497e-07]\n",
            "[1.00000000e+00 3.56749601e-07]\n",
            "[1.00000000e+00 2.37833039e-07]\n",
            "[1.00000000e+00 1.58555347e-07]\n",
            "[1.00000000e+00 1.05703559e-07]\n",
            "[1.00000000e+00 7.04690369e-08]\n",
            "[1.00000000e+00 4.69793568e-08]\n",
            "[1.00000000e+00 3.13195707e-08]\n",
            "[1.00000000e+00 2.08797136e-08]\n",
            "[1.0000000e+00 1.3919809e-08]\n",
            "[1.0000000e+00 9.2798726e-09]\n",
            "[1.00000000e+00 6.18658171e-09]\n",
            "[1.0000000e+00 4.1243878e-09]\n",
            "[1.00000000e+00 2.74959186e-09]\n",
            "[1.00000000e+00 1.83306124e-09]\n",
            "[1.00000000e+00 1.22204083e-09]\n",
            "[1.00000000e+00 8.14693884e-10]\n"
          ]
        }
      ]
    },
    {
      "cell_type": "code",
      "source": [
        "def rayleigh(A, x):\n",
        "  a_valor = ( np.transpose(x)@(A@x) / (np.transpose(x)@x) )\n",
        "  return a_valor\n",
        "  print(\"autovalor =\", a_valor)"
      ],
      "metadata": {
        "id": "CA-UkAVXTcgs"
      },
      "execution_count": 34,
      "outputs": []
    },
    {
      "cell_type": "code",
      "source": [
        "rayleigh(A,x)"
      ],
      "metadata": {
        "colab": {
          "base_uri": "https://localhost:8080/"
        },
        "id": "ec_BAT0YTSEa",
        "outputId": "1b1dde96-f5f5-4dd6-9f61-9a135e3f7ffa"
      },
      "execution_count": 35,
      "outputs": [
        {
          "output_type": "execute_result",
          "data": {
            "text/plain": [
              "3.000000000814694"
            ]
          },
          "metadata": {},
          "execution_count": 35
        }
      ]
    },
    {
      "cell_type": "code",
      "source": [
        "np.linalg.eigvals(A)"
      ],
      "metadata": {
        "colab": {
          "base_uri": "https://localhost:8080/"
        },
        "id": "eaPNd0AfVS-U",
        "outputId": "927a2c84-1200-4ecc-b006-51e7ba2e0b16"
      },
      "execution_count": 36,
      "outputs": [
        {
          "output_type": "execute_result",
          "data": {
            "text/plain": [
              "array([3., 2.])"
            ]
          },
          "metadata": {},
          "execution_count": 36
        }
      ]
    },
    {
      "cell_type": "markdown",
      "source": [
        "### Ejercicio 2"
      ],
      "metadata": {
        "id": "-l9e2mdiWTA9"
      }
    },
    {
      "cell_type": "markdown",
      "source": [
        "**NOTAS** : Consultar generador random de numeros"
      ],
      "metadata": {
        "id": "frMg6ZtWDVfr"
      }
    },
    {
      "cell_type": "code",
      "source": [
        "import random\n",
        "def genMat(n,m):\n",
        "  global A,B,C,D\n",
        "  A = np.random.rand(n,m)\n",
        "  print(\"A =\\n\",A)\n",
        "  B = np.zeros([n,m])\n",
        "  C = np.zeros([n,m])\n",
        "  D = np.zeros([n,m])\n",
        "  for i in range(n):\n",
        "    for j in range(m):\n",
        "      if i == j:\n",
        "        # B\n",
        "        B[i][j] = random.uniform(-10, 10)\n",
        "        # C\n",
        "        C[i][j] = B[i][j] + 100\n",
        "        # D\n",
        "        D[i][j] = B[i][j] + 1000\n",
        "      else :\n",
        "        rnd = random.uniform(-10, 10)\n",
        "        # B\n",
        "        B[i][j] = rnd\n",
        "        B[j][i] = B[i][j]\n",
        "        # C\n",
        "        C[i][j] = B[i][j]\n",
        "        C[j][i] = B[i][j]\n",
        "        # D\n",
        "        D[i][j] = B[i][j]\n",
        "        D[j][i] = B[i][j] \n",
        "  print(\"B =\\n\",B)\n",
        "  print(\"C =\\n\",C)\n",
        "  print(\"D =\\n\",D)\n"
      ],
      "metadata": {
        "id": "MS9QdAw5WV6C"
      },
      "execution_count": 37,
      "outputs": []
    },
    {
      "cell_type": "code",
      "source": [
        "genMat(5,5)"
      ],
      "metadata": {
        "id": "SmIHqg9AFZb3",
        "outputId": "1fe26415-dba1-41e1-e940-081cf51366d6",
        "colab": {
          "base_uri": "https://localhost:8080/"
        }
      },
      "execution_count": 38,
      "outputs": [
        {
          "output_type": "stream",
          "name": "stdout",
          "text": [
            "A =\n",
            " [[0.08877483 0.08101712 0.4346048  0.02026289 0.29916216]\n",
            " [0.70949283 0.00380251 0.17431646 0.43797739 0.55099963]\n",
            " [0.84402234 0.54497826 0.26773573 0.41896221 0.63473786]\n",
            " [0.35000609 0.78276486 0.51548026 0.8891927  0.69223674]\n",
            " [0.13063898 0.72231213 0.3870675  0.49871414 0.64204345]]\n",
            "B =\n",
            " [[-3.05294269 -7.22703567  9.28453324  7.43521629 -6.68120602]\n",
            " [-7.22703567  0.85618958  9.97726092  7.18138794 -8.58079929]\n",
            " [ 9.28453324  9.97726092  9.17611102  7.91945835  8.71747575]\n",
            " [ 7.43521629  7.18138794  7.91945835  5.40963206  5.35883764]\n",
            " [-6.68120602 -8.58079929  8.71747575  5.35883764  1.07973385]]\n",
            "C =\n",
            " [[ 96.94705731  -7.22703567   9.28453324   7.43521629  -6.68120602]\n",
            " [ -7.22703567 100.85618958   9.97726092   7.18138794  -8.58079929]\n",
            " [  9.28453324   9.97726092 109.17611102   7.91945835   8.71747575]\n",
            " [  7.43521629   7.18138794   7.91945835 105.40963206   5.35883764]\n",
            " [ -6.68120602  -8.58079929   8.71747575   5.35883764 101.07973385]]\n",
            "D =\n",
            " [[ 996.94705731   -7.22703567    9.28453324    7.43521629   -6.68120602]\n",
            " [  -7.22703567 1000.85618958    9.97726092    7.18138794   -8.58079929]\n",
            " [   9.28453324    9.97726092 1009.17611102    7.91945835    8.71747575]\n",
            " [   7.43521629    7.18138794    7.91945835 1005.40963206    5.35883764]\n",
            " [  -6.68120602   -8.58079929    8.71747575    5.35883764 1001.07973385]]\n"
          ]
        }
      ]
    },
    {
      "cell_type": "code",
      "source": [
        "def autov_aprox(A,k):\n",
        "  plt.xlim(0, k)\n",
        "  x = np.random.rand(A.shape[1])\n",
        "  for i in range(k):\n",
        "    Ax = A@x\n",
        "    Ax_norma = np.linalg.norm(Ax)\n",
        "    x = Ax/Ax_norma\n",
        "    a_valor = ( np.transpose(x)@(A@x) / (np.transpose(x)@x) )\n",
        "    plt.plot(i, a_valor, '.')\n",
        "  return a_valor\n",
        "  plt.show()"
      ],
      "metadata": {
        "id": "pw541AHkFgb2"
      },
      "execution_count": 39,
      "outputs": []
    },
    {
      "cell_type": "code",
      "source": [
        "met_pot(A,10)\n"
      ],
      "metadata": {
        "id": "N1XHscykB0de",
        "outputId": "1b3248f2-202e-4bec-c0b7-a8e106576ae3",
        "colab": {
          "base_uri": "https://localhost:8080/"
        }
      },
      "execution_count": 40,
      "outputs": [
        {
          "output_type": "stream",
          "name": "stdout",
          "text": [
            "[0.23622719 0.43189813 0.55686425 0.53391646 0.4031081 ]\n",
            "[0.18926649 0.31836112 0.46872705 0.64424576 0.47756335]\n",
            "[0.17858319 0.33853901 0.45809465 0.6484435  0.47240842]\n",
            "[0.17598852 0.33355941 0.45651673 0.65069271 0.47535001]\n",
            "[0.17603401 0.33418634 0.455971   0.65080474 0.47526325]\n",
            "[0.1759162  0.33411004 0.45600302 0.65082495 0.47530211]\n",
            "[0.17592786 0.33410302 0.45597845 0.65083524 0.47531221]\n",
            "[0.17592408 0.33410795 0.45598119 0.65083363 0.47530972]\n",
            "[0.17592437 0.3341062  0.45598048 0.65083425 0.47531068]\n",
            "[0.17592433 0.33410663 0.45598053 0.65083415 0.47531049]\n"
          ]
        },
        {
          "output_type": "execute_result",
          "data": {
            "text/plain": [
              "array([0.17592433, 0.33410663, 0.45598053, 0.65083415, 0.47531049])"
            ]
          },
          "metadata": {},
          "execution_count": 40
        }
      ]
    },
    {
      "cell_type": "code",
      "source": [
        "met_pot(B,100)"
      ],
      "metadata": {
        "id": "wUoIPXqxFFwf",
        "outputId": "2a5f5815-2345-413c-d8bb-c7e4d30f0f93",
        "colab": {
          "base_uri": "https://localhost:8080/"
        }
      },
      "execution_count": 41,
      "outputs": [
        {
          "output_type": "stream",
          "name": "stdout",
          "text": [
            "[0.13035799 0.12696768 0.77036568 0.57818584 0.19779752]\n",
            "[0.35153258 0.37120799 0.63210056 0.48535015 0.32173527]\n",
            "[0.14167962 0.19073471 0.77013678 0.58049867 0.11600773]\n",
            "[0.35197358 0.39621181 0.62994747 0.48687985 0.29196747]\n",
            "[0.14188251 0.20099836 0.7689311  0.58057188 0.10559483]\n",
            "[0.35130111 0.3995382  0.62998986 0.48722654 0.28754101]\n",
            "[0.14229836 0.20292085 0.76857994 0.58045745 0.10453867]\n",
            "[0.35081576 0.39967076 0.63037247 0.48753558 0.2865854 ]\n",
            "[0.14280381 0.20362831 0.76835889 0.58033489 0.10477891]\n",
            "[0.35037063 0.39934569 0.6308018  0.48784081 0.28611864]\n",
            "[0.14332214 0.20415995 0.76815663 0.58021181 0.10520039]\n",
            "[0.3499331  0.39895664 0.63123566 0.48814411 0.28572241]\n",
            "[0.14384031 0.2046645  0.76795729 0.58008876 0.1056458 ]\n",
            "[0.3494981  0.39855974 0.63166809 0.48844566 0.28533748]\n",
            "[0.14435638 0.20516316 0.76775862 0.5799658  0.10609282]\n",
            "[0.34906488 0.39816299 0.63209825 0.48874548 0.28495542]\n",
            "[0.14487009 0.20565895 0.7675603  0.57984293 0.10653829]\n",
            "[0.34863335 0.39776751 0.63252604 0.4890436  0.28457505]\n",
            "[0.14538141 0.2061523  0.76736229 0.57972018 0.10698177]\n",
            "[0.34820347 0.39737348 0.63295145 0.48934002 0.28419619]\n",
            "[0.14589035 0.20664329 0.76716458 0.57959754 0.10742321]\n",
            "[0.34777526 0.39698089 0.63337448 0.48963475 0.28381881]\n",
            "[0.1463969  0.20713194 0.76696719 0.57947502 0.1078626 ]\n",
            "[0.3473487  0.39658977 0.63379516 0.48992781 0.2834429 ]\n",
            "[0.14690109 0.20761825 0.76677011 0.57935261 0.10829995]\n",
            "[0.34692378 0.39620009 0.6342135  0.49021919 0.28306846]\n",
            "[0.14740291 0.20810223 0.76657336 0.57923033 0.10873526]\n",
            "[0.34650051 0.39581188 0.63462951 0.49050892 0.28269549]\n",
            "[0.14790239 0.20858391 0.76637692 0.57910817 0.10916856]\n",
            "[0.34607889 0.39542511 0.6350432  0.490797   0.28232398]\n",
            "[0.14839953 0.20906328 0.76618082 0.57898615 0.10959983]\n",
            "[0.3456589  0.39503979 0.63545458 0.49108344 0.28195393]\n",
            "[0.14889434 0.20954035 0.76598504 0.57886426 0.1100291 ]\n",
            "[0.34524055 0.39465591 0.63586367 0.49136825 0.28158534]\n",
            "[0.14938682 0.21001514 0.76578961 0.5787425  0.11045637]\n",
            "[0.34482383 0.39427348 0.63627049 0.49165144 0.2812182 ]\n",
            "[0.149877   0.21048766 0.76559451 0.57862089 0.11088164]\n",
            "[0.34440874 0.39389248 0.63667504 0.49193302 0.28085251]\n",
            "[0.15036487 0.21095791 0.76539976 0.57849942 0.11130494]\n",
            "[0.34399527 0.39351292 0.63707733 0.492213   0.28048827]\n",
            "[0.15085046 0.21142591 0.76520536 0.5783781  0.11172626]\n",
            "[0.34358342 0.3931348  0.63747739 0.49249138 0.28012547]\n",
            "[0.15133376 0.21189167 0.7650113  0.57825693 0.11214561]\n",
            "[0.34317319 0.39275811 0.63787521 0.49276818 0.27976411]\n",
            "[0.15181479 0.21235518 0.76481761 0.57813592 0.112563  ]\n",
            "[0.34276457 0.39238285 0.63827083 0.49304341 0.27940419]\n",
            "[0.15229355 0.21281648 0.76462427 0.57801506 0.11297844]\n",
            "[0.34235756 0.39200901 0.63866423 0.49331707 0.27904569]\n",
            "[0.15277006 0.21327556 0.7644313  0.57789437 0.11339194]\n",
            "[0.34195216 0.3916366  0.63905545 0.49358917 0.27868863]\n",
            "[0.15324433 0.21373243 0.76423869 0.57777384 0.1138035 ]\n",
            "[0.34154836 0.3912656  0.63944449 0.49385973 0.27833299]\n",
            "[0.15371636 0.21418711 0.76404646 0.57765347 0.11421314]\n",
            "[0.34114615 0.39089603 0.63983137 0.49412875 0.27797877]\n",
            "[0.15418617 0.2146396  0.76385459 0.57753327 0.11462086]\n",
            "[0.34074554 0.39052787 0.64021609 0.49439624 0.27762597]\n",
            "[0.15465376 0.21508992 0.76366311 0.57741325 0.11502667]\n",
            "[0.34034651 0.39016112 0.64059867 0.49466221 0.27727459]\n",
            "[0.15511914 0.21553807 0.763472   0.57729341 0.11543057]\n",
            "[0.33994908 0.38979577 0.64097912 0.49492667 0.27692461]\n",
            "[0.15558233 0.21598406 0.76328128 0.57717374 0.11583258]\n",
            "[0.33955322 0.38943184 0.64135745 0.49518963 0.27657604]\n",
            "[0.15604333 0.2164279  0.76309095 0.57705425 0.1162327 ]\n",
            "[0.33915894 0.3890693  0.64173368 0.49545109 0.27622888]\n",
            "[0.15650215 0.21686961 0.762901   0.57693495 0.11663095]\n",
            "[0.33876624 0.38870817 0.64210781 0.49571107 0.27588311]\n",
            "[0.15695881 0.21730919 0.76271145 0.57681583 0.11702732]\n",
            "[0.3383751  0.38834843 0.64247986 0.49596957 0.27553874]\n",
            "[0.1574133  0.21774665 0.76252229 0.57669691 0.11742183]\n",
            "[0.33798553 0.38799009 0.64284985 0.49622661 0.27519576]\n",
            "[0.15786564 0.21818199 0.76233353 0.57657818 0.11781448]\n",
            "[0.33759752 0.38763313 0.64321777 0.49648218 0.27485417]\n",
            "[0.15831584 0.21861524 0.76214517 0.57645964 0.11820529]\n",
            "[0.33721107 0.38727757 0.64358365 0.4967363  0.27451396]\n",
            "[0.15876391 0.2190464  0.76195722 0.5763413  0.11859426]\n",
            "[0.33682617 0.38692338 0.64394749 0.49698898 0.27417513]\n",
            "[0.15920985 0.21947548 0.76176968 0.57622316 0.11898139]\n",
            "[0.33644282 0.38657058 0.64430931 0.49724023 0.27383768]\n",
            "[0.15965368 0.21990248 0.76158254 0.57610522 0.1193667 ]\n",
            "[0.33606101 0.38621916 0.64466912 0.49749005 0.27350161]\n",
            "[0.16009541 0.22032742 0.76139582 0.57598749 0.1197502 ]\n",
            "[0.33568075 0.3858691  0.64502693 0.49773846 0.2731669 ]\n",
            "[0.16053504 0.22075031 0.76120951 0.57586996 0.12013189]\n",
            "[0.33530202 0.38552042 0.64538275 0.49798545 0.27283355]\n",
            "[0.16097259 0.22117115 0.76102362 0.57575264 0.12051177]\n",
            "[0.33492483 0.38517311 0.6457366  0.49823105 0.27250157]\n",
            "[0.16140805 0.22158996 0.76083815 0.57563554 0.12088987]\n",
            "[0.33454916 0.38482716 0.64608847 0.49847525 0.27217094]\n",
            "[0.16184145 0.22200674 0.76065311 0.57551865 0.12126617]\n",
            "[0.33417502 0.38448258 0.64643839 0.49871807 0.27184167]\n",
            "[0.16227279 0.2224215  0.76046849 0.57540198 0.12164071]\n",
            "[0.33380239 0.38413935 0.64678637 0.49895951 0.27151375]\n",
            "[0.16270208 0.22283426 0.76028429 0.57528552 0.12201347]\n",
            "[0.33343128 0.38379747 0.64713242 0.49919959 0.27118717]\n",
            "[0.16312933 0.22324502 0.76010053 0.57516929 0.12238447]\n",
            "[0.33306169 0.38345695 0.64747654 0.4994383  0.27086194]\n",
            "[0.16355455 0.22365379 0.7599172  0.57505328 0.12275371]\n",
            "[0.33269359 0.38311778 0.64781876 0.49967566 0.27053804]\n",
            "[0.16397774 0.22406058 0.7597343  0.57493749 0.12312121]\n",
            "[0.33232701 0.38277994 0.64815907 0.49991168 0.27021548]\n"
          ]
        },
        {
          "output_type": "execute_result",
          "data": {
            "text/plain": [
              "array([0.33232701, 0.38277994, 0.64815907, 0.49991168, 0.27021548])"
            ]
          },
          "metadata": {},
          "execution_count": 41
        }
      ]
    },
    {
      "cell_type": "code",
      "source": [
        "met_pot(C,50)"
      ],
      "metadata": {
        "id": "-T0kbt7dGHz6",
        "outputId": "dca62f06-6e82-4a8a-b282-7cf1d5f12542",
        "colab": {
          "base_uri": "https://localhost:8080/"
        }
      },
      "execution_count": 42,
      "outputs": [
        {
          "output_type": "stream",
          "name": "stdout",
          "text": [
            "[0.48748335 0.53796089 0.60106589 0.30296289 0.1410367 ]\n",
            "[0.42011571 0.48224294 0.66151361 0.3756146  0.11071564]\n",
            "[0.37065341 0.44006965 0.69233046 0.42427617 0.09809695]\n",
            "[0.3364006  0.41014652 0.7072816  0.45719875 0.09662566]\n",
            "[0.31302538 0.38914278 0.71407058 0.4800178  0.1013367 ]\n",
            "[0.29697083 0.37415391 0.71672094 0.49621787 0.10906922]\n",
            "[0.28575823 0.36312913 0.71732196 0.5079515  0.11795736]\n",
            "[0.27775706 0.35472691 0.71696596 0.51658665 0.12695622]\n",
            "[0.27191505 0.34809547 0.71622293 0.52302183 0.13551616]\n",
            "[0.26755389 0.34269809 0.71538392 0.5278652  0.14337749]\n",
            "[0.26423235 0.33819461 0.71458948 0.53153896 0.15044561]\n",
            "[0.26165885 0.33436567 0.71389936 0.53434251 0.15671642]\n",
            "[0.25963667 0.33106601 0.71333094 0.536492   0.16223257]\n",
            "[0.25802993 0.32819594 0.71288046 0.53814586 0.16705826]\n",
            "[0.25674232 0.3256841  0.71253474 0.53942171 0.17126502]\n",
            "[0.25570385 0.32347715 0.71227741 0.54040775 0.17492408]\n",
            "[0.25486243 0.32153343 0.71209209 0.54117075 0.17810241]\n",
            "[0.25417845 0.31981922 0.71196396 0.54176156 0.18086102]\n",
            "[0.25362123 0.31830642 0.71188025 0.54221917 0.1832544 ]\n",
            "[0.25316665 0.31697105 0.71183038 0.54257356 0.18533064]\n",
            "[0.25279554 0.31579236 0.71180576 0.5428479  0.18713183]\n",
            "[0.2524925  0.3147522  0.71179958 0.54306011 0.18869463]\n",
            "[0.25224509 0.31383458 0.71180651 0.54322409 0.19005091]\n",
            "[0.25204318 0.31302536 0.71182244 0.54335066 0.19122824]\n",
            "[0.25187853 0.31231203 0.71184422 0.54344818 0.19225054]\n",
            "[0.25174441 0.31168347 0.71186953 0.5435232  0.19313848]\n",
            "[0.25163528 0.31112983 0.71189661 0.54358078 0.19390993]\n",
            "[0.25154661 0.31064236 0.71192422 0.54362487 0.19458039]\n",
            "[0.25147469 0.31021331 0.71195147 0.54365853 0.19516322]\n",
            "[0.25141647 0.30983581 0.71197775 0.54368415 0.19567003]\n",
            "[0.25136944 0.30950378 0.71200266 0.54370357 0.19611084]\n",
            "[0.25133154 0.30921182 0.71202596 0.54371823 0.19649434]\n",
            "[0.25130108 0.30895518 0.71204754 0.54372923 0.19682807]\n",
            "[0.25127668 0.30872965 0.71206735 0.54373744 0.19711854]\n",
            "[0.25125721 0.3085315  0.71208541 0.54374353 0.19737143]\n",
            "[0.25124173 0.30835745 0.71210178 0.54374799 0.19759163]\n",
            "[0.25122949 0.3082046  0.71211655 0.54375123 0.19778342]\n",
            "[0.25121987 0.30807041 0.71212982 0.54375355 0.19795048]\n",
            "[0.25121235 0.30795261 0.7121417  0.54375518 0.19809604]\n",
            "[0.25120652 0.30784923 0.71215231 0.5437563  0.19822287]\n",
            "[0.25120205 0.30775851 0.71216176 0.54375704 0.19833342]\n",
            "[0.25119867 0.30767892 0.71217015 0.5437575  0.19842978]\n",
            "[0.25119614 0.3076091  0.71217759 0.54375776 0.19851378]\n",
            "[0.25119429 0.30754787 0.71218417 0.54375788 0.19858702]\n",
            "[0.25119298 0.30749417 0.71218999 0.5437579  0.19865089]\n",
            "[0.25119209 0.30744709 0.71219513 0.54375786 0.1987066 ]\n",
            "[0.25119151 0.30740581 0.71219966 0.54375777 0.19875519]\n",
            "[0.25119119 0.30736962 0.71220365 0.54375766 0.19879757]\n",
            "[0.25119106 0.3073379  0.71220716 0.54375753 0.19883455]\n",
            "[0.25119106 0.3073101  0.71221024 0.5437574  0.19886681]\n"
          ]
        },
        {
          "output_type": "execute_result",
          "data": {
            "text/plain": [
              "array([0.25119106, 0.3073101 , 0.71221024, 0.5437574 , 0.19886681])"
            ]
          },
          "metadata": {},
          "execution_count": 42
        }
      ]
    },
    {
      "cell_type": "code",
      "source": [
        "met_pot(D,50)"
      ],
      "metadata": {
        "id": "gNS_CqpIGLrd",
        "outputId": "83b18843-5173-47c3-e14c-f908dcda457c",
        "colab": {
          "base_uri": "https://localhost:8080/"
        }
      },
      "execution_count": 43,
      "outputs": [
        {
          "output_type": "stream",
          "name": "stdout",
          "text": [
            "[0.39128806 0.66247138 0.56589324 0.29598263 0.01358133]\n",
            "[0.38557031 0.65579079 0.57323598 0.30420363 0.01160283]\n",
            "[0.38001123 0.64915766 0.58021375 0.31215495 0.00985404]\n",
            "[0.3746139  0.64258379 0.58684103 0.31984181 0.00832648]\n",
            "[0.36938041 0.6360796  0.5931324  0.32726999 0.00701148]\n",
            "[0.36431194 0.62965421 0.59910237 0.33444569 0.00590026]\n",
            "[0.35940885 0.6233155  0.60476527 0.34137543 0.00498402]\n",
            "[0.35467078 0.6170702  0.61013522 0.34806599 0.00425394]\n",
            "[0.3500967  0.61092396 0.61522601 0.35452429 0.00370131]\n",
            "[0.34568501 0.6048815  0.62005108 0.36075739 0.00331749]\n",
            "[0.34143364 0.59894661 0.62462347 0.36677238 0.00309401]\n",
            "[0.33734007 0.59312228 0.62895577 0.37257634 0.00302257]\n",
            "[0.33340142 0.58741079 0.63306014 0.37817633 0.00309507]\n",
            "[0.3296145  0.58181372 0.63694825 0.38357931 0.00330361]\n",
            "[0.32597586 0.57633211 0.64063128 0.38879216 0.00364056]\n",
            "[0.32248188 0.57096645 0.64411995 0.39382159 0.00409851]\n",
            "[0.31912872 0.56571677 0.64742449 0.3986742  0.00467029]\n",
            "[0.31591247 0.5605827  0.65055464 0.40335642 0.00534903]\n",
            "[0.3128291  0.55556352 0.6535197  0.40787448 0.00612808]\n",
            "[0.30987452 0.55065819 0.65632849 0.41223445 0.00700108]\n",
            "[0.30704463 0.54586542 0.6589894  0.4164422  0.0079619 ]\n",
            "[0.3043353  0.5411837  0.6615104  0.42050343 0.00900471]\n",
            "[0.30174242 0.5366113  0.66389903 0.42442362 0.01012388]\n",
            "[0.29926191 0.53214636 0.66616244 0.42820807 0.01131407]\n",
            "[0.29688973 0.52778688 0.66830741 0.43186189 0.01257017]\n",
            "[0.2946219  0.52353075 0.67034035 0.43539    0.01388731]\n",
            "[0.2924545  0.5193758  0.67226731 0.43879711 0.01526084]\n",
            "[0.2903837  0.51531977 0.67409404 0.4420878  0.01668635]\n",
            "[0.28840576 0.51136038 0.67582595 0.44526643 0.01815962]\n",
            "[0.28651699 0.50749529 0.67746818 0.4483372  0.01967666]\n",
            "[0.28471385 0.50372217 0.67902555 0.45130415 0.02123368]\n",
            "[0.28299287 0.50003868 0.68050265 0.45417115 0.02282707]\n",
            "[0.28135066 0.49644248 0.68190379 0.45694192 0.02445342]\n",
            "[0.27978398 0.49293126 0.68323307 0.45962003 0.02610948]\n",
            "[0.27828966 0.48950271 0.68449433 0.4622089  0.0277922 ]\n",
            "[0.27686464 0.48615457 0.68569123 0.46471181 0.02949866]\n",
            "[0.27550597 0.48288461 0.6868272  0.46713193 0.03122611]\n",
            "[0.2742108  0.47969064 0.68790549 0.46947227 0.03297198]\n",
            "[0.27297639 0.47657049 0.68892918 0.47173574 0.03473378]\n",
            "[0.27180009 0.47352206 0.68990117 0.47392512 0.03650922]\n",
            "[0.27067934 0.47054331 0.6908242  0.47604308 0.03829611]\n",
            "[0.26961171 0.46763221 0.69170087 0.47809219 0.04009237]\n",
            "[0.26859483 0.46478681 0.69253363 0.48007492 0.04189608]\n",
            "[0.26762645 0.46200521 0.69332479 0.48199361 0.0437054 ]\n",
            "[0.26670438 0.45928556 0.69407654 0.48385055 0.04551861]\n",
            "[0.26582655 0.45662606 0.69479096 0.48564791 0.04733409]\n",
            "[0.26499095 0.45402496 0.69547    0.48738779 0.04915032]\n",
            "[0.26419568 0.45148057 0.69611551 0.4890722  0.05096588]\n",
            "[0.26343888 0.44899124 0.69672925 0.49070306 0.05277942]\n",
            "[0.26271882 0.4465554  0.69731288 0.49228224 0.0545897 ]\n"
          ]
        },
        {
          "output_type": "execute_result",
          "data": {
            "text/plain": [
              "array([0.26271882, 0.4465554 , 0.69731288, 0.49228224, 0.0545897 ])"
            ]
          },
          "metadata": {},
          "execution_count": 43
        }
      ]
    },
    {
      "cell_type": "markdown",
      "source": [
        "### Ejercicio 3"
      ],
      "metadata": {
        "id": "rnsouiQQAqQa"
      }
    },
    {
      "cell_type": "markdown",
      "source": [
        "**NOTA**: consideramos los autovalores complejos, ya que su modulo es un numero real?.  "
      ],
      "metadata": {
        "id": "hhR3HjqmOc5R"
      }
    },
    {
      "cell_type": "code",
      "source": [
        "def error_aprox_autov(A,k):\n",
        "\n",
        "  w, v = np.linalg.eigh(A)\n",
        "\n",
        "  lambda1 = w[len(w)-1]\n",
        "  lambda2 = w[len(w)-2] \n",
        "\n",
        "  vel_converg = (lambda2/lambda1)**2\n",
        "\n",
        "  x = np.random.rand(A.shape[1])\n",
        "\n",
        "  plt.xlim(0, k)\n",
        "  for i in range(k):\n",
        "    ## Metodo de la potencia ##\n",
        "    Ax = A@x\n",
        "    Ax_norma = np.linalg.norm(Ax)\n",
        "    x = Ax/Ax_norma\n",
        "    ## Cociente de Rayleigh ##\n",
        "    a_valor_est = ( np.transpose(x)@(A@x) / (np.transpose(x)@x) )\n",
        "    ## Error ##\n",
        "    error = abs(lambda1 - a_valor_est)\n",
        "    if i == 0:\n",
        "      error_0 = abs(lambda1 - a_valor_est)\n",
        "      print(error_0)\n",
        "    if i == k-1:\n",
        "      print(error)\n",
        "    ## Grafico ##\n",
        "    plt.plot(i, mt.log(error) , '.', color='blue')\n",
        "    plt.plot(i,(2*mt.log(vel_converg)*i)+mt.log(error_0),'.', color='red')\n",
        "  \n",
        "  print(\"\\n\",error_0)\n",
        "  for i in range(k):\n",
        "    error_0 = error_0 * vel_converg\n",
        "    if i == k-1:\n",
        "      print(error_0)\n",
        "\n",
        "  plt.show()"
      ],
      "metadata": {
        "id": "rYxcCne-AuaD"
      },
      "execution_count": 44,
      "outputs": []
    },
    {
      "cell_type": "code",
      "source": [
        "error_aprox_autov(B,100)"
      ],
      "metadata": {
        "id": "y5zwRCN7EQjq",
        "outputId": "9d8c8484-cb38-4f1b-841b-f1f1a033f168",
        "colab": {
          "base_uri": "https://localhost:8080/",
          "height": 517
        }
      },
      "execution_count": 45,
      "outputs": [
        {
          "output_type": "stream",
          "name": "stdout",
          "text": [
            "15.29892946082906\n",
            "10.747675324777562\n",
            "\n",
            " 15.29892946082906\n",
            "2.8024597967632437e-84\n"
          ]
        },
        {
          "output_type": "display_data",
          "data": {
            "text/plain": [
              "<Figure size 640x480 with 1 Axes>"
            ],
            "image/png": "[encoded data removed]"
          },
          "metadata": {}
        }
      ]
    }
  ]
}