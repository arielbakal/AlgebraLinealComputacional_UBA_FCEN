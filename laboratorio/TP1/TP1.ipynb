{
  "nbformat": 4,
  "nbformat_minor": 0,
  "metadata": {
    "colab": {
      "provenance": [],
      "include_colab_link": true
    },
    "kernelspec": {
      "name": "python3",
      "display_name": "Python 3"
    },
    "language_info": {
      "name": "python"
    }
  },
  "cells": [
    {
      "cell_type": "markdown",
      "metadata": {
        "id": "view-in-github",
        "colab_type": "text"
      },
      "source": [
        "<a href=\"https://colab.research.google.com/github/arielbakal/uba_alc/blob/main/laboratorio/TP1/TP1.ipynb\" target=\"_parent\"><img src=\"https://colab.research.google.com/assets/colab-badge.svg\" alt=\"Open In Colab\"/></a>"
      ]
    },
    {
      "cell_type": "code",
      "execution_count": 146,
      "metadata": {
        "id": "Pi9VqXAtG4Ny"
      },
      "outputs": [],
      "source": [
        "import numpy as np\n",
        "import matplotlib.pyplot as plt\n",
        "import math as mt"
      ]
    },
    {
      "cell_type": "markdown",
      "source": [
        "### Ejercicio 1"
      ],
      "metadata": {
        "id": "B8qMmCxoWQd8"
      }
    },
    {
      "cell_type": "code",
      "source": [
        "def met_pot(A,k):\n",
        "  x = np.random.rand(A.shape[1])\n",
        "  for i in range(k):\n",
        "    Ax = A@x\n",
        "    Ax_norma = np.linalg.norm(Ax)\n",
        "    x = Ax/Ax_norma\n",
        "    print(x)\n",
        "  return x"
      ],
      "metadata": {
        "id": "f1ASpDgzMHyy"
      },
      "execution_count": 147,
      "outputs": []
    },
    {
      "cell_type": "code",
      "source": [
        "A = np.array([[3,1],[0,2]])\n",
        "x = met_pot(A, 50)"
      ],
      "metadata": {
        "colab": {
          "base_uri": "https://localhost:8080/"
        },
        "id": "rAhCNqRLP9sJ",
        "outputId": "34bcca96-2bec-4a96-f823-401f29785e72"
      },
      "execution_count": 148,
      "outputs": [
        {
          "output_type": "stream",
          "name": "stdout",
          "text": [
            "[0.8900878 0.4557891]\n",
            "[0.96001544 0.27994704]\n",
            "[0.98466343 0.17446468]\n",
            "[0.99383751 0.11084676]\n",
            "[0.99744008 0.07150721]\n",
            "[0.99891234 0.04662759]\n",
            "[0.99953086 0.03062775]\n",
            "[0.99979561 0.02021741]\n",
            "[0.99991036 0.01338957]\n",
            "[0.99996051 0.00888716]\n",
            "[0.99998255 0.0059074 ]\n",
            "[0.99999228 0.00393057]\n",
            "[0.99999658 0.00261696]\n",
            "[0.99999848 0.00174312]\n",
            "[0.99999933 0.00116141]\n",
            "[9.99999700e-01 7.73972593e-04]\n",
            "[9.99999867e-01 5.15848731e-04]\n",
            "[9.99999941e-01 3.43840056e-04]\n",
            "[9.99999974e-01 2.29200442e-04]\n",
            "[9.99999988e-01 1.52788624e-04]\n",
            "[9.99999995e-01 1.01853896e-04]\n",
            "[9.99999998e-01 6.79002921e-05]\n",
            "[9.99999999e-01 4.52658370e-05]\n",
            "[1.00000000e+00 3.01767693e-05]\n",
            "[1.00000000e+00 2.01176439e-05]\n",
            "[1.00000000e+00 1.34116726e-05]\n",
            "[1.00000000e+00 8.94107512e-06]\n",
            "[1.00000000e+00 5.96069898e-06]\n",
            "[1.00000000e+00 3.97379143e-06]\n",
            "[1.00000000e+00 2.64919078e-06]\n",
            "[1.00000000e+00 1.76612562e-06]\n",
            "[1.00000000e+00 1.17741639e-06]\n",
            "[1.00000000e+00 7.84943952e-07]\n",
            "[1.00000000e+00 5.23295831e-07]\n",
            "[1.00000000e+00 3.48863826e-07]\n",
            "[1.00000000e+00 2.32575857e-07]\n",
            "[1.00000000e+00 1.55050559e-07]\n",
            "[1.00000000e+00 1.03367034e-07]\n",
            "[1.00000000e+00 6.89113538e-08]\n",
            "[1.00000000e+00 4.59409015e-08]\n",
            "[1.00000000e+00 3.06272672e-08]\n",
            "[1.00000000e+00 2.04181779e-08]\n",
            "[1.00000000e+00 1.36121185e-08]\n",
            "[1.00000000e+00 9.07474564e-09]\n",
            "[1.00000000e+00 6.04983041e-09]\n",
            "[1.00000000e+00 4.03322026e-09]\n",
            "[1.00000000e+00 2.68881351e-09]\n",
            "[1.00000000e+00 1.79254234e-09]\n",
            "[1.00000000e+00 1.19502822e-09]\n",
            "[1.00000000e+00 7.96685482e-10]\n"
          ]
        }
      ]
    },
    {
      "cell_type": "code",
      "source": [
        "def rayleigh(A, x):\n",
        "  a_valor = ( np.transpose(x)@(A@x) / (np.transpose(x)@x) )\n",
        "  return a_valor\n",
        "  print(\"autovalor =\", a_valor)"
      ],
      "metadata": {
        "id": "CA-UkAVXTcgs"
      },
      "execution_count": 149,
      "outputs": []
    },
    {
      "cell_type": "code",
      "source": [
        "rayleigh(A,x)"
      ],
      "metadata": {
        "colab": {
          "base_uri": "https://localhost:8080/"
        },
        "id": "ec_BAT0YTSEa",
        "outputId": "575d5da2-36af-41db-ec6a-12cb1eec0e2b"
      },
      "execution_count": 150,
      "outputs": [
        {
          "output_type": "execute_result",
          "data": {
            "text/plain": [
              "3.0000000007966854"
            ]
          },
          "metadata": {},
          "execution_count": 150
        }
      ]
    },
    {
      "cell_type": "code",
      "source": [
        "np.linalg.eigvals(A)"
      ],
      "metadata": {
        "colab": {
          "base_uri": "https://localhost:8080/"
        },
        "id": "eaPNd0AfVS-U",
        "outputId": "a473bab0-50e8-42b0-8849-f28b5ae99750"
      },
      "execution_count": 151,
      "outputs": [
        {
          "output_type": "execute_result",
          "data": {
            "text/plain": [
              "array([3., 2.])"
            ]
          },
          "metadata": {},
          "execution_count": 151
        }
      ]
    },
    {
      "cell_type": "markdown",
      "source": [
        "### Ejercicio 2"
      ],
      "metadata": {
        "id": "-l9e2mdiWTA9"
      }
    },
    {
      "cell_type": "markdown",
      "source": [
        "**NOTAS** : Consultar generador random de numeros"
      ],
      "metadata": {
        "id": "frMg6ZtWDVfr"
      }
    },
    {
      "cell_type": "code",
      "source": [
        "import random\n",
        "def genMat(n,m):\n",
        "  global A,B,C,D\n",
        "  A = np.random.rand(n,m)\n",
        "  print(\"A =\\n\",A)\n",
        "  B = np.zeros([n,m])\n",
        "  C = np.zeros([n,m])\n",
        "  D = np.zeros([n,m])\n",
        "  for i in range(n):\n",
        "    for j in range(m):\n",
        "      if i == j:\n",
        "        # B\n",
        "        B[i][j] = random.uniform(-10, 10)\n",
        "        # C\n",
        "        C[i][j] = B[i][j] + 100\n",
        "        # D\n",
        "        D[i][j] = B[i][j] + 1000\n",
        "      else :\n",
        "        rnd = random.uniform(-10, 10)\n",
        "        # B\n",
        "        B[i][j] = rnd\n",
        "        B[j][i] = B[i][j]\n",
        "        # C\n",
        "        C[i][j] = B[i][j]\n",
        "        C[j][i] = B[i][j]\n",
        "        # D\n",
        "        D[i][j] = B[i][j]\n",
        "        D[j][i] = B[i][j] \n",
        "  print(\"B =\\n\",B)\n",
        "  print(\"C =\\n\",C)\n",
        "  print(\"D =\\n\",D)\n"
      ],
      "metadata": {
        "id": "MS9QdAw5WV6C"
      },
      "execution_count": 152,
      "outputs": []
    },
    {
      "cell_type": "code",
      "source": [
        "genMat(5,5)"
      ],
      "metadata": {
        "id": "SmIHqg9AFZb3",
        "outputId": "3ddfa0be-1c81-42eb-a145-da21f038ef65",
        "colab": {
          "base_uri": "https://localhost:8080/"
        }
      },
      "execution_count": 153,
      "outputs": [
        {
          "output_type": "stream",
          "name": "stdout",
          "text": [
            "A =\n",
            " [[8.22705894e-01 3.04829457e-01 6.83459937e-01 7.18067259e-01\n",
            "  2.75079053e-01]\n",
            " [1.45296592e-01 6.80997056e-02 3.40641913e-01 5.11769946e-01\n",
            "  2.91586215e-01]\n",
            " [7.21090065e-02 3.58331160e-01 7.21712451e-01 3.97137091e-01\n",
            "  2.04369394e-01]\n",
            " [3.70008634e-01 3.10586835e-01 1.93671627e-01 5.68593029e-04\n",
            "  5.06578622e-01]\n",
            " [2.03221935e-01 3.81723415e-01 8.11758619e-01 5.14224955e-01\n",
            "  3.36789388e-01]]\n",
            "B =\n",
            " [[-5.10104455  0.55945698  4.10348159 -6.90876035  5.49873926]\n",
            " [ 0.55945698  4.12805259 -4.57619422  0.27578151  6.83051171]\n",
            " [ 4.10348159 -4.57619422  0.94332681 -3.90097398 -8.10278673]\n",
            " [-6.90876035  0.27578151 -3.90097398  9.74093782  4.57248273]\n",
            " [ 5.49873926  6.83051171 -8.10278673  4.57248273  9.52743932]]\n",
            "C =\n",
            " [[ 94.89895545   0.55945698   4.10348159  -6.90876035   5.49873926]\n",
            " [  0.55945698 104.12805259  -4.57619422   0.27578151   6.83051171]\n",
            " [  4.10348159  -4.57619422 100.94332681  -3.90097398  -8.10278673]\n",
            " [ -6.90876035   0.27578151  -3.90097398 109.74093782   4.57248273]\n",
            " [  5.49873926   6.83051171  -8.10278673   4.57248273 109.52743932]]\n",
            "D =\n",
            " [[ 9.94898955e+02  5.59456983e-01  4.10348159e+00 -6.90876035e+00\n",
            "   5.49873926e+00]\n",
            " [ 5.59456983e-01  1.00412805e+03 -4.57619422e+00  2.75781509e-01\n",
            "   6.83051171e+00]\n",
            " [ 4.10348159e+00 -4.57619422e+00  1.00094333e+03 -3.90097398e+00\n",
            "  -8.10278673e+00]\n",
            " [-6.90876035e+00  2.75781509e-01 -3.90097398e+00  1.00974094e+03\n",
            "   4.57248273e+00]\n",
            " [ 5.49873926e+00  6.83051171e+00 -8.10278673e+00  4.57248273e+00\n",
            "   1.00952744e+03]]\n"
          ]
        }
      ]
    },
    {
      "cell_type": "code",
      "source": [
        "def autov_aprox(A,k):\n",
        "  plt.xlim(0, k)\n",
        "  x = np.random.rand(A.shape[1])\n",
        "  for i in range(k):\n",
        "    Ax = A@x\n",
        "    Ax_norma = np.linalg.norm(Ax)\n",
        "    x = Ax/Ax_norma\n",
        "    a_valor = ( np.transpose(x)@(A@x) / (np.transpose(x)@x) )\n",
        "    plt.plot(i, a_valor, '.')\n",
        "  return a_valor\n",
        "  plt.show()"
      ],
      "metadata": {
        "id": "pw541AHkFgb2"
      },
      "execution_count": 154,
      "outputs": []
    },
    {
      "cell_type": "code",
      "source": [
        "met_pot(A,10)\n"
      ],
      "metadata": {
        "id": "N1XHscykB0de",
        "outputId": "73742f91-5629-4320-b8c9-bbd3071458a6",
        "colab": {
          "base_uri": "https://localhost:8080/"
        }
      },
      "execution_count": 155,
      "outputs": [
        {
          "output_type": "stream",
          "name": "stdout",
          "text": [
            "[0.65510247 0.26191652 0.41974018 0.25398158 0.51142157]\n",
            "[0.66367889 0.28902874 0.35076743 0.35878573 0.4735269 ]\n",
            "[0.6749382  0.29810807 0.34440651 0.34414534 0.46748063]\n",
            "[0.67673995 0.29503708 0.3424823  0.34774117 0.46557289]\n",
            "[0.67760964 0.29548057 0.34186011 0.34695715 0.46506861]\n",
            "[0.67778804 0.29529807 0.34167945 0.34716946 0.46489886]\n",
            "[0.67786072 0.29531849 0.34162434 0.34712635 0.4648526 ]\n",
            "[0.67787782 0.29530671 0.34160815 0.34713885 0.46483771]\n",
            "[0.67788403 0.29530745 0.34160324 0.34713654 0.46483351]\n",
            "[0.67788563 0.29530666 0.34160179 0.34713729 0.4648322 ]\n"
          ]
        },
        {
          "output_type": "execute_result",
          "data": {
            "text/plain": [
              "array([0.67788563, 0.29530666, 0.34160179, 0.34713729, 0.4648322 ])"
            ]
          },
          "metadata": {},
          "execution_count": 155
        }
      ]
    },
    {
      "cell_type": "code",
      "source": [
        "met_pot(B,100)"
      ],
      "metadata": {
        "id": "wUoIPXqxFFwf",
        "outputId": "c8c27d16-f42b-4b63-a150-925d09360480",
        "colab": {
          "base_uri": "https://localhost:8080/"
        }
      },
      "execution_count": 156,
      "outputs": [
        {
          "output_type": "stream",
          "name": "stdout",
          "text": [
            "[ 0.12936179  0.28496903 -0.59126346  0.51797809  0.53307072]\n",
            "[-0.17157411  0.37148814 -0.36824785  0.43081997  0.715085  ]\n",
            "[ 0.024781    0.38168695 -0.48034193  0.47867039  0.62757252]\n",
            "[-0.08125141  0.38317837 -0.4225967   0.43612138  0.69121828]\n",
            "[-0.01479642  0.38734708 -0.45612168  0.45317281  0.66055335]\n",
            "[-0.05021144  0.38723796 -0.43701342  0.43884654  0.68114504]\n",
            "[-0.02826052  0.38850522 -0.44799069  0.44455931  0.67077298]\n",
            "[-0.04002894  0.38840688 -0.44164223  0.43986007  0.67750501]\n",
            "[-0.03278787  0.38880039 -0.44526669  0.44178293  0.67403608]\n",
            "[-0.03669603  0.3887554  -0.44316353  0.44024734  0.67624774]\n",
            "[-0.03430706  0.38887951 -0.44436254  0.44089516  0.67509196]\n",
            "[-0.03560447  0.38886148 -0.44366651  0.44039349  0.67582   ]\n",
            "[-0.03481609  0.38890091 -0.44406338  0.44061151  0.67543551]\n",
            "[-0.03524667  0.38889407 -0.44383311  0.4404475   0.6756754 ]\n",
            "[-0.03498643  0.38890665 -0.44396449  0.44052076  0.6755476 ]\n",
            "[-0.03512928  0.38890413 -0.44388832  0.44046709  0.67562668]\n",
            "[-0.03504336  0.38890816 -0.44393181  0.44049167  0.67558423]\n",
            "[-0.03509075  0.38890725 -0.44390661  0.44047409  0.67561031]\n",
            "[-0.03506237  0.38890854 -0.44392101  0.44048232  0.67559621]\n",
            "[-0.03507808  0.38890822 -0.44391267  0.44047656  0.67560482]\n",
            "[-0.03506871  0.38890863 -0.44391744  0.44047931  0.67560014]\n",
            "[-0.03507392  0.38890852 -0.44391468  0.44047742  0.67560298]\n",
            "[-0.03507082  0.38890865 -0.44391626  0.44047834  0.67560142]\n",
            "[-0.03507255  0.38890861 -0.44391535  0.44047772  0.67560236]\n",
            "[-0.03507153  0.38890866 -0.44391587  0.44047803  0.67560185]\n",
            "[-0.0350721   0.38890864 -0.44391557  0.44047782  0.67560216]\n",
            "[-0.03507176  0.38890866 -0.44391574  0.44047792  0.67560198]\n",
            "[-0.03507195  0.38890865 -0.44391564  0.44047786  0.67560209]\n",
            "[-0.03507184  0.38890866 -0.4439157   0.44047789  0.67560203]\n",
            "[-0.0350719   0.38890866 -0.44391566  0.44047787  0.67560206]\n",
            "[-0.03507187  0.38890866 -0.44391568  0.44047788  0.67560205]\n",
            "[-0.03507189  0.38890866 -0.44391567  0.44047787  0.67560206]\n",
            "[-0.03507188  0.38890866 -0.44391568  0.44047788  0.67560205]\n",
            "[-0.03507188  0.38890866 -0.44391567  0.44047788  0.67560205]\n",
            "[-0.03507188  0.38890866 -0.44391568  0.44047788  0.67560205]\n",
            "[-0.03507188  0.38890866 -0.44391568  0.44047788  0.67560205]\n",
            "[-0.03507188  0.38890866 -0.44391568  0.44047788  0.67560205]\n",
            "[-0.03507188  0.38890866 -0.44391568  0.44047788  0.67560205]\n",
            "[-0.03507188  0.38890866 -0.44391568  0.44047788  0.67560205]\n",
            "[-0.03507188  0.38890866 -0.44391568  0.44047788  0.67560205]\n",
            "[-0.03507188  0.38890866 -0.44391568  0.44047788  0.67560205]\n",
            "[-0.03507188  0.38890866 -0.44391568  0.44047788  0.67560205]\n",
            "[-0.03507188  0.38890866 -0.44391568  0.44047788  0.67560205]\n",
            "[-0.03507188  0.38890866 -0.44391568  0.44047788  0.67560205]\n",
            "[-0.03507188  0.38890866 -0.44391568  0.44047788  0.67560205]\n",
            "[-0.03507188  0.38890866 -0.44391568  0.44047788  0.67560205]\n",
            "[-0.03507188  0.38890866 -0.44391568  0.44047788  0.67560205]\n",
            "[-0.03507188  0.38890866 -0.44391568  0.44047788  0.67560205]\n",
            "[-0.03507188  0.38890866 -0.44391568  0.44047788  0.67560205]\n",
            "[-0.03507188  0.38890866 -0.44391568  0.44047788  0.67560205]\n",
            "[-0.03507188  0.38890866 -0.44391568  0.44047788  0.67560205]\n",
            "[-0.03507188  0.38890866 -0.44391568  0.44047788  0.67560205]\n",
            "[-0.03507188  0.38890866 -0.44391568  0.44047788  0.67560205]\n",
            "[-0.03507188  0.38890866 -0.44391568  0.44047788  0.67560205]\n",
            "[-0.03507188  0.38890866 -0.44391568  0.44047788  0.67560205]\n",
            "[-0.03507188  0.38890866 -0.44391568  0.44047788  0.67560205]\n",
            "[-0.03507188  0.38890866 -0.44391568  0.44047788  0.67560205]\n",
            "[-0.03507188  0.38890866 -0.44391568  0.44047788  0.67560205]\n",
            "[-0.03507188  0.38890866 -0.44391568  0.44047788  0.67560205]\n",
            "[-0.03507188  0.38890866 -0.44391568  0.44047788  0.67560205]\n",
            "[-0.03507188  0.38890866 -0.44391568  0.44047788  0.67560205]\n",
            "[-0.03507188  0.38890866 -0.44391568  0.44047788  0.67560205]\n",
            "[-0.03507188  0.38890866 -0.44391568  0.44047788  0.67560205]\n",
            "[-0.03507188  0.38890866 -0.44391568  0.44047788  0.67560205]\n",
            "[-0.03507188  0.38890866 -0.44391568  0.44047788  0.67560205]\n",
            "[-0.03507188  0.38890866 -0.44391568  0.44047788  0.67560205]\n",
            "[-0.03507188  0.38890866 -0.44391568  0.44047788  0.67560205]\n",
            "[-0.03507188  0.38890866 -0.44391568  0.44047788  0.67560205]\n",
            "[-0.03507188  0.38890866 -0.44391568  0.44047788  0.67560205]\n",
            "[-0.03507188  0.38890866 -0.44391568  0.44047788  0.67560205]\n",
            "[-0.03507188  0.38890866 -0.44391568  0.44047788  0.67560205]\n",
            "[-0.03507188  0.38890866 -0.44391568  0.44047788  0.67560205]\n",
            "[-0.03507188  0.38890866 -0.44391568  0.44047788  0.67560205]\n",
            "[-0.03507188  0.38890866 -0.44391568  0.44047788  0.67560205]\n",
            "[-0.03507188  0.38890866 -0.44391568  0.44047788  0.67560205]\n",
            "[-0.03507188  0.38890866 -0.44391568  0.44047788  0.67560205]\n",
            "[-0.03507188  0.38890866 -0.44391568  0.44047788  0.67560205]\n",
            "[-0.03507188  0.38890866 -0.44391568  0.44047788  0.67560205]\n",
            "[-0.03507188  0.38890866 -0.44391568  0.44047788  0.67560205]\n",
            "[-0.03507188  0.38890866 -0.44391568  0.44047788  0.67560205]\n",
            "[-0.03507188  0.38890866 -0.44391568  0.44047788  0.67560205]\n",
            "[-0.03507188  0.38890866 -0.44391568  0.44047788  0.67560205]\n",
            "[-0.03507188  0.38890866 -0.44391568  0.44047788  0.67560205]\n",
            "[-0.03507188  0.38890866 -0.44391568  0.44047788  0.67560205]\n",
            "[-0.03507188  0.38890866 -0.44391568  0.44047788  0.67560205]\n",
            "[-0.03507188  0.38890866 -0.44391568  0.44047788  0.67560205]\n",
            "[-0.03507188  0.38890866 -0.44391568  0.44047788  0.67560205]\n",
            "[-0.03507188  0.38890866 -0.44391568  0.44047788  0.67560205]\n",
            "[-0.03507188  0.38890866 -0.44391568  0.44047788  0.67560205]\n",
            "[-0.03507188  0.38890866 -0.44391568  0.44047788  0.67560205]\n",
            "[-0.03507188  0.38890866 -0.44391568  0.44047788  0.67560205]\n",
            "[-0.03507188  0.38890866 -0.44391568  0.44047788  0.67560205]\n",
            "[-0.03507188  0.38890866 -0.44391568  0.44047788  0.67560205]\n",
            "[-0.03507188  0.38890866 -0.44391568  0.44047788  0.67560205]\n",
            "[-0.03507188  0.38890866 -0.44391568  0.44047788  0.67560205]\n",
            "[-0.03507188  0.38890866 -0.44391568  0.44047788  0.67560205]\n",
            "[-0.03507188  0.38890866 -0.44391568  0.44047788  0.67560205]\n",
            "[-0.03507188  0.38890866 -0.44391568  0.44047788  0.67560205]\n",
            "[-0.03507188  0.38890866 -0.44391568  0.44047788  0.67560205]\n",
            "[-0.03507188  0.38890866 -0.44391568  0.44047788  0.67560205]\n"
          ]
        },
        {
          "output_type": "execute_result",
          "data": {
            "text/plain": [
              "array([-0.03507188,  0.38890866, -0.44391568,  0.44047788,  0.67560205])"
            ]
          },
          "metadata": {},
          "execution_count": 156
        }
      ]
    },
    {
      "cell_type": "code",
      "source": [
        "met_pot(C,50)"
      ],
      "metadata": {
        "id": "-T0kbt7dGHz6",
        "outputId": "d3a9a959-bf32-41fa-e061-b1c2360e0c47",
        "colab": {
          "base_uri": "https://localhost:8080/"
        }
      },
      "execution_count": 157,
      "outputs": [
        {
          "output_type": "stream",
          "name": "stdout",
          "text": [
            "[0.66787817 0.17738671 0.26519705 0.42583384 0.5203929 ]\n",
            "[0.61964943 0.2046953  0.21928108 0.41808772 0.59266591]\n",
            "[0.56593117 0.23338382 0.16273778 0.40911912 0.65680428]\n",
            "[0.5083791  0.2618026  0.09896995 0.39923897 0.7098051 ]\n",
            "[0.44938989 0.2884018  0.03212009 0.38901411 0.7500063 ]\n",
            "[ 0.39156762  0.31205705 -0.03377829  0.3791561   0.77742837]\n",
            "[ 0.33714487  0.33221251 -0.09553869  0.37034323  0.79352784]\n",
            "[ 0.28762518  0.3488219  -0.15116416  0.36307302  0.80057631]\n",
            "[ 0.24372611  0.36217742 -0.19978608  0.35760232  0.80101885]\n",
            "[ 0.20553008  0.37273147 -0.24137662  0.35396789  0.79703996]\n",
            "[ 0.17270568  0.38096794 -0.27642052  0.35204814  0.79037332]\n",
            "[ 0.14470612  0.38733174 -0.30564997  0.35163018  0.7822842 ]\n",
            "[ 0.12091006  0.39220097 -0.3298689   0.35246367  0.77363753]\n",
            "[ 0.1007063   0.39588359 -0.34985316  0.35429669  0.76499088]\n",
            "[ 0.08353686  0.39862511 -0.36630273  0.35689635  0.75668152]\n",
            "[ 0.06891386  0.40061957 -0.37982508  0.36005849  0.74889628]\n",
            "[ 0.05642161  0.40202026 -0.39093514  0.36361061  0.74172323]\n",
            "[ 0.0457114   0.40294876 -0.40006312  0.36741089  0.73518808]\n",
            "[ 0.03649338  0.4035021  -0.40756522  0.37134535  0.72927876]\n",
            "[ 0.02852771  0.40375825 -0.41373479  0.37532422  0.72396181]\n",
            "[ 0.02161636  0.40378027 -0.41881255  0.3792782   0.71919283]\n",
            "[ 0.01559581  0.4036194  -0.42299571  0.38315496  0.71492311]\n",
            "[ 0.01033081  0.40331744 -0.42644562  0.38691605  0.71110367]\n",
            "[ 0.00570928  0.40290855 -0.42929424  0.39053416  0.70768752]\n",
            "[ 0.00163803  0.40242066 -0.4316495   0.39399091  0.70463097]\n",
            "[-0.00196065  0.40187653 -0.43359965  0.3972749   0.70189416]\n",
            "[-0.00515183  0.40129472 -0.4352169   0.40038019  0.69944117]\n",
            "[-0.00799019  0.40069024 -0.43656035  0.40330504  0.69723999]\n",
            "[-0.01052186  0.40007513 -0.43767837  0.40605087  0.69526219]\n",
            "[-0.01278591  0.39945904 -0.43861061  0.40862146  0.69348268]\n",
            "[-0.01481558  0.39884953 -0.43938956  0.41102229  0.69187936]\n",
            "[-0.01663926  0.39825249 -0.44004186  0.41326003  0.69043276]\n",
            "[-0.01828127  0.3976724  -0.44058939  0.41534214  0.68912578]\n",
            "[-0.01976257  0.39711258 -0.44105013  0.41727656  0.68794338]\n",
            "[-0.02110125  0.39657538 -0.44143885  0.41907143  0.68687232]\n",
            "[-0.022313    0.39606241 -0.4417677   0.42073498  0.68590092]\n",
            "[-0.0234115   0.3955746  -0.4420467   0.42227533  0.6850189 ]\n",
            "[-0.02440869  0.39511239 -0.44228412  0.4237004   0.68421718]\n",
            "[-0.02531503  0.39467583 -0.44248676  0.42501785  0.68348769]\n",
            "[-0.02613974  0.39426464 -0.44266027  0.42623506  0.68282331]\n",
            "[-0.02689093  0.39387827 -0.4428093   0.42735901  0.6822177 ]\n",
            "[-0.02757581  0.39351602 -0.44293774  0.42839636  0.6816652 ]\n",
            "[-0.02820075  0.39317703 -0.44304878  0.42935337  0.68116078]\n",
            "[-0.02877145  0.39286034 -0.4431451   0.43023594  0.68069994]\n",
            "[-0.02929297  0.39256495 -0.44322893  0.43104959  0.68027866]\n",
            "[-0.02976986  0.39228978 -0.44330212  0.4317995   0.67989331]\n",
            "[-0.03020618  0.39203378 -0.44336622  0.43249048  0.67954064]\n",
            "[-0.0306056   0.39179586 -0.44342255  0.43312704  0.67921772]\n",
            "[-0.03097139  0.39157496 -0.44347219  0.43371333  0.67892193]\n",
            "[-0.03130655  0.39137006 -0.44351607  0.43425325  0.67865086]\n"
          ]
        },
        {
          "output_type": "execute_result",
          "data": {
            "text/plain": [
              "array([-0.03130655,  0.39137006, -0.44351607,  0.43425325,  0.67865086])"
            ]
          },
          "metadata": {},
          "execution_count": 157
        }
      ]
    },
    {
      "cell_type": "code",
      "source": [
        "met_pot(D,50)"
      ],
      "metadata": {
        "id": "gNS_CqpIGLrd",
        "outputId": "d585f775-dcee-4cb5-dfab-bcc66c631042",
        "colab": {
          "base_uri": "https://localhost:8080/"
        }
      },
      "execution_count": 158,
      "outputs": [
        {
          "output_type": "stream",
          "name": "stdout",
          "text": [
            "[ 0.53087737  0.74882817 -0.00151155  0.25792577  0.30149229]\n",
            "[ 0.52494068  0.74933298 -0.00616907  0.2566419   0.31150321]\n",
            "[ 0.5189534   0.74968365 -0.01089859  0.25537736  0.32144272]\n",
            "[ 0.51291944  0.74988078 -0.01569565  0.25413346  0.33130392]\n",
            "[ 0.50684279  0.74992532 -0.02055574  0.25291147  0.34108012]\n",
            "[ 0.50072755  0.7498185  -0.02547426  0.25171263  0.35076481]\n",
            "[ 0.4945779   0.74956185 -0.03044657  0.25053817  0.36035172]\n",
            "[ 0.48839808  0.74915721 -0.03546799  0.24938929  0.3698348 ]\n",
            "[ 0.4821924   0.74860669 -0.04053381  0.24826717  0.37920829]\n",
            "[ 0.47596519  0.74791268 -0.04563934  0.24717292  0.38846669]\n",
            "[ 0.46972079  0.74707781 -0.05077986  0.24610764  0.39760478]\n",
            "[ 0.46346357  0.74610498 -0.0559507   0.24507239  0.40661766]\n",
            "[ 0.45719787  0.74499732 -0.06114723  0.24406816  0.41550072]\n",
            "[ 0.45092803  0.74375815 -0.06636486  0.24309592  0.42424969]\n",
            "[ 0.44465831  0.74239103 -0.07159906  0.24215656  0.43286062]\n",
            "[ 0.43839296  0.74089967 -0.07684539  0.24125095  0.44132988]\n",
            "[ 0.43213614  0.73928795 -0.08209948  0.24037988  0.44965417]\n",
            "[ 0.42589192  0.73755993 -0.08735707  0.23954408  0.45783054]\n",
            "[ 0.41966431  0.73571975 -0.092614    0.23874425  0.46585636]\n",
            "[ 0.4134572   0.73377171 -0.09786623  0.23798101  0.47372932]\n",
            "[ 0.40727436  0.73172016 -0.10310985  0.23725491  0.48144746]\n",
            "[ 0.40111947  0.72956957 -0.10834107  0.23656647  0.48900913]\n",
            "[ 0.39499605  0.72732444 -0.11355625  0.23591613  0.49641297]\n",
            "[ 0.3889075   0.72498932 -0.11875186  0.23530426  0.50365796]\n",
            "[ 0.38285707  0.72256879 -0.12392457  0.23473119  0.51074335]\n",
            "[ 0.37684788  0.72006744 -0.12907115  0.23419718  0.5176687 ]\n",
            "[ 0.37088288  0.71748985 -0.13418856  0.23370243  0.52443381]\n",
            "[ 0.36496487  0.71484058 -0.13927388  0.23324708  0.53103877]\n",
            "[ 0.3590965   0.71212417 -0.14432437  0.23283122  0.53748392]\n",
            "[ 0.35328026  0.70934511 -0.14933745  0.23245488  0.54376983]\n",
            "[ 0.34751847  0.70650783 -0.15431067  0.23211803  0.54989729]\n",
            "[ 0.34181331  0.7036167  -0.15924175  0.23182059  0.55586732]\n",
            "[ 0.33616679  0.70067601 -0.16412856  0.23156244  0.56168111]\n",
            "[ 0.33058076  0.69768995 -0.16896912  0.23134341  0.56734008]\n",
            "[ 0.32505692  0.69466264 -0.1737616   0.23116325  0.57284576]\n",
            "[ 0.31959683  0.69159809 -0.17850431  0.23102172  0.5781999 ]\n",
            "[ 0.31420186  0.68850021 -0.1831957   0.23091849  0.58340435]\n",
            "[ 0.30887329  0.68537278 -0.18783437  0.23085322  0.58846111]\n",
            "[ 0.30361222  0.68221948 -0.19241903  0.23082552  0.59337231]\n",
            "[ 0.29841961  0.67904387 -0.19694854  0.23083496  0.59814016]\n",
            "[ 0.29329633  0.67584937 -0.20142187  0.23088107  0.60276699]\n",
            "[ 0.28824306  0.6726393  -0.20583812  0.23096338  0.60725521]\n",
            "[ 0.28326041  0.66941683 -0.2101965   0.23108137  0.6116073 ]\n",
            "[ 0.27834885  0.66618501 -0.21449631  0.23123448  0.61582579]\n",
            "[ 0.27350873  0.66294677 -0.218737    0.23142215  0.61991328]\n",
            "[ 0.2687403   0.6597049  -0.22291807  0.23164378  0.62387241]\n",
            "[ 0.26404371  0.65646207 -0.22703916  0.23189877  0.62770586]\n",
            "[ 0.25941901  0.65322082 -0.23109996  0.23218648  0.63141633]\n",
            "[ 0.25486617  0.64998357 -0.23510027  0.23250626  0.63500653]\n",
            "[ 0.25038506  0.64675261 -0.23903997  0.23285745  0.6384792 ]\n"
          ]
        },
        {
          "output_type": "execute_result",
          "data": {
            "text/plain": [
              "array([ 0.25038506,  0.64675261, -0.23903997,  0.23285745,  0.6384792 ])"
            ]
          },
          "metadata": {},
          "execution_count": 158
        }
      ]
    },
    {
      "cell_type": "markdown",
      "source": [
        "### Ejercicio 3"
      ],
      "metadata": {
        "id": "rnsouiQQAqQa"
      }
    },
    {
      "cell_type": "markdown",
      "source": [
        "**NOTA**: consideramos los autovalores complejos, ya que su modulo es un numero real?.  "
      ],
      "metadata": {
        "id": "hhR3HjqmOc5R"
      }
    },
    {
      "cell_type": "code",
      "source": [
        "def error_aprox_autov(A,k):\n",
        "\n",
        "  w, v = np.linalg.eigh(A) \n",
        "\n",
        "  w = sorted(abs(w))\n",
        "\n",
        "  lambda1 = w[len(w)-1]\n",
        "  lambda2 = w[len(w)-2] \n",
        "\n",
        "  print(\"autov real=\",lambda1)\n",
        "\n",
        "  vel_converg = (lambda2/lambda1)**2\n",
        "\n",
        "  x = np.random.rand(A.shape[1])\n",
        "\n",
        "  plt.xlim(0, k)\n",
        "  for i in range(k):\n",
        "    ## Metodo de la potencia ##\n",
        "    Ax = A@x\n",
        "    Ax_norma = np.linalg.norm(Ax)\n",
        "    x = Ax/Ax_norma\n",
        "    ## Cociente de Rayleigh ##\n",
        "    a_valor_est = abs( np.transpose(x)@(A@x) / (np.transpose(x)@x) )\n",
        "    ## Error ##\n",
        "    error = abs(lambda1 - a_valor_est)\n",
        "    if i == 0:\n",
        "      error_0 = abs(lambda1 - a_valor_est)\n",
        "      print(error_0)\n",
        "    if i == k-1:\n",
        "      print(error)\n",
        "    ## Grafico ##\n",
        "    plt.plot(i, mt.log(error) , '.', color='blue')\n",
        "    plt.plot(i,(2*mt.log(vel_converg)*i)+mt.log(error_0),'.', color='red')\n",
        "\n",
        "  print(\"autov aporx = \",a_valor_est)\n",
        "\n",
        "  print(\"\\n\",error_0)\n",
        "  for i in range(k):\n",
        "    error_0 = error_0 * vel_converg\n",
        "    if i == k-1:\n",
        "      print(error_0)\n",
        "\n",
        "  plt.show()"
      ],
      "metadata": {
        "id": "rYxcCne-AuaD"
      },
      "execution_count": 159,
      "outputs": []
    },
    {
      "cell_type": "code",
      "source": [
        "error_aprox_autov(A,1000)"
      ],
      "metadata": {
        "id": "y5zwRCN7EQjq",
        "outputId": "ba1047dc-bcc6-4fbf-f645-970eff25b395",
        "colab": {
          "base_uri": "https://localhost:8080/",
          "height": 551
        }
      },
      "execution_count": 160,
      "outputs": [
        {
          "output_type": "stream",
          "name": "stdout",
          "text": [
            "autov real= 1.8411188597722248\n",
            "0.016493596243117192\n",
            "0.015126290106465934\n",
            "autov aporx =  1.8562451498786907\n",
            "\n",
            " 0.016493596243117192\n",
            "0.0\n"
          ]
        },
        {
          "output_type": "display_data",
          "data": {
            "text/plain": [
              "<Figure size 640x480 with 1 Axes>"
            ],
            "image/png": "[encoded data removed]"
          },
          "metadata": {}
        }
      ]
    },
    {
      "cell_type": "code",
      "source": [
        "error_aprox_autov(B,100)"
      ],
      "metadata": {
        "id": "D9taHfa6zo4-",
        "outputId": "c28abc47-ebcd-4512-d708-d2281abf784b",
        "colab": {
          "base_uri": "https://localhost:8080/",
          "height": 551
        }
      },
      "execution_count": 161,
      "outputs": [
        {
          "output_type": "stream",
          "name": "stdout",
          "text": [
            "autov real= 21.479187408590217\n",
            "0.7318925028507657\n",
            "1.4210854715202004e-14\n",
            "autov aporx =  21.47918740859023\n",
            "\n",
            " 0.7318925028507657\n",
            "6.899146354323984e-49\n"
          ]
        },
        {
          "output_type": "display_data",
          "data": {
            "text/plain": [
              "<Figure size 640x480 with 1 Axes>"
            ],
            "image/png": "[encoded data removed]"
          },
          "metadata": {}
        }
      ]
    },
    {
      "cell_type": "code",
      "source": [
        "error_aprox_autov(C,100)"
      ],
      "metadata": {
        "id": "iWS6SKz4zuU3",
        "outputId": "b8f079bd-e353-4acc-e7fa-1b54beaca8c3",
        "colab": {
          "base_uri": "https://localhost:8080/",
          "height": 551
        }
      },
      "execution_count": 162,
      "outputs": [
        {
          "output_type": "stream",
          "name": "stdout",
          "text": [
            "autov real= 121.47918740859016\n",
            "19.80437361170125\n",
            "2.5919794666151574e-07\n",
            "autov aporx =  121.47918714939222\n",
            "\n",
            " 19.80437361170125\n",
            "1.078870620673819e-06\n"
          ]
        },
        {
          "output_type": "display_data",
          "data": {
            "text/plain": [
              "<Figure size 640x480 with 1 Axes>"
            ],
            "image/png": "[encoded data removed]"
          },
          "metadata": {}
        }
      ]
    },
    {
      "cell_type": "code",
      "source": [
        "error_aprox_autov(D,1000)"
      ],
      "metadata": {
        "id": "WjDtCVZoz-Ed",
        "outputId": "e1c57a87-f277-4309-f32b-a1307b3aa623",
        "colab": {
          "base_uri": "https://localhost:8080/",
          "height": 551
        }
      },
      "execution_count": 163,
      "outputs": [
        {
          "output_type": "stream",
          "name": "stdout",
          "text": [
            "autov real= 1021.4791874085911\n",
            "17.169857428613568\n",
            "8.183519639715087e-09\n",
            "autov aporx =  1021.4791874004076\n",
            "\n",
            " 17.169857428613568\n",
            "8.088648410608703e-08\n"
          ]
        },
        {
          "output_type": "display_data",
          "data": {
            "text/plain": [
              "<Figure size 640x480 with 1 Axes>"
            ],
            "image/png": "[encoded data removed]"
          },
          "metadata": {}
        }
      ]
    }
  ]
}