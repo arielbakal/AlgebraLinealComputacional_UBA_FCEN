{
  "nbformat": 4,
  "nbformat_minor": 0,
  "metadata": {
    "colab": {
      "provenance": [],
      "authorship_tag": "ABX9TyMYcr7kTHvlLjw+TgoScPF2",
      "include_colab_link": true
    },
    "kernelspec": {
      "name": "python3",
      "display_name": "Python 3"
    },
    "language_info": {
      "name": "python"
    }
  },
  "cells": [
    {
      "cell_type": "markdown",
      "metadata": {
        "id": "view-in-github",
        "colab_type": "text"
      },
      "source": [
        "<a href=\"https://colab.research.google.com/github/arielbakal/uba_alc/blob/main/laboratorio/TP1/TP1.ipynb\" target=\"_parent\"><img src=\"https://colab.research.google.com/assets/colab-badge.svg\" alt=\"Open In Colab\"/></a>"
      ]
    },
    {
      "cell_type": "code",
      "execution_count": 1,
      "metadata": {
        "id": "Pi9VqXAtG4Ny"
      },
      "outputs": [],
      "source": [
        "import numpy as np"
      ]
    },
    {
      "cell_type": "markdown",
      "source": [
        "### Ejercicio 1"
      ],
      "metadata": {
        "id": "B8qMmCxoWQd8"
      }
    },
    {
      "cell_type": "code",
      "source": [
        "def met_pot(A,k):\n",
        "  x = np.random.rand(A.shape[1])\n",
        "  for i in range(k):\n",
        "    Ax = A@x\n",
        "    Ax_norma = np.linalg.norm(Ax)\n",
        "    x = Ax/Ax_norma\n",
        "    print(x)\n",
        "  return x"
      ],
      "metadata": {
        "id": "f1ASpDgzMHyy"
      },
      "execution_count": 50,
      "outputs": []
    },
    {
      "cell_type": "code",
      "source": [
        "A = np.array([[3,1],[0,2]])\n",
        "x = met_pot(A, 50)"
      ],
      "metadata": {
        "colab": {
          "base_uri": "https://localhost:8080/"
        },
        "id": "rAhCNqRLP9sJ",
        "outputId": "98deb9f5-48b0-4ef2-8471-04cf1c240d9e"
      },
      "execution_count": 60,
      "outputs": [
        {
          "output_type": "stream",
          "name": "stdout",
          "text": [
            "[0.94050777 0.33977219]\n",
            "[0.97766764 0.21015705]\n",
            "[0.99117718 0.1325436 ]\n",
            "[0.99637791 0.08503562]\n",
            "[0.99847321 0.0552382 ]\n",
            "[0.99934492 0.03619024]\n",
            "[0.9997156 0.0238479]\n",
            "[0.99987556 0.0157757 ]\n",
            "[0.99994526 0.01046284]\n",
            "[0.99997584 0.0069512 ]\n",
            "[0.99998931 0.00462348]\n",
            "[0.99999526 0.0030776 ]\n",
            "[0.9999979  0.00204963]\n",
            "[0.99999907 0.00136549]\n",
            "[9.99999586e-01 9.09913411e-04]\n",
            "[9.99999816e-01 6.06425149e-04]\n",
            "[9.99999918e-01 4.04201768e-04]\n",
            "[9.99999964e-01 2.69431556e-04]\n",
            "[9.99999984e-01 1.79604910e-04]\n",
            "[9.99999993e-01 1.19729440e-04]\n",
            "[9.99999997e-01 7.98164415e-05]\n",
            "[9.99999999e-01 5.32095454e-05]\n",
            "[9.99999999e-01 3.54724012e-05]\n",
            "[1.00000000e+00 2.36479878e-05]\n",
            "[1.0000000e+00 1.5765201e-05]\n",
            "[1.00000000e+00 1.05100787e-05]\n",
            "[1.00000000e+00 7.00669461e-06]\n",
            "[1.00000000e+00 4.67111883e-06]\n",
            "[1.00000000e+00 3.11407437e-06]\n",
            "[1.00000000e+00 2.07604743e-06]\n",
            "[1.00000000e+00 1.38403066e-06]\n",
            "[1.00000000e+00 9.22686681e-07]\n",
            "[1.00000000e+00 6.15124265e-07]\n",
            "[1.00000000e+00 4.10082759e-07]\n",
            "[1.00000000e+00 2.73388469e-07]\n",
            "[1.00000000e+00 1.82258963e-07]\n",
            "[1.00000000e+00 1.21505968e-07]\n",
            "[1.00000000e+00 8.10039751e-08]\n",
            "[1.00000000e+00 5.40026486e-08]\n",
            "[1.00000000e+00 3.60017651e-08]\n",
            "[1.00000000e+00 2.40011765e-08]\n",
            "[1.00000000e+00 1.60007842e-08]\n",
            "[1.00000000e+00 1.06671894e-08]\n",
            "[1.00000000e+00 7.11145957e-09]\n",
            "[1.00000000e+00 4.74097304e-09]\n",
            "[1.00000000e+00 3.16064869e-09]\n",
            "[1.00000000e+00 2.10709912e-09]\n",
            "[1.00000000e+00 1.40473275e-09]\n",
            "[1.00000000e+00 9.36488497e-10]\n",
            "[1.00000000e+00 6.24325665e-10]\n"
          ]
        }
      ]
    },
    {
      "cell_type": "code",
      "source": [
        "def rayleigh(A, x):\n",
        "  a_valor = ( np.transpose(x)@(A@x) / (np.transpose(x)@x) )\n",
        "  return a_valor\n",
        "  print(\"autovalor =\", a_valor)"
      ],
      "metadata": {
        "id": "CA-UkAVXTcgs"
      },
      "execution_count": 56,
      "outputs": []
    },
    {
      "cell_type": "code",
      "source": [
        "rayleigh(A,x)"
      ],
      "metadata": {
        "colab": {
          "base_uri": "https://localhost:8080/"
        },
        "id": "ec_BAT0YTSEa",
        "outputId": "49d5c54c-d20e-409f-c389-c1b4feb798a2"
      },
      "execution_count": 57,
      "outputs": [
        {
          "output_type": "execute_result",
          "data": {
            "text/plain": [
              "3.0"
            ]
          },
          "metadata": {},
          "execution_count": 57
        }
      ]
    },
    {
      "cell_type": "code",
      "source": [
        "np.linalg.eigvals(A)"
      ],
      "metadata": {
        "colab": {
          "base_uri": "https://localhost:8080/"
        },
        "id": "eaPNd0AfVS-U",
        "outputId": "6dd90e97-c836-44b0-9157-63fd51f7e1a1"
      },
      "execution_count": 58,
      "outputs": [
        {
          "output_type": "execute_result",
          "data": {
            "text/plain": [
              "array([3., 2.])"
            ]
          },
          "metadata": {},
          "execution_count": 58
        }
      ]
    },
    {
      "cell_type": "markdown",
      "source": [
        "### Ejercicio 2"
      ],
      "metadata": {
        "id": "-l9e2mdiWTA9"
      }
    },
    {
      "cell_type": "code",
      "source": [
        "import random\n",
        "def genMat(n,m):\n",
        "  A = np.random.rand(n,m)\n",
        "  print(\"A =\\n\",A)\n",
        "  B = np.zeros([n,m])\n",
        "  C = np.zeros([n,m])\n",
        "  for i in range(n):\n",
        "    for j in range(m):\n",
        "      if i == j:\n",
        "        B[i][j] = random.randint(0,10)\n",
        "        C[i][j] = B[i][j] + 100\n",
        "      else :\n",
        "        rnd = random.randint(0,10) \n",
        "        B[i][j] = rnd\n",
        "        B[j][i] = B[i][j]\n",
        "        C[i][j] = B[i][j]\n",
        "        C[j][i] = B[i][j]\n",
        "  print(\"B =\\n\",B)\n",
        "  print(\"C =\\n\",C)\n"
      ],
      "metadata": {
        "id": "MS9QdAw5WV6C"
      },
      "execution_count": 114,
      "outputs": []
    },
    {
      "cell_type": "code",
      "source": [
        "genMat(5,5)"
      ],
      "metadata": {
        "colab": {
          "base_uri": "https://localhost:8080/"
        },
        "id": "cye0dggudPJz",
        "outputId": "390b298b-3e12-403f-e530-f13309b7ec42"
      },
      "execution_count": 115,
      "outputs": [
        {
          "output_type": "stream",
          "name": "stdout",
          "text": [
            "A =\n",
            " [[0.70823142 0.52343232 0.69346935 0.70918111 0.48534035]\n",
            " [0.82935334 0.84853461 0.59371963 0.84599666 0.51499665]\n",
            " [0.92296928 0.50239391 0.69996811 0.31619729 0.96340443]\n",
            " [0.36643656 0.7744841  0.05373131 0.88910789 0.81738751]\n",
            " [0.97396655 0.13137532 0.33327648 0.8408584  0.56561279]]\n",
            "B =\n",
            " [[ 4.  0.  9.  6.  7.]\n",
            " [ 0.  5.  5. 10.  5.]\n",
            " [ 9.  5.  3.  1.  8.]\n",
            " [ 6. 10.  1.  3.  1.]\n",
            " [ 7.  5.  8.  1.  3.]]\n",
            "C =\n",
            " [[104.   0.   9.   6.   7.]\n",
            " [  0. 105.   5.  10.   5.]\n",
            " [  9.   5. 103.   1.   8.]\n",
            " [  6.  10.   1. 103.   1.]\n",
            " [  7.   5.   8.   1. 103.]]\n"
          ]
        }
      ]
    }
  ]
}