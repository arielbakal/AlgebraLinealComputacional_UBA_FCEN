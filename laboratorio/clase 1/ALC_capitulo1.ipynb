{
  "cells": [
    {
      "cell_type": "markdown",
      "metadata": {
        "id": "view-in-github",
        "colab_type": "text"
      },
      "source": [
        "<a href=\"https://colab.research.google.com/github/arielbakal/AlgebraLinealComputacional_UBA_FCEN/blob/main/laboratorio/clase%201/ALC_capitulo1.ipynb\" target=\"_parent\"><img src=\"https://colab.research.google.com/assets/colab-badge.svg\" alt=\"Open In Colab\"/></a>"
      ]
    },
    {
      "cell_type": "markdown",
      "id": "d34cdd47",
      "metadata": {
        "id": "d34cdd47"
      },
      "source": [
        "# ALC - Capítulo 1\n",
        "## Nociones básicas de álgebra lineal"
      ]
    },
    {
      "cell_type": "markdown",
      "id": "4fddbfaa",
      "metadata": {
        "id": "4fddbfaa"
      },
      "source": [
        "## Clase 1"
      ]
    },
    {
      "cell_type": "code",
      "execution_count": null,
      "id": "d3f9ddc6",
      "metadata": {
        "id": "d3f9ddc6"
      },
      "outputs": [],
      "source": [
        "import numpy as np"
      ]
    },
    {
      "cell_type": "code",
      "execution_count": null,
      "id": "87f1dc84",
      "metadata": {
        "id": "87f1dc84",
        "colab": {
          "base_uri": "https://localhost:8080/"
        },
        "outputId": "1bdfd00c-64a6-4b7f-cff5-00978d058782"
      },
      "outputs": [
        {
          "output_type": "stream",
          "name": "stdout",
          "text": [
            "[10.  5. -7.  1.]\n"
          ]
        }
      ],
      "source": [
        "v1 = np.array([10., 5., -7, 1])\n",
        "print(v1)"
      ]
    },
    {
      "cell_type": "code",
      "execution_count": null,
      "id": "7df7c397",
      "metadata": {
        "id": "7df7c397",
        "colab": {
          "base_uri": "https://localhost:8080/"
        },
        "outputId": "6620b895-24a4-4d20-80dd-8f1bee44b4e6"
      },
      "outputs": [
        {
          "output_type": "stream",
          "name": "stdout",
          "text": [
            "[5.  0.  1.5 2. ]\n"
          ]
        }
      ],
      "source": [
        "v2 = np.array([5, 0, 3/2, 2])\n",
        "print(v2)"
      ]
    },
    {
      "cell_type": "code",
      "execution_count": null,
      "id": "0f0e4e1d",
      "metadata": {
        "id": "0f0e4e1d",
        "colab": {
          "base_uri": "https://localhost:8080/"
        },
        "outputId": "c217c64a-308a-4f5f-ce83-4774d589606e"
      },
      "outputs": [
        {
          "output_type": "execute_result",
          "data": {
            "text/plain": [
              "array([15. ,  5. , -5.5,  3. ])"
            ]
          },
          "metadata": {},
          "execution_count": 4
        }
      ],
      "source": [
        "v1 + v2"
      ]
    },
    {
      "cell_type": "code",
      "execution_count": null,
      "id": "9b8833ec",
      "metadata": {
        "id": "9b8833ec",
        "colab": {
          "base_uri": "https://localhost:8080/"
        },
        "outputId": "a77381a5-d66e-42ca-9e9b-370d2637b9e1"
      },
      "outputs": [
        {
          "output_type": "execute_result",
          "data": {
            "text/plain": [
              "array([ 30.,  15., -21.,   3.])"
            ]
          },
          "metadata": {},
          "execution_count": 5
        }
      ],
      "source": [
        "v1 * 3"
      ]
    },
    {
      "cell_type": "code",
      "execution_count": null,
      "id": "dab7b919",
      "metadata": {
        "id": "dab7b919",
        "colab": {
          "base_uri": "https://localhost:8080/"
        },
        "outputId": "14bf68ee-063f-4658-eaac-f0986ecc6cff"
      },
      "outputs": [
        {
          "output_type": "execute_result",
          "data": {
            "text/plain": [
              "8"
            ]
          },
          "metadata": {},
          "execution_count": 6
        }
      ],
      "source": [
        "2**3"
      ]
    },
    {
      "cell_type": "code",
      "execution_count": null,
      "id": "4041bc8d",
      "metadata": {
        "id": "4041bc8d",
        "colab": {
          "base_uri": "https://localhost:8080/"
        },
        "outputId": "01bc4920-7168-4000-e2da-d569c6df31a2"
      },
      "outputs": [
        {
          "output_type": "execute_result",
          "data": {
            "text/plain": [
              "175.0"
            ]
          },
          "metadata": {},
          "execution_count": 7
        }
      ],
      "source": [
        "# ** es el simbolo de potencia\n",
        "sum(v1**2)"
      ]
    },
    {
      "cell_type": "code",
      "execution_count": null,
      "id": "4c8e1fcb",
      "metadata": {
        "id": "4c8e1fcb",
        "colab": {
          "base_uri": "https://localhost:8080/"
        },
        "outputId": "bfa3f7c2-3937-4133-bed0-71ebfce10f56"
      },
      "outputs": [
        {
          "output_type": "execute_result",
          "data": {
            "text/plain": [
              "array([11.,  6., -6.,  2.])"
            ]
          },
          "metadata": {},
          "execution_count": 8
        }
      ],
      "source": [
        "v1 + 1"
      ]
    },
    {
      "cell_type": "markdown",
      "id": "a4f0dd59",
      "metadata": {
        "id": "a4f0dd59"
      },
      "source": [
        "### Matrices"
      ]
    },
    {
      "cell_type": "code",
      "execution_count": null,
      "id": "9a147a36",
      "metadata": {
        "id": "9a147a36",
        "colab": {
          "base_uri": "https://localhost:8080/"
        },
        "outputId": "25d4b367-0816-4932-a79f-bd7890d12587"
      },
      "outputs": [
        {
          "output_type": "stream",
          "name": "stdout",
          "text": [
            "A = \n",
            " [[2 2]\n",
            " [3 4]]\n",
            "B = \n",
            " [[ 1  2  3  4]\n",
            " [ 7  1  2 -1]]\n",
            "C = \n",
            " [[1.        ]\n",
            " [7.        ]\n",
            " [0.33333333]]\n"
          ]
        }
      ],
      "source": [
        "A = np.array([[2,2],[3,4]]) # Matriz de 2 x 2\n",
        "print(\"A = \\n\", A)\n",
        "\n",
        "B = np.array([[1,2,3,4],[7,1,2,-1]]) # Matriz de 2 x 4\n",
        "print(\"B = \\n\", B)\n",
        "\n",
        "C = np.array([[1], [7], [1/3]]) # Matriz columna de 3 x 1\n",
        "print(\"C = \\n\", C)"
      ]
    },
    {
      "cell_type": "code",
      "execution_count": null,
      "id": "148d6fed",
      "metadata": {
        "id": "148d6fed",
        "colab": {
          "base_uri": "https://localhost:8080/"
        },
        "outputId": "d2fb1d15-388b-405f-e0cb-5bd8f4871fdc"
      },
      "outputs": [
        {
          "output_type": "execute_result",
          "data": {
            "text/plain": [
              "array([[4, 4],\n",
              "       [6, 8]])"
            ]
          },
          "metadata": {},
          "execution_count": 10
        }
      ],
      "source": [
        "# multiplicar una matriz por un escalar\n",
        "A * 2"
      ]
    },
    {
      "cell_type": "code",
      "execution_count": null,
      "id": "8f3ad1c0",
      "metadata": {
        "id": "8f3ad1c0",
        "colab": {
          "base_uri": "https://localhost:8080/"
        },
        "outputId": "6cb30b6a-ad86-45d1-d2b2-db3b8ea86f97"
      },
      "outputs": [
        {
          "output_type": "execute_result",
          "data": {
            "text/plain": [
              "array([[      1048576,       1048576],\n",
              "       [   3486784401, 1099511627776]])"
            ]
          },
          "metadata": {},
          "execution_count": 11
        }
      ],
      "source": [
        "# elevar los elementos de una matriz a una potencia\n",
        "A**20"
      ]
    },
    {
      "cell_type": "markdown",
      "id": "e3ab12aa",
      "metadata": {
        "id": "e3ab12aa"
      },
      "source": [
        "### row_echelon\n",
        "(programita para escalonar matrices)"
      ]
    },
    {
      "cell_type": "code",
      "execution_count": null,
      "id": "b7fd1e14",
      "metadata": {
        "id": "b7fd1e14"
      },
      "outputs": [],
      "source": [
        "import numpy as np\n",
        "\n",
        "def row_echelon(M):\n",
        "    \"\"\" Return Row Echelon Form of matrix A \"\"\"\n",
        "    A = np.copy(M)\n",
        "    if (issubclass(A.dtype.type, np.integer)):\n",
        "        A = A.astype(float)\n",
        "    #A = M.astype(float)\n",
        "    # if matrix A has no columns or rows,\n",
        "    # it is already in REF, so we return itself\n",
        "    r, c = A.shape\n",
        "    if r == 0 or c == 0:\n",
        "        return A\n",
        "\n",
        "    # we search for non-zero element in the first column\n",
        "    for i in range(len(A)):\n",
        "        if A[i,0] != 0:\n",
        "            break\n",
        "    else:\n",
        "        # if all elements in the first column is zero,\n",
        "        # we perform REF on matrix from second column\n",
        "        B = row_echelon(A[:,1:])\n",
        "        # and then add the first zero-column back\n",
        "        return np.hstack([A[:,:1], B])\n",
        "\n",
        "    # if non-zero element happens not in the first row,\n",
        "    # we switch rows\n",
        "    if i > 0:\n",
        "        ith_row = A[i].copy()\n",
        "        A[i] = A[0]\n",
        "        A[0] = ith_row\n",
        "\n",
        "    # we divide first row by first element in it\n",
        "    A[0] = A[0] / A[0,0]\n",
        "    # we subtract all subsequent rows with first row (it has 1 now as first element)\n",
        "    # multiplied by the corresponding element in the first column\n",
        "    A[1:] -= A[0] * A[1:,0:1]\n",
        "\n",
        "    # we perform REF on matrix from second row, from second column\n",
        "    B = row_echelon(A[1:,1:])\n",
        "\n",
        "    # we add first row and first (zero) column, and return\n",
        "    return np.vstack([A[:1], np.hstack([A[1:,:1], B]) ])"
      ]
    },
    {
      "cell_type": "code",
      "execution_count": null,
      "id": "7b2fc479",
      "metadata": {
        "id": "7b2fc479",
        "colab": {
          "base_uri": "https://localhost:8080/"
        },
        "outputId": "38669aa1-79f7-4894-d6ec-613b3bafe34d"
      },
      "outputs": [
        {
          "output_type": "stream",
          "name": "stdout",
          "text": [
            "[[ 1  2  3  4]\n",
            " [ 5  6  7  8]\n",
            " [ 9 10 11 12]]\n"
          ]
        }
      ],
      "source": [
        "A = np.array([[1,2,3,4],[5,6,7,8],[9,10,11,12]])\n",
        "print(A)"
      ]
    },
    {
      "cell_type": "code",
      "execution_count": null,
      "id": "557d4011",
      "metadata": {
        "id": "557d4011",
        "colab": {
          "base_uri": "https://localhost:8080/"
        },
        "outputId": "7b29705c-0719-44f6-91d6-f40919dd1122"
      },
      "outputs": [
        {
          "output_type": "stream",
          "name": "stdout",
          "text": [
            "[[1. 2. 3. 4.]\n",
            " [0. 1. 2. 3.]\n",
            " [0. 0. 0. 0.]]\n"
          ]
        }
      ],
      "source": [
        "print(row_echelon(A))"
      ]
    },
    {
      "cell_type": "code",
      "execution_count": null,
      "id": "9576b032",
      "metadata": {
        "id": "9576b032",
        "colab": {
          "base_uri": "https://localhost:8080/"
        },
        "outputId": "6a11dbec-fbc1-43f6-b0d7-3396f2c8b5e5"
      },
      "outputs": [
        {
          "output_type": "stream",
          "name": "stdout",
          "text": [
            "[[ 1  2  3  4]\n",
            " [ 1  2  3  4]\n",
            " [ 5  6  7  8]\n",
            " [ 9 10 11 12]]\n"
          ]
        }
      ],
      "source": [
        "# OJO... puede hacer algunas operaciones de cambios de fila!\n",
        "A = np.array([[1,2,3,4], [1,2,3,4],[5,6,7,8],[9,10,11,12]])\n",
        "print(A)"
      ]
    },
    {
      "cell_type": "code",
      "execution_count": null,
      "id": "9c6e67c1",
      "metadata": {
        "id": "9c6e67c1",
        "colab": {
          "base_uri": "https://localhost:8080/"
        },
        "outputId": "314c70cc-d5e6-43e1-a251-db539a0b9b77"
      },
      "outputs": [
        {
          "output_type": "stream",
          "name": "stdout",
          "text": [
            "[[1. 2. 3. 4.]\n",
            " [0. 1. 2. 3.]\n",
            " [0. 0. 0. 0.]\n",
            " [0. 0. 0. 0.]]\n"
          ]
        }
      ],
      "source": [
        "print(row_echelon(A))"
      ]
    },
    {
      "cell_type": "code",
      "execution_count": null,
      "id": "366367f0",
      "metadata": {
        "id": "366367f0",
        "colab": {
          "base_uri": "https://localhost:8080/"
        },
        "outputId": "af23ba7f-532c-45e6-91ad-ae07f4a3d1f2"
      },
      "outputs": [
        {
          "output_type": "stream",
          "name": "stdout",
          "text": [
            "[[1.  0.6 2.2]\n",
            " [0.  0.  0. ]\n",
            " [0.  0.  0. ]]\n"
          ]
        }
      ],
      "source": [
        "A = np.array([[5,3,11],[15,9,33],[20,12,44]])\n",
        "print(row_echelon(A))"
      ]
    },
    {
      "cell_type": "code",
      "execution_count": null,
      "id": "22fe669c",
      "metadata": {
        "id": "22fe669c",
        "colab": {
          "base_uri": "https://localhost:8080/"
        },
        "outputId": "16131ceb-3d95-4ae2-a10b-27a708013da4"
      },
      "outputs": [
        {
          "output_type": "stream",
          "name": "stdout",
          "text": [
            "[[1.  0.6 2.2]\n",
            " [0.  0.  1. ]\n",
            " [0.  0.  0. ]]\n"
          ]
        }
      ],
      "source": [
        "A = np.array([[5,3,11],[15,9,33],[20,12,55]])\n",
        "print(row_echelon(A))"
      ]
    }
  ],
  "metadata": {
    "kernelspec": {
      "display_name": "Python 3 (ipykernel)",
      "language": "python",
      "name": "python3"
    },
    "language_info": {
      "codemirror_mode": {
        "name": "ipython",
        "version": 3
      },
      "file_extension": ".py",
      "mimetype": "text/x-python",
      "name": "python",
      "nbconvert_exporter": "python",
      "pygments_lexer": "ipython3",
      "version": "3.9.7"
    },
    "colab": {
      "provenance": [],
      "include_colab_link": true
    }
  },
  "nbformat": 4,
  "nbformat_minor": 5
}