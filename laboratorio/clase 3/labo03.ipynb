{
  "nbformat": 4,
  "nbformat_minor": 0,
  "metadata": {
    "colab": {
      "provenance": [],
      "authorship_tag": "ABX9TyPY/IEpOb5AceQtl+L0J2CA",
      "include_colab_link": true
    },
    "kernelspec": {
      "name": "python3",
      "display_name": "Python 3"
    },
    "language_info": {
      "name": "python"
    }
  },
  "cells": [
    {
      "cell_type": "markdown",
      "metadata": {
        "id": "view-in-github",
        "colab_type": "text"
      },
      "source": [
        "<a href=\"https://colab.research.google.com/github/arielbakal/AlgebraLinealComputacional_UBA_FCEN/blob/main/laboratorio/clase%203/labo03.ipynb\" target=\"_parent\"><img src=\"https://colab.research.google.com/assets/colab-badge.svg\" alt=\"Open In Colab\"/></a>"
      ]
    },
    {
      "cell_type": "code",
      "execution_count": 1,
      "metadata": {
        "id": "wP64P5BMZz9N"
      },
      "outputs": [],
      "source": [
        "import matplotlib.pyplot as plt\n",
        "import numpy as np"
      ]
    },
    {
      "cell_type": "markdown",
      "source": [
        "###**Ejercicio 1 (Reescalamiento)**"
      ],
      "metadata": {
        "id": "Knnej-YidivW"
      }
    },
    {
      "cell_type": "markdown",
      "source": [
        "####Inciso 1"
      ],
      "metadata": {
        "id": "S2u4oxx_fmYh"
      }
    },
    {
      "cell_type": "markdown",
      "source": [
        "Sea $(x,y)=T(w,z)=(2w,3z)$ una transformación lineal\n",
        "\n",
        "La expresión de la matriz $T$ es:"
      ],
      "metadata": {
        "id": "L7PNV0o7dwdY"
      }
    },
    {
      "cell_type": "markdown",
      "source": [
        "$\\begin{equation} T\\begin{pmatrix}w\\\\z\\end{pmatrix} = \\begin{pmatrix}2 & 0\\\\0 & 3\\end{pmatrix}\\begin{pmatrix}w\\\\z\\end{pmatrix} = \\begin{pmatrix}2w\\\\3z\\end{pmatrix} \\end{equation}$\n"
      ],
      "metadata": {
        "id": "oMKK6aqMauLx"
      }
    },
    {
      "cell_type": "markdown",
      "source": [
        "Hallemos su inversa"
      ],
      "metadata": {
        "id": "x_rRSDiqeywn"
      }
    },
    {
      "cell_type": "code",
      "source": [
        "T = np.array([[2,0],[0,3]])\n",
        "Id = np.array([[1,0],[0,1]])\n",
        "invT = np.linalg.solve(T, Id)\n",
        "print(invT)"
      ],
      "metadata": {
        "colab": {
          "base_uri": "https://localhost:8080/"
        },
        "id": "hjC9H-wke0pi",
        "outputId": "95b17df8-0228-4ece-fc72-d3495aca33a9"
      },
      "execution_count": 8,
      "outputs": [
        {
          "output_type": "stream",
          "name": "stdout",
          "text": [
            "[[0.5        0.        ]\n",
            " [0.         0.33333333]]\n"
          ]
        }
      ]
    },
    {
      "cell_type": "markdown",
      "source": [
        "Luego,"
      ],
      "metadata": {
        "id": "o_6E3k5ifYkd"
      }
    },
    {
      "cell_type": "markdown",
      "source": [
        "$\\begin{equation} T^{-1}\\begin{pmatrix}w\\\\z\\end{pmatrix} = \\begin{pmatrix}1/2 & 0\\\\0 & 1/3\\end{pmatrix}\\begin{pmatrix}w\\\\z\\end{pmatrix} = \\begin{pmatrix}w/2\\\\z/3\\end{pmatrix} \\end{equation}$"
      ],
      "metadata": {
        "id": "oIpeHktufcOo"
      }
    },
    {
      "cell_type": "markdown",
      "source": [
        "####Inciso 2"
      ],
      "metadata": {
        "id": "A_FSpR06ft3v"
      }
    },
    {
      "cell_type": "markdown",
      "source": [
        "**A)** Sean $e_1 = (1,0)$ y $e_2 = (0,1)$ "
      ],
      "metadata": {
        "id": "CpP_eqQnfyyw"
      }
    },
    {
      "cell_type": "code",
      "source": [
        "e1 = np.array([[1],[0]])\n",
        "e2 = np.array([[0],[1]])\n",
        "print(np.matmul(T, e1)) \n",
        "print(np.matmul(invT, e1)) \n",
        "print(np.matmul(T, e2)) \n",
        "print(np.matmul(invT, e2)) \n"
      ],
      "metadata": {
        "colab": {
          "base_uri": "https://localhost:8080/"
        },
        "id": "jko27edXjIJX",
        "outputId": "a635635a-7cba-4d9d-85bc-7a95c2012e0e"
      },
      "execution_count": 33,
      "outputs": [
        {
          "output_type": "stream",
          "name": "stdout",
          "text": [
            "[[2]\n",
            " [0]]\n",
            "[[0.5]\n",
            " [0. ]]\n",
            "[[0]\n",
            " [3]]\n",
            "[[0.        ]\n",
            " [0.33333333]]\n"
          ]
        }
      ]
    },
    {
      "cell_type": "markdown",
      "source": [
        "$\\begin{equation} T(e_1) = \\begin{pmatrix}2 & 0\\\\0 & 3\\end{pmatrix}\\begin{pmatrix}1\\\\0\\end{pmatrix} = \\begin{pmatrix}2\\\\0\\end{pmatrix} \\end{equation}$ y  $\\begin{equation} T^{-1}(e_1) = \\begin{pmatrix}1/2 & 0\\\\0 & 1/3\\end{pmatrix}\\begin{pmatrix}1\\\\0\\end{pmatrix} = \\begin{pmatrix}1/2\\\\0\\end{pmatrix} \\end{equation}$\n",
        "\n",
        "\n",
        "$\\begin{equation} T(e_2) = \\begin{pmatrix}2 & 0\\\\0 & 3\\end{pmatrix}\\begin{pmatrix}0\\\\1\\end{pmatrix} = \\begin{pmatrix}0\\\\3\\end{pmatrix} \\end{equation}$ y $\\begin{equation} T^{-1}(e_1) = \\begin{pmatrix}1/2 & 0\\\\0 & 1/3\\end{pmatrix}\\begin{pmatrix}0\\\\1\\end{pmatrix} = \\begin{pmatrix}0\\\\1/3\\end{pmatrix} \\end{equation}$"
      ],
      "metadata": {
        "id": "oBsGfmPogkGl"
      }
    },
    {
      "cell_type": "markdown",
      "source": [
        "**B)** Sea $ \\varphi = (11,7) $ "
      ],
      "metadata": {
        "id": "Tuc20VmXi3cp"
      }
    },
    {
      "cell_type": "markdown",
      "source": [
        "$\\begin{equation} T(\\varphi) = \\begin{pmatrix}2 & 0\\\\0 & 3\\end{pmatrix}\\begin{pmatrix}11\\\\7\\end{pmatrix} = \\begin{pmatrix}22\\\\21\\end{pmatrix} \\end{equation}$ y $\\begin{equation} T^{-1}(\\varphi) = \\begin{pmatrix}1/2 & 0\\\\0 & 1/3\\end{pmatrix}\\begin{pmatrix}11\\\\7\\end{pmatrix} = \\begin{pmatrix}11/2\\\\7/3\\end{pmatrix} \\end{equation}$"
      ],
      "metadata": {
        "id": "6axJ0DfMmKv2"
      }
    },
    {
      "cell_type": "markdown",
      "source": [
        "**C)** Sea $\\phi = \\begin{pmatrix}cos(\\theta)\\\\sen(\\theta)\\end{pmatrix}$ con $\\theta \\in [0,2\\pi]$"
      ],
      "metadata": {
        "id": "2bioqiWcmhz_"
      }
    },
    {
      "cell_type": "markdown",
      "source": [
        "$\\begin{equation} T(\\phi) = \\begin{pmatrix}2 & 0\\\\0 & 3\\end{pmatrix}\\begin{pmatrix}cos(\\theta)\\\\sen(\\theta)\\end{pmatrix} = \\begin{pmatrix}2cos(\\theta)\\\\3sen(\\theta)\\end{pmatrix} \\end{equation}$ y $\\begin{equation} T^{-1}(\\phi) = \\begin{pmatrix}1/2 & 0\\\\0 & 1/3\\end{pmatrix}\\begin{pmatrix}cos(\\theta)\\\\sen(\\theta)\\end{pmatrix} = \\begin{pmatrix}cos(\\theta)/2\\\\sen(\\theta)/3\\end{pmatrix} \\end{equation}$"
      ],
      "metadata": {
        "id": "uiyF2GUwotjL"
      }
    },
    {
      "cell_type": "markdown",
      "source": [
        "En cada uno de los casos se puede observar como los vectores se escalan, reduciendo o aumentando su valor. Graficamente podriamos hablar de un *Reescalamiento*"
      ],
      "metadata": {
        "id": "fTyfIu7kqUIU"
      }
    },
    {
      "cell_type": "markdown",
      "source": [
        "###**Ejercicio 2 (Deformación)**"
      ],
      "metadata": {
        "id": "eNd6nomXtUlv"
      }
    },
    {
      "cell_type": "markdown",
      "source": [
        "####Inciso A"
      ],
      "metadata": {
        "id": "VAMWAeCSxCik"
      }
    },
    {
      "cell_type": "markdown",
      "source": [
        "Sea $(x,y) = T(w,z) = (w + (0.4)z, z)$, hallar $T$ y $T^{-1}$"
      ],
      "metadata": {
        "id": "qI60adw6tZSr"
      }
    },
    {
      "cell_type": "markdown",
      "source": [
        "Como $\\begin{equation}\\begin{pmatrix}w + (0.4)z\\\\z\\end{pmatrix} = w\\begin{pmatrix}1\\\\0\\end{pmatrix}+z\\begin{pmatrix}0.4\\\\1\\end{pmatrix}\\end{equation}$. Puedo decir que $T = \\begin{pmatrix}1 & 0.4\\\\0 & 1\\end{pmatrix}$ puesto que,"
      ],
      "metadata": {
        "id": "aFoOMd1ht7Pw"
      }
    },
    {
      "cell_type": "markdown",
      "source": [
        "$\\begin{equation} T\\begin{pmatrix}w\\\\z\\end{pmatrix} = \\begin{pmatrix}1 & 0.4\\\\0 & 1\\end{pmatrix}\\begin{pmatrix}w\\\\z\\end{pmatrix} = \\begin{pmatrix}w + (0.4)z\\\\z\\end{pmatrix} \\end{equation}$ "
      ],
      "metadata": {
        "id": "HTZHQYvcvbU-"
      }
    },
    {
      "cell_type": "markdown",
      "source": [
        "Luego hallo su inversa"
      ],
      "metadata": {
        "id": "QQNkOqlYweZN"
      }
    },
    {
      "cell_type": "code",
      "source": [
        "T = np.array([[1,0.4],[0,1]])\n",
        "Id = np.array([[1,0],[0,1]])\n",
        "invT = np.linalg.solve(T, Id)\n",
        "print(invT)"
      ],
      "metadata": {
        "colab": {
          "base_uri": "https://localhost:8080/"
        },
        "id": "7Ow5aPDZwfxZ",
        "outputId": "b39d20db-0251-4cf9-e588-a9d2473cc0c2"
      },
      "execution_count": 65,
      "outputs": [
        {
          "output_type": "stream",
          "name": "stdout",
          "text": [
            "[[ 1.  -0.4]\n",
            " [ 0.   1. ]]\n"
          ]
        }
      ]
    },
    {
      "cell_type": "markdown",
      "source": [
        "$\\begin{equation} T^{-1}\\begin{pmatrix}w\\\\z\\end{pmatrix} = \\begin{pmatrix}1 & -0.4\\\\0 & 1\\end{pmatrix}\\begin{pmatrix}w\\\\z\\end{pmatrix}\\end{equation}$ "
      ],
      "metadata": {
        "id": "wbvEuwPOwpI2"
      }
    },
    {
      "cell_type": "markdown",
      "source": [
        "####Inciso B"
      ],
      "metadata": {
        "id": "aiBF8CsvxFlI"
      }
    },
    {
      "cell_type": "markdown",
      "source": [
        "Script para graficar y representar como el objeto se ve afectado por la transformación lineal\n"
      ],
      "metadata": {
        "id": "Ze1pUoFtx439"
      }
    },
    {
      "cell_type": "code",
      "source": [
        "def proyectarPts(T, wz):\n",
        "    assert(T.shape == (2,2)) # chequeo de matriz 2x2\n",
        "    assert(T.shape[1] == wz.shape[0]) # multiplicacion matricial valida   \n",
        "    xy = None\n",
        "    ############### Insert code here!! ######################3    \n",
        "    xy = np.matmul(T, wz)\n",
        "    ############### Insert code here!! ######################3\n",
        "    return xy\n",
        "\n",
        "def pointsGrid(corners):\n",
        "    # crear 10 lineas horizontales\n",
        "    [w1, z1] = np.meshgrid(np.linspace(corners[0,0], corners[1,0], 46),\n",
        "                        np.linspace(corners[0,1], corners[1,1], 10))\n",
        "\n",
        "    [w2, z2] = np.meshgrid(np.linspace(corners[0,0], corners[1,0], 10),\n",
        "                        np.linspace(corners[0,1], corners[1,1], 46))\n",
        "\n",
        "    w = np.concatenate((w1.reshape(1,-1),w2.reshape(1,-1)),1)\n",
        "    z = np.concatenate((z1.reshape(1,-1),z2.reshape(1,-1)),1)\n",
        "    wz = np.concatenate((w,z))\n",
        "                         \n",
        "    return wz\n",
        "          \n",
        "def vistform(T, wz, titulo=''):\n",
        "    # transformar los puntos de entrada usando T\n",
        "    xy = proyectarPts(T, wz)\n",
        "    if xy is None:\n",
        "        print('No fue implementada correctamente la proyeccion de coordenadas')\n",
        "        return\n",
        "    # calcular los limites para ambos plots\n",
        "    minlim = np.min(np.concatenate((wz, xy), 1), axis=1)\n",
        "    maxlim = np.max(np.concatenate((wz, xy), 1), axis=1)\n",
        "\n",
        "    bump = [np.max(((maxlim[0] - minlim[0]) * 0.05, 0.1)),\n",
        "            np.max(((maxlim[1] - minlim[1]) * 0.05, 0.1))]\n",
        "    limits = [[minlim[0]-bump[0], maxlim[0]+bump[0]],\n",
        "               [minlim[1]-bump[1], maxlim[1]+bump[1]]]             \n",
        "\n",
        "    fig, (ax1, ax2) = plt.subplots(1, 2)         \n",
        "    fig.suptitle(titulo)\n",
        "    grid_plot(ax1, wz, limits, 'w', 'z')    \n",
        "    grid_plot(ax2, xy, limits, 'x', 'y')    \n",
        "    \n",
        "def grid_plot(ax, ab, limits, a_label, b_label):\n",
        "    ax.plot(ab[0,:], ab[1,:], '.')\n",
        "    ax.set(aspect='equal',\n",
        "           xlim=limits[0], ylim=limits[1],\n",
        "           xlabel=a_label, ylabel=b_label)\n",
        "    \n",
        "def main(TL):\n",
        "    corners = np.array([[0,0],[100,100]])\n",
        "    wz = pointsGrid(corners)\n",
        "    vistform(TL, wz)\n"
      ],
      "metadata": {
        "id": "KnfaHv4TxBbe"
      },
      "execution_count": 75,
      "outputs": []
    },
    {
      "cell_type": "markdown",
      "source": [
        "Definamos $T = \\begin{pmatrix}1/2 & 0\\\\0 & 1/2\\end{pmatrix}$ y observemos como se ve afectado el objeto al transformarlo linealmente."
      ],
      "metadata": {
        "id": "AgGy1YrTyfkH"
      }
    },
    {
      "cell_type": "code",
      "source": [
        "T = np.array([[0.5, 0],[0,0.5]])\n",
        "main(T)"
      ],
      "metadata": {
        "colab": {
          "base_uri": "https://localhost:8080/",
          "height": 305
        },
        "id": "5dSvcwJIzp7C",
        "outputId": "34647ee6-90ab-4667-a869-9d82bb42dd3d"
      },
      "execution_count": 78,
      "outputs": [
        {
          "output_type": "display_data",
          "data": {
            "text/plain": [
              "<Figure size 640x480 with 2 Axes>"
            ],
            "image/png": "[encoded data removed]"
          },
          "metadata": {}
        }
      ]
    },
    {
      "cell_type": "markdown",
      "source": [
        "Aquí se puede apreciar un **Reescalamiento** del objeto, en este caso reduce por la mitad su tamaño"
      ],
      "metadata": {
        "id": "meN360Rxz3UA"
      }
    },
    {
      "cell_type": "markdown",
      "source": [
        "**¿ Qué sucede con $T = \\begin{pmatrix}1 & 0.4\\\\0 & 1\\end{pmatrix}$ ?**"
      ],
      "metadata": {
        "id": "6pGXZSQ00Dwy"
      }
    },
    {
      "cell_type": "code",
      "source": [
        "T = np.array([[1, 0.4],[0,1]])\n",
        "main(T)"
      ],
      "metadata": {
        "colab": {
          "base_uri": "https://localhost:8080/",
          "height": 241
        },
        "id": "5gu04HhC0YYX",
        "outputId": "c7ec7caa-64d4-4fd3-8a89-f1af340f072e"
      },
      "execution_count": 82,
      "outputs": [
        {
          "output_type": "display_data",
          "data": {
            "text/plain": [
              "<Figure size 640x480 with 2 Axes>"
            ],
            "image/png": "[encoded data removed]"
          },
          "metadata": {}
        }
      ]
    },
    {
      "cell_type": "markdown",
      "source": [
        "Nos encontramos con una **Deformación** del objeto."
      ],
      "metadata": {
        "id": "9-EtAcro0sSU"
      }
    },
    {
      "cell_type": "markdown",
      "source": [
        "**¿ Y si aplicamos ambas transformaciones lineales ?**"
      ],
      "metadata": {
        "id": "dUlOMwQe09rZ"
      }
    },
    {
      "cell_type": "markdown",
      "source": [
        "Es decir, $T = \\begin{pmatrix}1/2 & 0.4\\\\0 & 1/2\\end{pmatrix}$"
      ],
      "metadata": {
        "id": "-IaUCQLb1D7Q"
      }
    },
    {
      "cell_type": "markdown",
      "source": [
        "Podemos analizar y predecir como se transformaría el objeto, descomponiendo $T$ :"
      ],
      "metadata": {
        "id": "9kN_Uvqe2Ku5"
      }
    },
    {
      "cell_type": "markdown",
      "source": [
        "$T = \\begin{pmatrix}1/2 & 0.4\\\\0 & 1/2\\end{pmatrix} = \\begin{pmatrix}1/2 & 0\\\\0 & 1/2\\end{pmatrix} + \\begin{pmatrix}0 & 0.4\\\\0 & 0\\end{pmatrix}$"
      ],
      "metadata": {
        "id": "4bYaux9B1f7v"
      }
    },
    {
      "cell_type": "markdown",
      "source": [
        "$\\begin{pmatrix}1/2 & 0\\\\0 & 1/2\\end{pmatrix}$ representa una **Reescalación** y \n",
        "$\\begin{pmatrix}0 & 0.4\\\\0 & 0\\end{pmatrix}$ una **Deformación**"
      ],
      "metadata": {
        "id": "2v5gNS2p2kb1"
      }
    },
    {
      "cell_type": "markdown",
      "source": [
        "Por lo tanto podemos predecir que el objeto se reescalará a la mitad de su tamaño y luego se deformará como en el ejemplo anterior"
      ],
      "metadata": {
        "id": "TX9bGHAW204V"
      }
    },
    {
      "cell_type": "code",
      "source": [
        "T = np.array([[1/2, 0.4],[0,1/2]])\n",
        "main(T)"
      ],
      "metadata": {
        "colab": {
          "base_uri": "https://localhost:8080/",
          "height": 305
        },
        "id": "_fqyF_i92kC1",
        "outputId": "510ab184-ec04-406f-92fa-73123f0ab387"
      },
      "execution_count": 83,
      "outputs": [
        {
          "output_type": "display_data",
          "data": {
            "text/plain": [
              "<Figure size 640x480 with 2 Axes>"
            ],
            "image/png": "[encoded data removed]"
          },
          "metadata": {}
        }
      ]
    },
    {
      "cell_type": "markdown",
      "source": [
        "voilà"
      ],
      "metadata": {
        "id": "610RB5-84IXK"
      }
    },
    {
      "cell_type": "markdown",
      "source": [],
      "metadata": {
        "id": "X41-b3Rd2eEZ"
      }
    },
    {
      "cell_type": "markdown",
      "source": [],
      "metadata": {
        "id": "mIrB2ngg2K6X"
      }
    },
    {
      "cell_type": "code",
      "source": [
        "def graf_circ():\n",
        "    ang = np.linspace(0,2*(np.pi),100)\n",
        "    w = (2 * np.cos(ang)) \n",
        "    z = (3 * np.sin(ang))\n",
        "    plt.gca().set_aspect('equal')\n",
        "    plt.subplot(1,2,1)\n",
        "    plt.xlim(-1.5,1.5)\n",
        "    plt.ylim(-1.5,1.5)\n",
        "    plt.plot(w,z,'.')"
      ],
      "metadata": {
        "id": "k2y29Dk_aQDH"
      },
      "execution_count": 57,
      "outputs": []
    },
    {
      "cell_type": "code",
      "source": [
        "def main():\n",
        "    graf_circ()\n",
        "    ang = (np.pi)/2\n",
        "    T = np.array([[2,0],[0,3]])\n",
        "    R = np.array([[ np.cos(ang) , -(np.sin(ang)) ],[ np.sin(ang), np.cos(ang) ]])\n",
        "    invR = np.array([[ np.cos(ang) , (np.sin(ang)) ],[ -(np.sin(ang)) , np.cos(ang) ]])\n",
        "    xy = np.array([[1],[0]])\n",
        "    Rxy = np.matmul(R, xy)\n",
        "    TRxy = np.matmul(T, Rxy)\n",
        "    invR_TRxy = np.matmul(invR, TRxy)\n",
        "    plt.subplot(1,2,2)\n",
        "    plt.plot(invR_TRxy[0],invR_TRxy[1],'.')\n",
        "    plt.xlim(-5,5)\n",
        "    plt.ylim(-5,5)\n",
        "    plt.show()"
      ],
      "metadata": {
        "id": "gIjjHgiAaRRr"
      },
      "execution_count": 55,
      "outputs": []
    },
    {
      "cell_type": "code",
      "source": [
        "graf_circ()"
      ],
      "metadata": {
        "colab": {
          "base_uri": "https://localhost:8080/",
          "height": 490
        },
        "id": "oP1fWrP4aVE8",
        "outputId": "ae79a96a-7939-402a-e2d4-db1f3c219b8b"
      },
      "execution_count": 58,
      "outputs": [
        {
          "output_type": "stream",
          "name": "stderr",
          "text": [
            "<ipython-input-57-5b53c8007eda>:6: MatplotlibDeprecationWarning: Auto-removal of overlapping axes is deprecated since 3.6 and will be removed two minor releases later; explicitly call ax.remove() as needed.\n",
            "  plt.subplot(1,2,1)\n"
          ]
        },
        {
          "output_type": "display_data",
          "data": {
            "text/plain": [
              "<Figure size 640x480 with 1 Axes>"
            ],
            "image/png": "[encoded data removed]"
          },
          "metadata": {}
        }
      ]
    },
    {
      "cell_type": "markdown",
      "source": [
        "###**Ejercicio 3**"
      ],
      "metadata": {
        "id": "T3qgNJyt4wPm"
      }
    },
    {
      "cell_type": "markdown",
      "source": [
        "Sea $R_\\theta : \\mathbb R^2 \\rightarrow \\mathbb R^2$ la rotación de un ángulo  $\\theta$ alrededor del origen "
      ],
      "metadata": {
        "id": "3u0LTO0A4_VE"
      }
    },
    {
      "cell_type": "markdown",
      "source": [
        "####Inciso A"
      ],
      "metadata": {
        "id": "zn5agYWs5VbC"
      }
    },
    {
      "cell_type": "markdown",
      "source": [
        "Hallar una expresion de $R$ tal que $\\begin{pmatrix}X_\\theta\\\\Y_\\theta\\end{pmatrix} = R\\begin{pmatrix}X\\\\Y\\end{pmatrix}$"
      ],
      "metadata": {
        "id": "2MygMWOu5YGf"
      }
    },
    {
      "cell_type": "markdown",
      "source": [],
      "metadata": {
        "id": "TB8QLi9H6VKd"
      }
    }
  ]
}