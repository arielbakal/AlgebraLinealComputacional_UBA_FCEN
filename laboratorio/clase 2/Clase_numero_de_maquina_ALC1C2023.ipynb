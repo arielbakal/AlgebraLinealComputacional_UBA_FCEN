{
  "cells": [
    {
      "cell_type": "markdown",
      "metadata": {
        "id": "view-in-github",
        "colab_type": "text"
      },
      "source": [
        "<a href=\"https://colab.research.google.com/github/arielbakal/AlgebraLinealComputacional_UBA_FCEN/blob/main/laboratorio/clase%202/Clase_numero_de_maquina_ALC1C2023.ipynb\" target=\"_parent\"><img src=\"https://colab.research.google.com/assets/colab-badge.svg\" alt=\"Open In Colab\"/></a>"
      ]
    },
    {
      "cell_type": "code",
      "execution_count": 1,
      "metadata": {
        "id": "StNcG34Il4XU"
      },
      "outputs": [],
      "source": [
        "import numpy as np"
      ]
    },
    {
      "cell_type": "markdown",
      "metadata": {
        "id": "LmtKg6lvl4Xi"
      },
      "source": [
        "# Características de float (float64)"
      ]
    },
    {
      "cell_type": "code",
      "execution_count": 2,
      "metadata": {
        "colab": {
          "base_uri": "https://localhost:8080/"
        },
        "id": "VnJIktjDl4X6",
        "outputId": "7cebfe87-3e9a-488d-fde7-10fcd4f048d8"
      },
      "outputs": [
        {
          "output_type": "stream",
          "name": "stdout",
          "text": [
            "Máximo número flotante que puede representar Python:  1.7976931348623157e+308 \n",
            "\n",
            "Mínimo flotante positivo [normalizado] que puede representar Python:  2.2250738585072014e-308 \n",
            "\n",
            "Mínimo flotante positivo [subnormal] que puede representar Python:  5e-324 \n",
            "\n",
            "Epsilon de máquina:  2.220446049250313e-16\n"
          ]
        }
      ],
      "source": [
        "# Máximo número flotante que puede representar Python:\n",
        "print('Máximo número flotante que puede representar Python: ', np.finfo(float).max, '\\n')\n",
        "\n",
        "# Mínimo flotante positivo normalizado que puede representar Python:\n",
        "print('Mínimo flotante positivo [normalizado] que puede representar Python: ', np.finfo(float).tiny, '\\n')\n",
        "\n",
        "# Mínimo flotante positivo [subnormal] que puede representar Python:\n",
        "print('Mínimo flotante positivo [subnormal] que puede representar Python: ', np.nextafter(0., 1.), '\\n')\n",
        "\n",
        "# Epsilon de máquina\n",
        "print('Epsilon de máquina: ', np.finfo(float).eps)"
      ]
    },
    {
      "cell_type": "code",
      "execution_count": 3,
      "metadata": {
        "colab": {
          "base_uri": "https://localhost:8080/"
        },
        "id": "tz43CVABl4X9",
        "outputId": "55012cc5-72da-4e0c-a3ea-50650938955e"
      },
      "outputs": [
        {
          "output_type": "stream",
          "name": "stdout",
          "text": [
            "1 + ε = 1.0000000000000002\n",
            "1 + ε/2 = 1.0 \n",
            "\n",
            "¿1 + ε = 1? False\n",
            "¿1 + ε/2 = 1? True\n"
          ]
        }
      ],
      "source": [
        "# Veamos que efectivamente el épsilon de máquina es el número de máquina más chico tal que 1 + eps es distinto de 1\n",
        "\n",
        "eps = np.finfo(np.double).eps\n",
        "print('1 + ε =', 1 + eps)\n",
        "print('1 + ε/2 =', 1 + eps/2,'\\n')\n",
        "\n",
        "print('¿1 + ε = 1?', 1 + eps == 1)\n",
        "print('¿1 + ε/2 = 1?', 1 + eps/2 == 1)"
      ]
    },
    {
      "cell_type": "markdown",
      "metadata": {
        "id": "-u1O4CmTl4YA"
      },
      "source": [
        "# Problemas con 0.1"
      ]
    },
    {
      "cell_type": "code",
      "execution_count": 4,
      "metadata": {
        "colab": {
          "base_uri": "https://localhost:8080/"
        },
        "id": "cUIjb3YDl4YB",
        "outputId": "a9e8fb44-6252-4b57-decc-fb1ea229837e"
      },
      "outputs": [
        {
          "output_type": "stream",
          "name": "stdout",
          "text": [
            "0.1\n",
            "0.10000000149011612\n"
          ]
        }
      ],
      "source": [
        "print(0.1)\n",
        "print(f\"{np.single(0.1):.17f}\") # muestro 17 lugares después de la coma\n",
        "# format(0.1,'.17f') # hace lo mimso que lo de arriba"
      ]
    },
    {
      "cell_type": "code",
      "execution_count": 5,
      "metadata": {
        "colab": {
          "base_uri": "https://localhost:8080/"
        },
        "id": "Toyj-Sk-l4YC",
        "outputId": "85d0487d-4bf1-439f-da68-10deb28cfd62"
      },
      "outputs": [
        {
          "output_type": "stream",
          "name": "stdout",
          "text": [
            "0.1 + 0.2 = 0.10000000000000001 + 0.20000000000000001 = 0.30000000000000004\n",
            "0.3 = 0.29999999999999999\n"
          ]
        }
      ],
      "source": [
        "print(f\"0.1 + 0.2 = {0.1:.17f} + {0.2:.17f} = {0.1+0.2:.17f}\")\n",
        "print(f\"0.3 = {0.3:.17f}\")"
      ]
    },
    {
      "cell_type": "markdown",
      "metadata": {
        "id": "UVbSMPPal4YE"
      },
      "source": [
        "¿Qué entiende la máquina por 0.1?"
      ]
    },
    {
      "cell_type": "code",
      "execution_count": 6,
      "metadata": {
        "colab": {
          "base_uri": "https://localhost:8080/"
        },
        "id": "6hS_aPfYl4YG",
        "outputId": "3b36c9b1-11c3-42e8-f137-0540da3bb3f8"
      },
      "outputs": [
        {
          "output_type": "execute_result",
          "data": {
            "text/plain": [
              "(0.8, -3)"
            ]
          },
          "metadata": {},
          "execution_count": 6
        }
      ],
      "source": [
        "# Esto devuelve la mantissa como un valor entre -1 y 1 y el exponente del 2 (formato amigable)\n",
        "np.frexp(np.single(0.1))"
      ]
    },
    {
      "cell_type": "code",
      "execution_count": 7,
      "metadata": {
        "colab": {
          "base_uri": "https://localhost:8080/"
        },
        "id": "gCI_fm8Ll4YJ",
        "outputId": "d58026f6-869e-40b3-d5d9-17821caa1f89"
      },
      "outputs": [
        {
          "output_type": "execute_result",
          "data": {
            "text/plain": [
              "0.10000000149011612"
            ]
          },
          "metadata": {},
          "execution_count": 7
        }
      ],
      "source": [
        "# Chequeo\n",
        "mantissa, exp = np.frexp(np.single(0.1))\n",
        "mantissa * 2.**exp"
      ]
    },
    {
      "cell_type": "markdown",
      "metadata": {
        "id": "-wlosCb-l4YL"
      },
      "source": [
        "En realidad el 0,8 es 0,[tira de 24 1s y 0s]"
      ]
    },
    {
      "cell_type": "code",
      "execution_count": 8,
      "metadata": {
        "colab": {
          "base_uri": "https://localhost:8080/",
          "height": 53
        },
        "id": "jjUS7z0wl4YM",
        "outputId": "509a851f-f6be-49af-88c7-6bed56213bca"
      },
      "outputs": [
        {
          "output_type": "stream",
          "name": "stdout",
          "text": [
            "Mantissa guardada:\n"
          ]
        },
        {
          "output_type": "execute_result",
          "data": {
            "text/plain": [
              "'110011001100110011001101'"
            ],
            "application/vnd.google.colaboratory.intrinsic+json": {
              "type": "string"
            }
          },
          "metadata": {},
          "execution_count": 8
        }
      ],
      "source": [
        "mantissa_maquina = mantissa*(2**24) # corro la coma 24 lugares \n",
        "\n",
        "print('Mantissa guardada:')\n",
        "f\"{int(mantissa_maquina):b}\" # muestro en binario\n"
      ]
    },
    {
      "cell_type": "markdown",
      "metadata": {
        "id": "yBScN0Epl4YN"
      },
      "source": [
        "Aunque en verdad, verdad, no guarda $0,8 . 2^{-3}$ si no $1,6 . 2^{-4}$,\n",
        "\n",
        "donde el $1$ se asume y lo que se guarda es el $0,6$ en binario con 23 dígitos.\n",
        "\n",
        "O sea que el primer 1 de arriba no se guarda"
      ]
    },
    {
      "cell_type": "code",
      "execution_count": 9,
      "metadata": {
        "colab": {
          "base_uri": "https://localhost:8080/",
          "height": 53
        },
        "id": "LPUjtM-Cl4YP",
        "outputId": "bc29a05d-c6a1-4cff-da55-f94e971597bf"
      },
      "outputs": [
        {
          "output_type": "stream",
          "name": "stdout",
          "text": [
            "Mantissa guardada de verdad:\n"
          ]
        },
        {
          "output_type": "execute_result",
          "data": {
            "text/plain": [
              "'10011001100110011001101'"
            ],
            "application/vnd.google.colaboratory.intrinsic+json": {
              "type": "string"
            }
          },
          "metadata": {},
          "execution_count": 9
        }
      ],
      "source": [
        "print('Mantissa guardada de verdad:')\n",
        "f\"{int(mantissa_maquina):b}\"[1:] # muestro en binario"
      ]
    },
    {
      "cell_type": "markdown",
      "metadata": {
        "id": "aL-Fyew-l4YQ"
      },
      "source": [
        "### float16\n",
        "\n",
        "np.float16 es una versión de punto flotante de 16 bits. \n",
        "\n",
        "Se usa 1 bit para el signo, 5 para el exponente y 10 para la mantissa (con el trucho del 1. tengo 11 digitos signficativos)"
      ]
    },
    {
      "cell_type": "code",
      "execution_count": 10,
      "metadata": {
        "colab": {
          "base_uri": "https://localhost:8080/"
        },
        "id": "FVa3A0cSl4YR",
        "outputId": "16f47284-7d02-41cd-8f3c-f9249684128e"
      },
      "outputs": [
        {
          "output_type": "stream",
          "name": "stdout",
          "text": [
            "Máximo número flotante que puede representar en float16:  65500.0 \n",
            "\n",
            "Mínimo flotante positivo [normalizado] que puede representar en float16:  6.104e-05 \n",
            "\n",
            "Mínimo flotante positivo [subnormal] que puede representar en float16:  6e-08 \n",
            "\n",
            "Epsilon de máquina:  0.000977\n"
          ]
        }
      ],
      "source": [
        "# Máximo número flotante que puede representar en float16:\n",
        "print('Máximo número flotante que puede representar en float16: ', np.finfo(np.float16).max, '\\n')\n",
        "\n",
        "# Mínimo flotante positivo normalizado que puede representar en float16:\n",
        "print('Mínimo flotante positivo [normalizado] que puede representar en float16: ', np.finfo(np.float16).tiny, '\\n')\n",
        "\n",
        "# Mínimo flotante positivo [subnormal] que puede representar en float16:\n",
        "print('Mínimo flotante positivo [subnormal] que puede representar en float16: ', np.nextafter(np.float16(0.), np.float16(1.)), '\\n')\n",
        "\n",
        "# Epsilon de máquina\n",
        "print('Epsilon de máquina: ', np.finfo(np.float16).eps)"
      ]
    },
    {
      "cell_type": "markdown",
      "metadata": {
        "id": "JjGTg32jl4YT"
      },
      "source": [
        "Fijense que la precisión es del orden de 0.001. Así que es parecido a trabajar con base 10 y mantissa de 3 digitos"
      ]
    },
    {
      "cell_type": "code",
      "execution_count": 11,
      "metadata": {
        "colab": {
          "base_uri": "https://localhost:8080/"
        },
        "id": "q4YhY4khl4YT",
        "outputId": "a2d56941-1f02-4a2f-bc2f-22f3771cc905"
      },
      "outputs": [
        {
          "output_type": "execute_result",
          "data": {
            "text/plain": [
              "1.001"
            ]
          },
          "metadata": {},
          "execution_count": 11
        }
      ],
      "source": [
        "np.nextafter(np.float16(1),np.float16(2))"
      ]
    },
    {
      "cell_type": "markdown",
      "metadata": {
        "id": "DsvX61W4l4YU"
      },
      "source": [
        "A partir de $2^{10} = 1024$ y hasta $2^{11} = 2048$ los números que puedo representar son los enteros"
      ]
    },
    {
      "cell_type": "code",
      "execution_count": 12,
      "metadata": {
        "colab": {
          "base_uri": "https://localhost:8080/"
        },
        "id": "s8RL_B_tl4YV",
        "outputId": "a9bdf265-48f2-4e5b-9381-af316a487a29"
      },
      "outputs": [
        {
          "output_type": "stream",
          "name": "stdout",
          "text": [
            "El siguiente a 1024 es: \n"
          ]
        },
        {
          "output_type": "execute_result",
          "data": {
            "text/plain": [
              "1025.0"
            ]
          },
          "metadata": {},
          "execution_count": 12
        }
      ],
      "source": [
        "print(\"El siguiente a 1024 es: \")\n",
        "np.nextafter(np.float16(1024),np.float16(2000))"
      ]
    },
    {
      "cell_type": "code",
      "execution_count": 13,
      "metadata": {
        "colab": {
          "base_uri": "https://localhost:8080/"
        },
        "id": "q-tBckZzl4YW",
        "outputId": "72af831a-841c-48d3-cc14-7048e55b0a02"
      },
      "outputs": [
        {
          "output_type": "stream",
          "name": "stdout",
          "text": [
            "fl(1030.5) =  1030.0\n"
          ]
        }
      ],
      "source": [
        "print(\"fl(1030.5) = \",np.float16(1030.5))"
      ]
    },
    {
      "cell_type": "markdown",
      "metadata": {
        "id": "nB56HBEAl4YX"
      },
      "source": [
        "A partir de $2^{11} = 2048$ ya sólo tengo números pares"
      ]
    },
    {
      "cell_type": "code",
      "execution_count": 14,
      "metadata": {
        "colab": {
          "base_uri": "https://localhost:8080/"
        },
        "id": "exnhjiAxl4YY",
        "outputId": "2dffefd8-51e3-433d-df6d-a8e52b098553"
      },
      "outputs": [
        {
          "output_type": "stream",
          "name": "stdout",
          "text": [
            "El siguiente a 2048 es: \n"
          ]
        },
        {
          "output_type": "execute_result",
          "data": {
            "text/plain": [
              "2050.0"
            ]
          },
          "metadata": {},
          "execution_count": 14
        }
      ],
      "source": [
        "print(\"El siguiente a 2048 es: \")\n",
        "np.nextafter(np.float16(2048),np.float16(2050))"
      ]
    },
    {
      "cell_type": "code",
      "execution_count": 15,
      "metadata": {
        "colab": {
          "base_uri": "https://localhost:8080/"
        },
        "id": "j7-kk66Sl4Ya",
        "outputId": "055ed4f6-d89d-4800-ab2f-63dec42cb284"
      },
      "outputs": [
        {
          "output_type": "stream",
          "name": "stdout",
          "text": [
            "2048.0 + 1.0 = 2048.0\n",
            "True\n"
          ]
        }
      ],
      "source": [
        "# Problema 1: sumar dos números muy distintos en magnitud hace que el más chico sea ignorado\n",
        "x = np.float16(2048)\n",
        "y = np.float16(1)\n",
        "print(f'{x} + {y} = {x + y}')\n",
        "print(x + y == x)"
      ]
    },
    {
      "cell_type": "code",
      "execution_count": 16,
      "metadata": {
        "colab": {
          "base_uri": "https://localhost:8080/"
        },
        "id": "M_MvfS_dl4Yb",
        "outputId": "c1fa1d13-5015-46d4-e412-5d43dd02a073"
      },
      "outputs": [
        {
          "output_type": "execute_result",
          "data": {
            "text/plain": [
              "2048.0"
            ]
          },
          "metadata": {},
          "execution_count": 16
        }
      ],
      "source": [
        "# Problema 1': lo mismo puede pasar si sumamos muchos números chicos\n",
        "# Acá hago 1 + 1 + 1 + ... 3000 veces\n",
        "s =  np.float16(0)\n",
        "for i in range(3000):\n",
        "    s += np.float16(1)\n",
        "s"
      ]
    },
    {
      "cell_type": "code",
      "execution_count": 17,
      "metadata": {
        "colab": {
          "base_uri": "https://localhost:8080/",
          "height": 122
        },
        "id": "0E934VGRl4Yc",
        "outputId": "78744270-3ca5-446a-d535-162e454067d9"
      },
      "outputs": [
        {
          "output_type": "stream",
          "name": "stdout",
          "text": [
            "Suma de los primeros 200 terminos de 1/n : 5.86328125\n",
            "Suma de los primeros 400 terminos de 1/n : 6.64453125\n",
            "Suma de los primeros 600 terminos de 1/n : 7.0859375\n",
            "Suma de los primeros 800 terminos de 1/n : 7.0859375\n",
            "Suma de los primeros 1000 terminos de 1/n : 7.0859375\n"
          ]
        },
        {
          "output_type": "execute_result",
          "data": {
            "text/plain": [
              "'Conclusión: la serie armonica converge a 7.0859375 :('"
            ],
            "application/vnd.google.colaboratory.intrinsic+json": {
              "type": "string"
            }
          },
          "metadata": {},
          "execution_count": 17
        }
      ],
      "source": [
        "# Problema 1'': también si sumamos cosas cada vez más chiquitas\n",
        "\n",
        "# Hago un doble for para calcular las sumas parciales de 1/n hasta distintos valores\n",
        "for n in range(200,1001,200):\n",
        "    s =  np.float16(0)\n",
        "    for i in range(1,n):\n",
        "        s += np.float16(1/i)\n",
        "    print(f'Suma de los primeros {n} terminos de 1/n : {s}')\n",
        "f'Conclusión: la serie armonica converge a {s} :('"
      ]
    },
    {
      "cell_type": "code",
      "execution_count": 18,
      "metadata": {
        "colab": {
          "base_uri": "https://localhost:8080/"
        },
        "id": "2x-p8Dzal4Yd",
        "outputId": "c72d12d2-a0ac-4e41-df3b-6c4d6cbd94ff"
      },
      "outputs": [
        {
          "output_type": "stream",
          "name": "stdout",
          "text": [
            "Cuenta bien: 256.22 - 256.02 = 0.20\n",
            "En float: 256.25 - 256.0 = 0.25\n",
            "Errror =  0.05\n",
            "Error relativo = 0.05/0.20 = 25%\n"
          ]
        }
      ],
      "source": [
        "# Problema 2: restar dos números muy parecidos genera canceiones catastróficas \n",
        "x = 256.22\n",
        "y = 256.02\n",
        "flx = np.float16(x)\n",
        "fly = np.float16(y)\n",
        "\n",
        "print(f'Cuenta bien: {x} - {y} = {x - y:.2f}')\n",
        "print(f'En float: {flx} - {fly} = {flx - fly}')\n",
        "\n",
        "error = np.float16(abs((x-y)-(flx-fly)))\n",
        "print('Errror = ',error)\n",
        "print(f'Error relativo = {error:.2f}/{(x-y):.2f} = {error/(x-y):.0%}')"
      ]
    }
  ],
  "metadata": {
    "kernelspec": {
      "display_name": "Python 3 (ipykernel)",
      "language": "python",
      "name": "python3"
    },
    "language_info": {
      "codemirror_mode": {
        "name": "ipython",
        "version": 3
      },
      "file_extension": ".py",
      "mimetype": "text/x-python",
      "name": "python",
      "nbconvert_exporter": "python",
      "pygments_lexer": "ipython3",
      "version": "3.11.1"
    },
    "vscode": {
      "interpreter": {
        "hash": "369f2c481f4da34e4445cda3fffd2e751bd1c4d706f27375911949ba6bb62e1c"
      }
    },
    "colab": {
      "provenance": [],
      "include_colab_link": true
    }
  },
  "nbformat": 4,
  "nbformat_minor": 0
}