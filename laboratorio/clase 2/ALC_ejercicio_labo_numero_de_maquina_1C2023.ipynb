{
  "cells": [
    {
      "cell_type": "markdown",
      "metadata": {
        "id": "view-in-github",
        "colab_type": "text"
      },
      "source": [
        "<a href=\"https://colab.research.google.com/github/arielbakal/AlgebraLinealComputacional_UBA_FCEN/blob/main/laboratorio/clase%202/ALC_ejercicio_labo_numero_de_maquina_1C2023.ipynb\" target=\"_parent\"><img src=\"https://colab.research.google.com/assets/colab-badge.svg\" alt=\"Open In Colab\"/></a>"
      ]
    },
    {
      "cell_type": "markdown",
      "metadata": {
        "id": "8C9zpARGPhtL"
      },
      "source": [
        "## Aritmética de punto flotante\n",
        "Link a conversor __[IEEE 754 precisión simple](https://www.h-schmidt.net/FloatConverter/IEEE754.html)__"
      ]
    },
    {
      "cell_type": "markdown",
      "metadata": {
        "id": "Hb4OaBi7PhuK"
      },
      "source": [
        "¿Qué está pasando?"
      ]
    },
    {
      "cell_type": "code",
      "execution_count": 1,
      "metadata": {
        "scrolled": true,
        "id": "Q4kQ6XeIPhuN",
        "outputId": "38796f5c-2aa1-415b-aadd-6f7c5b6bf0da",
        "colab": {
          "base_uri": "https://localhost:8080/"
        }
      },
      "outputs": [
        {
          "output_type": "execute_result",
          "data": {
            "text/plain": [
              "0.5"
            ]
          },
          "metadata": {},
          "execution_count": 1
        }
      ],
      "source": [
        "0.2 + 0.3"
      ]
    },
    {
      "cell_type": "code",
      "execution_count": 2,
      "metadata": {
        "id": "-ZPCXIfzPhuW",
        "outputId": "5c2cd509-e6d1-4427-d1e6-56e7fa527c83",
        "colab": {
          "base_uri": "https://localhost:8080/"
        }
      },
      "outputs": [
        {
          "output_type": "stream",
          "name": "stdout",
          "text": [
            "0.3\n"
          ]
        }
      ],
      "source": [
        "x = 0.3\n",
        "print(x)"
      ]
    },
    {
      "cell_type": "code",
      "execution_count": 3,
      "metadata": {
        "id": "MtsQN3W0Phuj",
        "outputId": "13b22630-c7b5-42af-d0f6-89c67127353c",
        "colab": {
          "base_uri": "https://localhost:8080/"
        }
      },
      "outputs": [
        {
          "output_type": "execute_result",
          "data": {
            "text/plain": [
              "0.09999999999999998"
            ]
          },
          "metadata": {},
          "execution_count": 3
        }
      ],
      "source": [
        "0.3 - 0.2"
      ]
    },
    {
      "cell_type": "markdown",
      "metadata": {
        "id": "HWekfog5Phuk"
      },
      "source": [
        "- ¿Cuánto da $(\\sqrt{2})^2 - 2$?\n"
      ]
    },
    {
      "cell_type": "code",
      "execution_count": 4,
      "metadata": {
        "id": "siLtkqvsPhum",
        "outputId": "8a13d277-7a81-4b0f-ff84-d570f99bed87",
        "colab": {
          "base_uri": "https://localhost:8080/"
        }
      },
      "outputs": [
        {
          "output_type": "execute_result",
          "data": {
            "text/plain": [
              "4.440892098500626e-16"
            ]
          },
          "metadata": {},
          "execution_count": 4
        }
      ],
      "source": [
        "import numpy as np\n",
        "np.sqrt(2)**2-2 "
      ]
    },
    {
      "cell_type": "markdown",
      "metadata": {
        "id": "OF6UobgVPhuo"
      },
      "source": [
        "- ¿Cuál es el límite cuando $n \\rightarrow \\infty$ de esta sucesión?\n",
        "$$\n",
        "\\begin{aligned}\n",
        "x_1 &= \\sqrt{2} \\\\\n",
        "x_{n+1} &= \\frac{x_n \\cdot x_n}{\\sqrt{2}}\n",
        "\\end{aligned}\n",
        "$$"
      ]
    },
    {
      "cell_type": "code",
      "execution_count": 5,
      "metadata": {
        "id": "AYeoll9JPhuy",
        "outputId": "d07f8c37-0620-4696-b7a0-396a5b692ba7",
        "colab": {
          "base_uri": "https://localhost:8080/"
        }
      },
      "outputs": [
        {
          "output_type": "stream",
          "name": "stdout",
          "text": [
            "1.4142135623730951\n",
            "inf\n"
          ]
        },
        {
          "output_type": "stream",
          "name": "stderr",
          "text": [
            "<ipython-input-5-107da6d1251b>:4: RuntimeWarning: overflow encountered in double_scalars\n",
            "  x = (x * x) / np.sqrt(2)\n"
          ]
        }
      ],
      "source": [
        "x = np.sqrt(2)\n",
        "print(x)\n",
        "for i in range(100):\n",
        "    x = (x * x) / np.sqrt(2)\n",
        "print(x)"
      ]
    },
    {
      "cell_type": "markdown",
      "metadata": {
        "id": "f6k4rUiePhu0"
      },
      "source": [
        "## Acumulación de errores"
      ]
    },
    {
      "cell_type": "markdown",
      "metadata": {
        "id": "OfA1ht6hPhu2"
      },
      "source": [
        "1. Se quiere calcular \n",
        "$$\n",
        "\\sum_{i=1}^{10^7} \\frac{1}{i} \\quad y \\quad \\sum_{i=1}^{2\\cdot10^7} \\frac{1}{i} \n",
        "$$\n",
        "usando aritmética de simple precisión (float32).\n",
        "\n",
        "Realizar para cada una de las expresiones un script que calcule el resultado. Qué se observa?"
      ]
    },
    {
      "cell_type": "code",
      "execution_count": 26,
      "metadata": {
        "scrolled": true,
        "id": "8nfVn02JPhvA",
        "outputId": "f2d401b5-c6e2-4b7e-e135-ae4f48f273ef",
        "colab": {
          "base_uri": "https://localhost:8080/"
        }
      },
      "outputs": [
        {
          "output_type": "stream",
          "name": "stdout",
          "text": [
            "suma =  16.695311365857272\n",
            "suma =  17.388458521417103\n"
          ]
        }
      ],
      "source": [
        "import numpy as np\n",
        "\n",
        "n = 7\n",
        "s1 = np.float32(0)\n",
        "for i in range(1,10**n+1):\n",
        "    s1 += 1/i\n",
        "\n",
        "print(\"suma = \", s1)\n",
        "\n",
        "s2 = np.float32(0)\n",
        "for i in range(1,2*10**n+1):\n",
        "    s2 += 1/i\n",
        "\n",
        "print(\"suma = \", s2)\n"
      ]
    },
    {
      "cell_type": "markdown",
      "metadata": {
        "id": "vkVk1pXSPhvF"
      },
      "source": [
        "¿Qué modificación harías para reducir los errores numéricos?"
      ]
    },
    {
      "cell_type": "markdown",
      "source": [
        "Para reducir el error numérico necesito trabajar con mayor precisión, numpy ofrece hasta una precision cuadruple (float128). "
      ],
      "metadata": {
        "id": "WGHscJNUiI8f"
      }
    },
    {
      "cell_type": "code",
      "source": [
        "import numpy as np\n",
        "\n",
        "n = 7\n",
        "s1 = np.float32(0)\n",
        "for i in range(1,10**n+1):\n",
        "    s1 += 1/i\n",
        "\n",
        "print(\"float32\")\n",
        "\n",
        "print(\"s1 = \", s1)\n",
        "\n",
        "s2 = np.float32(0)\n",
        "for i in range(1,2*10**n+1):\n",
        "    s2 += 1/i\n",
        "\n",
        "print(\"s2 = \", s2)\n",
        "\n",
        "s1 = np.float128(0)\n",
        "for i in range(1,10**n+1):\n",
        "    s1 += 1/i\n",
        "\n",
        "print(\"float128\")\n",
        "\n",
        "print(\"s1 = \", s1)\n",
        "\n",
        "s2 = np.float128(0)\n",
        "for i in range(1,2*10**n+1):\n",
        "    s2 += 1/i\n",
        "\n",
        "print(\"s2 = \", s2)\n"
      ],
      "metadata": {
        "id": "XKcy6JZZisZ1",
        "outputId": "806f001f-6c87-48fb-f336-b7a0b4a76637",
        "colab": {
          "base_uri": "https://localhost:8080/"
        }
      },
      "execution_count": 28,
      "outputs": [
        {
          "output_type": "stream",
          "name": "stdout",
          "text": [
            "float32\n",
            "s1 =  16.695311365857272\n",
            "s2 =  17.388458521417103\n",
            "float128\n",
            "s1 =  16.695311365859850759\n",
            "s2 =  17.388458521419799927\n"
          ]
        }
      ]
    },
    {
      "cell_type": "markdown",
      "metadata": {
        "id": "dZxvYl4aPhvH"
      },
      "source": [
        "2. Utilizar las mismas estrategias para estimar $e$ mediante la serie\n",
        "$$\n",
        "e \\approx \\sum_{n=0}^{10} \\frac{1}{n!}.\n",
        "$$\n",
        "\n",
        "Comparar con el valor real."
      ]
    },
    {
      "cell_type": "code",
      "execution_count": 44,
      "metadata": {
        "id": "v_I1CAk3PhvI",
        "outputId": "b65eaad3-4fbe-4ab9-9b73-4d35daf271f4",
        "colab": {
          "base_uri": "https://localhost:8080/"
        }
      },
      "outputs": [
        {
          "output_type": "stream",
          "name": "stdout",
          "text": [
            "e    = 2.718281828459045\n",
            "e32  = 2.7182818011463845\n",
            "e128 = 2.718281801146384468\n"
          ]
        }
      ],
      "source": [
        "import math as mt\n",
        "\n",
        "print('e    =', np.exp(1))\n",
        "\n",
        "e32 = np.float32(0)\n",
        "for i in range (0,11):\n",
        "  e32 += 1/mt.factorial(i)\n",
        "\n",
        "print('e32  =', e32)\n",
        "\n",
        "e128 = np.float128(0)\n",
        "for i in range (0,11):\n",
        "  e128 += 1/mt.factorial(i)\n",
        "\n",
        "print('e128 =', e128)"
      ]
    },
    {
      "cell_type": "markdown",
      "metadata": {
        "id": "UM5qzXrrPhvS"
      },
      "source": [
        "3. El siguiente código suma 1 10^8 veces. ¿Coincide la respuesta con el valor esperado? ¿Es posible modificar el código para calcular el valor correcto?"
      ]
    },
    {
      "cell_type": "code",
      "execution_count": 47,
      "metadata": {
        "id": "Lkl23Bp6PhvT",
        "outputId": "c178c20d-290c-4664-8287-6bc66ef9bdbe",
        "colab": {
          "base_uri": "https://localhost:8080/"
        }
      },
      "outputs": [
        {
          "output_type": "stream",
          "name": "stdout",
          "text": [
            "100000000\n",
            "16777216.0\n"
          ]
        }
      ],
      "source": [
        "print(10**8)\n",
        "\n",
        "c = np.float32(0)\n",
        "\n",
        "for i in range(10**8):\n",
        "    c += np.float32(1)\n",
        "\n",
        "print(c)\n"
      ]
    },
    {
      "cell_type": "markdown",
      "source": [
        "Si éstos resultados coinciden, estaríamos presenciando la casualidad más grande de la historia. Acá estamos trabajando el mismo número pero en sistemas distintos, en este caso dos sistemas con precisiones distintas, lo cual en la suma tambien se estan sumando los errores de cada precision obteniendo una diferencia inmesa en el resultado!\n",
        "\n",
        "Necesitamos trabajar en el mismo sistema para obtener una igualdad"
      ],
      "metadata": {
        "id": "MoelzY4hme-0"
      }
    },
    {
      "cell_type": "code",
      "source": [
        "print(10**8)\n",
        "\n",
        "c = 0\n",
        "\n",
        "for i in range(10**8):\n",
        "    c += 1\n",
        "\n",
        "print(c)"
      ],
      "metadata": {
        "id": "gBJmVwBinBMB",
        "outputId": "fa8ebd28-1b2e-4cc5-9b2a-1c098b218055",
        "colab": {
          "base_uri": "https://localhost:8080/"
        }
      },
      "execution_count": 49,
      "outputs": [
        {
          "output_type": "stream",
          "name": "stdout",
          "text": [
            "100000000\n",
            "100000000\n"
          ]
        }
      ]
    }
  ],
  "metadata": {
    "kernelspec": {
      "display_name": "Python 3 (ipykernel)",
      "language": "python",
      "name": "python3"
    },
    "language_info": {
      "codemirror_mode": {
        "name": "ipython",
        "version": 3
      },
      "file_extension": ".py",
      "mimetype": "text/x-python",
      "name": "python",
      "nbconvert_exporter": "python",
      "pygments_lexer": "ipython3",
      "version": "3.9.16"
    },
    "colab": {
      "provenance": [],
      "include_colab_link": true
    }
  },
  "nbformat": 4,
  "nbformat_minor": 0
}