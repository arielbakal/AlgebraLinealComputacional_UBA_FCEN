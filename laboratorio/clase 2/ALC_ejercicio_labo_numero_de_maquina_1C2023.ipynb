{
  "cells": [
    {
      "cell_type": "markdown",
      "metadata": {
        "id": "view-in-github",
        "colab_type": "text"
      },
      "source": [
        "<a href=\"https://colab.research.google.com/github/arielbakal/AlgebraLinealComputacional_UBA_FCEN/blob/main/laboratorio/clase%202/ALC_ejercicio_labo_numero_de_maquina_1C2023.ipynb\" target=\"_parent\"><img src=\"https://colab.research.google.com/assets/colab-badge.svg\" alt=\"Open In Colab\"/></a>"
      ]
    },
    {
      "cell_type": "markdown",
      "metadata": {
        "id": "8C9zpARGPhtL"
      },
      "source": [
        "## Aritmética de punto flotante\n",
        "Link a conversor __[IEEE 754 precisión simple](https://www.h-schmidt.net/FloatConverter/IEEE754.html)__"
      ]
    },
    {
      "cell_type": "markdown",
      "metadata": {
        "id": "Hb4OaBi7PhuK"
      },
      "source": [
        "¿Qué está pasando?"
      ]
    },
    {
      "cell_type": "code",
      "execution_count": null,
      "metadata": {
        "scrolled": true,
        "id": "Q4kQ6XeIPhuN"
      },
      "outputs": [],
      "source": [
        "0.2 + 0.3"
      ]
    },
    {
      "cell_type": "code",
      "execution_count": null,
      "metadata": {
        "id": "-ZPCXIfzPhuW"
      },
      "outputs": [],
      "source": [
        "x = 0.3\n",
        "print(x)"
      ]
    },
    {
      "cell_type": "code",
      "execution_count": null,
      "metadata": {
        "id": "MtsQN3W0Phuj"
      },
      "outputs": [],
      "source": [
        "0.3 - 0.2"
      ]
    },
    {
      "cell_type": "markdown",
      "metadata": {
        "id": "HWekfog5Phuk"
      },
      "source": [
        "- ¿Cuánto da $(\\sqrt{2})^2 - 2$?\n"
      ]
    },
    {
      "cell_type": "code",
      "execution_count": null,
      "metadata": {
        "id": "siLtkqvsPhum"
      },
      "outputs": [],
      "source": [
        "import numpy as np\n",
        "np.sqrt(2)**2-2 "
      ]
    },
    {
      "cell_type": "markdown",
      "metadata": {
        "id": "OF6UobgVPhuo"
      },
      "source": [
        "- ¿Cuál es el límite cuando $n \\rightarrow \\infty$ de esta sucesión?\n",
        "$$\n",
        "\\begin{aligned}\n",
        "x_1 &= \\sqrt{2} \\\\\n",
        "x_{n+1} &= \\frac{x_n \\cdot x_n}{\\sqrt{2}}\n",
        "\\end{aligned}\n",
        "$$"
      ]
    },
    {
      "cell_type": "code",
      "execution_count": null,
      "metadata": {
        "id": "AYeoll9JPhuy"
      },
      "outputs": [],
      "source": [
        "x = np.sqrt(2)\n",
        "print(x)\n",
        "for i in range(100):\n",
        "    x = (x * x) / np.sqrt(2)\n",
        "print(x)"
      ]
    },
    {
      "cell_type": "markdown",
      "metadata": {
        "id": "f6k4rUiePhu0"
      },
      "source": [
        "## Acumulación de errores"
      ]
    },
    {
      "cell_type": "markdown",
      "metadata": {
        "id": "OfA1ht6hPhu2"
      },
      "source": [
        "1. Se quiere calcular \n",
        "$$\n",
        "\\sum_{i=1}^{10^7} \\frac{1}{i} \\quad y \\quad \\sum_{i=1}^{2\\cdot10^7} \\frac{1}{i} \n",
        "$$\n",
        "usando aritmética de simple precisión (float32).\n",
        "\n",
        "Realizar para cada una de las expresiones un script que calcule el resultado. Qué se observa?"
      ]
    },
    {
      "cell_type": "code",
      "execution_count": null,
      "metadata": {
        "scrolled": true,
        "id": "8nfVn02JPhvA"
      },
      "outputs": [],
      "source": [
        "import numpy as np\n",
        "\n",
        "n = 7\n",
        "s1 = np.float32(0)\n",
        "for i in range(1,10**n+1):\n",
        "    # ** completar **\n",
        "\n",
        "print(\"suma = \", s1)\n",
        "\n",
        "s2 = np.float32(0)\n",
        "for i in range(1,2*10**n+1):\n",
        "    # ** completar **\n",
        "\n",
        "print(\"suma = \", s2)\n"
      ]
    },
    {
      "cell_type": "markdown",
      "metadata": {
        "id": "vkVk1pXSPhvF"
      },
      "source": [
        "¿Qué modificación harías para reducir los errores numéricos?"
      ]
    },
    {
      "cell_type": "code",
      "execution_count": null,
      "metadata": {
        "id": "ZLTD0iixPhvG"
      },
      "outputs": [],
      "source": []
    },
    {
      "cell_type": "markdown",
      "metadata": {
        "id": "dZxvYl4aPhvH"
      },
      "source": [
        "2. Utilizar las mismas estrategias para estimar $e$ mediante la serie\n",
        "$$\n",
        "e \\approx \\sum_{n=0}^{10} \\frac{1}{n!}.\n",
        "$$\n",
        "\n",
        "Comparar con el valor real."
      ]
    },
    {
      "cell_type": "code",
      "execution_count": null,
      "metadata": {
        "id": "v_I1CAk3PhvI"
      },
      "outputs": [],
      "source": [
        "print(np.exp(1))\n",
        "\n",
        "s = np.float32(0)\n",
        "# ** completar**\n",
        "\n",
        "print('suma =', s)"
      ]
    },
    {
      "cell_type": "markdown",
      "metadata": {
        "id": "UM5qzXrrPhvS"
      },
      "source": [
        "3. El siguiente código suma 1 10^8 veces. ¿Coincide la respuesta con el valor esperado? ¿Es posible modificar el código para calcular el valor correcto?"
      ]
    },
    {
      "cell_type": "code",
      "execution_count": null,
      "metadata": {
        "id": "Lkl23Bp6PhvT"
      },
      "outputs": [],
      "source": [
        "print(10**8)\n",
        "\n",
        "c = np.float32(0)\n",
        "\n",
        "for i in range(10**8):\n",
        "    c += np.float32(1)\n",
        "\n",
        "print(c)\n"
      ]
    }
  ],
  "metadata": {
    "kernelspec": {
      "display_name": "Python 3 (ipykernel)",
      "language": "python",
      "name": "python3"
    },
    "language_info": {
      "codemirror_mode": {
        "name": "ipython",
        "version": 3
      },
      "file_extension": ".py",
      "mimetype": "text/x-python",
      "name": "python",
      "nbconvert_exporter": "python",
      "pygments_lexer": "ipython3",
      "version": "3.9.16"
    },
    "colab": {
      "provenance": [],
      "include_colab_link": true
    }
  },
  "nbformat": 4,
  "nbformat_minor": 0
}