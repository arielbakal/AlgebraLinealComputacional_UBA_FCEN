{
  "cells": [
    {
      "cell_type": "markdown",
      "metadata": {
        "colab_type": "text",
        "id": "view-in-github"
      },
      "source": [
        "<a href=\"https://colab.research.google.com/github/arielbakal/uba_alc/blob/main/laboratorio/clase%205/labo05_DescLU.ipynb\" target=\"_parent\"><img src=\"https://colab.research.google.com/assets/colab-badge.svg\" alt=\"Open In Colab\"/></a>"
      ]
    },
    {
      "cell_type": "code",
      "execution_count": 3,
      "metadata": {
        "id": "fxqwpmTzOF-k"
      },
      "outputs": [],
      "source": [
        "import numpy as np"
      ]
    },
    {
      "cell_type": "markdown",
      "metadata": {
        "id": "IMrrHmQFSz80"
      },
      "source": [
        "### Ejercicio 3"
      ]
    },
    {
      "cell_type": "code",
      "execution_count": 4,
      "metadata": {
        "id": "fLfeALgoRIh2"
      },
      "outputs": [],
      "source": [
        "def sol_matrizTS(L,y): # soluciones de Ly=b siendo L traing sup\n",
        "  b = L@y\n",
        "  return b"
      ]
    },
    {
      "cell_type": "code",
      "execution_count": 5,
      "metadata": {
        "colab": {
          "base_uri": "https://localhost:8080/"
        },
        "id": "4ZgzYchkRgoM",
        "outputId": "565cb366-1837-4dae-cc64-0370243cf0f3"
      },
      "outputs": [
        {
          "data": {
            "text/plain": [
              "array([[ 1],\n",
              "       [ 8],\n",
              "       [11]])"
            ]
          },
          "execution_count": 5,
          "metadata": {},
          "output_type": "execute_result"
        }
      ],
      "source": [
        "H = np.array([[1,0,0],[2,3,0],[4,2,1]])\n",
        "y = np.transpose(np.array([[1,2,3]]))\n",
        "sol_matrizTS(H,y)"
      ]
    },
    {
      "cell_type": "code",
      "execution_count": 6,
      "metadata": {
        "colab": {
          "base_uri": "https://localhost:8080/"
        },
        "id": "yKv3zbMMVUr2",
        "outputId": "27c192bc-517b-4996-e18c-5e176751d3b8"
      },
      "outputs": [
        {
          "data": {
            "text/plain": [
              "array([[1, 0, 0],\n",
              "       [0, 3, 0],\n",
              "       [0, 0, 1]])"
            ]
          },
          "execution_count": 6,
          "metadata": {},
          "output_type": "execute_result"
        }
      ],
      "source": [
        "np.tril(H,-1) + np.eye(3)\n",
        "np.triu(H)"
      ]
    },
    {
      "cell_type": "code",
      "execution_count": 7,
      "metadata": {
        "colab": {
          "base_uri": "https://localhost:8080/"
        },
        "id": "Lh0RiZirfmus",
        "outputId": "d13851bf-fb37-40a8-e560-520827ce32ba"
      },
      "outputs": [
        {
          "data": {
            "text/plain": [
              "1"
            ]
          },
          "execution_count": 7,
          "metadata": {},
          "output_type": "execute_result"
        }
      ],
      "source": [
        "H[0][0]"
      ]
    },
    {
      "cell_type": "markdown",
      "metadata": {
        "id": "dNnyO1pfS2dc"
      },
      "source": [
        "#### Ejercicio 4\n"
      ]
    },
    {
      "cell_type": "code",
      "execution_count": 214,
      "metadata": {
        "id": "zWolulCpSycc"
      },
      "outputs": [],
      "source": [
        "def elim_gaussiana(A):\n",
        "    cant_op = 0\n",
        "    m=A.shape[0]\n",
        "    n=A.shape[1]\n",
        "    Ac = A.copy()\n",
        "\n",
        "\n",
        "    if m!=n:\n",
        "        print('Matriz no cuadrada')\n",
        "        return\n",
        "\n",
        "    for i in range(m-1):\n",
        "\n",
        "      d = (Ac[i][i])\n",
        "\n",
        "      for j in range(m-1-i):\n",
        "\n",
        "        s = -(Ac[j+1+i][i]) / d \n",
        "        cant_op += 2\n",
        "\n",
        "        if i == m-2:\n",
        "\n",
        "          Ac[j+1+i][i] = -s\n",
        "          cant_op += 1\n",
        "\n",
        "        else:\n",
        "\n",
        "          for p in range(m-1-i):\n",
        "\n",
        "            Ac[j+1+i][p+1+i] += (s * Ac[i][p+1+i])\n",
        "            cant_op += 2\n",
        "\n",
        "          Ac[j+1+i][i] = -s\n",
        "          cant_op += 1\n",
        "            \n",
        "    L = np.tril(Ac,-1) + np.eye(A.shape[0]) \n",
        "    U = np.triu(Ac)\n",
        "    \n",
        "    return L, U, cant_op\n",
        "\n",
        "def main():\n",
        "    #n = 7\n",
        "    #B = np.eye(n) - np.tril(np.ones((n,n)),-1) \n",
        "    #B[:n,n-1] = 1\n",
        "    B = np.array([[2,1,2,3],[4,3,3,4],[-2,2,-4,-12],[4,1,8,-3]])\n",
        "    print('Matriz B \\n', B)\n",
        "    \n",
        "    L,U,cant_oper = elim_gaussiana(B)\n",
        "    \n",
        "    print('Matriz L \\n', L)\n",
        "    print('Matriz U \\n', U)\n",
        "    print('Cantidad de operaciones: ', cant_oper)\n",
        "    print('B=LU? ' , 'Si!' if np.allclose(np.linalg.norm(B - L@U, 1), 0) else 'No!')\n",
        "    print('Norma infinito de U: ', np.max(np.sum(np.abs(U), axis=1)) )"
      ]
    },
    {
      "cell_type": "code",
      "execution_count": 215,
      "metadata": {
        "colab": {
          "base_uri": "https://localhost:8080/"
        },
        "id": "wMviFYN0h3vs",
        "outputId": "d76347fc-adb4-4d2a-f73f-612ced528ba1"
      },
      "outputs": [
        {
          "name": "stdout",
          "output_type": "stream",
          "text": [
            "Matriz B \n",
            " [[  2   1   2   3]\n",
            " [  4   3   3   4]\n",
            " [ -2   2  -4 -12]\n",
            " [  4   1   8  -3]]\n",
            "Matriz L \n",
            " [[ 1.  0.  0.  0.]\n",
            " [ 2.  1.  0.  0.]\n",
            " [-1.  3.  1.  0.]\n",
            " [ 2. -1.  3.  1.]]\n",
            "Matriz U \n",
            " [[  2   1   2   3]\n",
            " [  0   1  -1  -2]\n",
            " [  0   0   1  -3]\n",
            " [  0   0   0 -11]]\n",
            "Cantidad de operaciones:  44\n",
            "B=LU?  No!\n",
            "Norma infinito de U:  11\n"
          ]
        }
      ],
      "source": [
        "main()"
      ]
    }
  ],
  "metadata": {
    "colab": {
      "authorship_tag": "ABX9TyOApe1IME1cM3I11wXzdJOn",
      "include_colab_link": true,
      "provenance": []
    },
    "kernelspec": {
      "display_name": "Python 3",
      "name": "python3"
    },
    "language_info": {
      "codemirror_mode": {
        "name": "ipython",
        "version": 3
      },
      "file_extension": ".py",
      "mimetype": "text/x-python",
      "name": "python",
      "nbconvert_exporter": "python",
      "pygments_lexer": "ipython3",
      "version": "3.10.11"
    }
  },
  "nbformat": 4,
  "nbformat_minor": 0
}
