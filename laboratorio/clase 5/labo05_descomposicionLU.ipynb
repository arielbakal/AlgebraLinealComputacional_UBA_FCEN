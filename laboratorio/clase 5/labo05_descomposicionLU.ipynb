{
  "nbformat": 4,
  "nbformat_minor": 0,
  "metadata": {
    "colab": {
      "provenance": [],
      "authorship_tag": "ABX9TyOApe1IME1cM3I11wXzdJOn",
      "include_colab_link": true
    },
    "kernelspec": {
      "name": "python3",
      "display_name": "Python 3"
    },
    "language_info": {
      "name": "python"
    }
  },
  "cells": [
    {
      "cell_type": "markdown",
      "metadata": {
        "id": "view-in-github",
        "colab_type": "text"
      },
      "source": [
        "<a href=\"https://colab.research.google.com/github/arielbakal/uba_alc/blob/main/laboratorio/clase%205/labo05_DescLU.ipynb\" target=\"_parent\"><img src=\"https://colab.research.google.com/assets/colab-badge.svg\" alt=\"Open In Colab\"/></a>"
      ]
    },
    {
      "cell_type": "code",
      "execution_count": 20,
      "metadata": {
        "id": "fxqwpmTzOF-k"
      },
      "outputs": [],
      "source": [
        "import numpy as np"
      ]
    },
    {
      "cell_type": "markdown",
      "source": [
        "### Ejercicio 3"
      ],
      "metadata": {
        "id": "IMrrHmQFSz80"
      }
    },
    {
      "cell_type": "code",
      "source": [
        "def sol_matrizTS(L,y): # soluciones de Ly=b siendo L traing sup\n",
        "  b = L@y\n",
        "  return b"
      ],
      "metadata": {
        "id": "fLfeALgoRIh2"
      },
      "execution_count": 21,
      "outputs": []
    },
    {
      "cell_type": "code",
      "source": [
        "H = np.array([[1,0,0],[2,3,0],[4,2,1]])\n",
        "y = np.transpose(np.array([[1,2,3]]))\n",
        "sol_matrizTS(H,y)"
      ],
      "metadata": {
        "colab": {
          "base_uri": "https://localhost:8080/"
        },
        "id": "4ZgzYchkRgoM",
        "outputId": "565cb366-1837-4dae-cc64-0370243cf0f3"
      },
      "execution_count": 22,
      "outputs": [
        {
          "output_type": "execute_result",
          "data": {
            "text/plain": [
              "array([[ 1],\n",
              "       [ 8],\n",
              "       [11]])"
            ]
          },
          "metadata": {},
          "execution_count": 22
        }
      ]
    },
    {
      "cell_type": "code",
      "source": [
        "np.tril(H,-1) + np.eye(3)\n",
        "np.triu(H)"
      ],
      "metadata": {
        "colab": {
          "base_uri": "https://localhost:8080/"
        },
        "id": "yKv3zbMMVUr2",
        "outputId": "27c192bc-517b-4996-e18c-5e176751d3b8"
      },
      "execution_count": 23,
      "outputs": [
        {
          "output_type": "execute_result",
          "data": {
            "text/plain": [
              "array([[1, 0, 0],\n",
              "       [0, 3, 0],\n",
              "       [0, 0, 1]])"
            ]
          },
          "metadata": {},
          "execution_count": 23
        }
      ]
    },
    {
      "cell_type": "code",
      "source": [
        "H[0][0]"
      ],
      "metadata": {
        "colab": {
          "base_uri": "https://localhost:8080/"
        },
        "id": "Lh0RiZirfmus",
        "outputId": "d13851bf-fb37-40a8-e560-520827ce32ba"
      },
      "execution_count": 24,
      "outputs": [
        {
          "output_type": "execute_result",
          "data": {
            "text/plain": [
              "1"
            ]
          },
          "metadata": {},
          "execution_count": 24
        }
      ]
    },
    {
      "cell_type": "markdown",
      "source": [
        "#### Ejercicio 4\n"
      ],
      "metadata": {
        "id": "dNnyO1pfS2dc"
      }
    },
    {
      "cell_type": "code",
      "source": [
        "def elim_gaussiana(A):\n",
        "    cant_op = 0\n",
        "    m=A.shape[0]\n",
        "    n=A.shape[1]\n",
        "    Ac = A.copy()\n",
        "    L = np.eye(m)\n",
        "\n",
        "\n",
        "    if m!=n:\n",
        "        print('Matriz no cuadrada')\n",
        "        return\n",
        "    \n",
        "    ## desde aqui -- CODIGO A COMPLETAR\n",
        "\n",
        "    for i in range(m-1):\n",
        "      L = np.eye(m)\n",
        "      for j in range(m-1):\n",
        "        L[j+1][i] = -(Ac[j+1][i]) / (Ac[i][i])\n",
        "      Ac = L@Ac\n",
        "      print(\"\\nL_\",i+1,\" =\\n\",L)\n",
        "      print(\"\\n\",Ac)\n",
        "\n",
        "\n",
        "\n",
        "                \n",
        "    ## hasta aqui\n",
        "            \n",
        "    #L = np.tril(Ac,-1) + np.eye(A.shape[0]) \n",
        "    #U = np.triu(Ac)\n",
        "    \n",
        "    #return L, U, cant_op"
      ],
      "metadata": {
        "id": "zWolulCpSycc"
      },
      "execution_count": 120,
      "outputs": []
    },
    {
      "cell_type": "code",
      "source": [
        "A= np.array([ [2,1,2,3],[4,3,3,4],[-2,2,-4,-12],[4,1,8,-3] ])\n",
        "elim_gaussiana(A)"
      ],
      "metadata": {
        "colab": {
          "base_uri": "https://localhost:8080/"
        },
        "id": "wMviFYN0h3vs",
        "outputId": "d76347fc-adb4-4d2a-f73f-612ced528ba1"
      },
      "execution_count": 121,
      "outputs": [
        {
          "output_type": "stream",
          "name": "stdout",
          "text": [
            "\n",
            "L_ 1  =\n",
            " [[ 1.  0.  0.  0.]\n",
            " [-2.  1.  0.  0.]\n",
            " [ 1.  0.  1.  0.]\n",
            " [-2.  0.  0.  1.]]\n",
            "\n",
            " [[ 2.  1.  2.  3.]\n",
            " [ 0.  1. -1. -2.]\n",
            " [ 0.  3. -2. -9.]\n",
            " [ 0. -1.  4. -9.]]\n",
            "\n",
            "L_ 2  =\n",
            " [[ 1.  0.  0.  0.]\n",
            " [ 0. -1.  0.  0.]\n",
            " [ 0. -3.  1.  0.]\n",
            " [ 0.  1.  0.  1.]]\n",
            "\n",
            " [[  2.   1.   2.   3.]\n",
            " [  0.  -1.   1.   2.]\n",
            " [  0.   0.   1.  -3.]\n",
            " [  0.   0.   3. -11.]]\n",
            "\n",
            "L_ 3  =\n",
            " [[ 1.  0.  0.  0.]\n",
            " [ 0.  1. -1.  0.]\n",
            " [ 0.  0. -1.  0.]\n",
            " [ 0.  0. -3.  1.]]\n",
            "\n",
            " [[ 2.  1.  2.  3.]\n",
            " [ 0. -1.  0.  5.]\n",
            " [ 0.  0. -1.  3.]\n",
            " [ 0.  0.  0. -2.]]\n"
          ]
        }
      ]
    }
  ]
}