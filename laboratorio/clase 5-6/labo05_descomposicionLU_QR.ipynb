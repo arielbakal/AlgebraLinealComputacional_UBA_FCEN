{
  "cells": [
    {
      "cell_type": "markdown",
      "metadata": {
        "colab_type": "text",
        "id": "view-in-github"
      },
      "source": [
        "<a href=\"https://colab.research.google.com/github/arielbakal/uba_alc/blob/main/laboratorio/clase%205/labo05_DescLU.ipynb\" target=\"_parent\"><img src=\"https://colab.research.google.com/assets/colab-badge.svg\" alt=\"Open In Colab\"/></a>"
      ]
    },
    {
      "cell_type": "code",
      "execution_count": 26,
      "metadata": {
        "id": "fxqwpmTzOF-k"
      },
      "outputs": [],
      "source": [
        "import numpy as np"
      ]
    },
    {
      "attachments": {},
      "cell_type": "markdown",
      "metadata": {},
      "source": [
        "#### Ejercicio 1 y 2"
      ]
    },
    {
      "cell_type": "code",
      "execution_count": 27,
      "metadata": {
        "id": "zWolulCpSycc"
      },
      "outputs": [],
      "source": [
        "def elim_gaussiana(A):\n",
        "    cant_op = 0\n",
        "    m=A.shape[0]\n",
        "    n=A.shape[1]\n",
        "    Ac = A.copy()\n",
        "\n",
        "    if m!=n:\n",
        "        print('Matriz no cuadrada')\n",
        "        return\n",
        "\n",
        "    for i in range(m-1): # i itera filas\n",
        "\n",
        "      d = (Ac[i][i]) # Agarro los elementos de la diagonal\n",
        "\n",
        "      for j in range(m-1-i): # j itera columnas\n",
        "\n",
        "        s = -(Ac[j+1+i][i]) / d # Obtengo los elementos de cada L_i - I\n",
        "        cant_op += 2\n",
        "\n",
        "        for p in range(m-1-i): # p recorre coordanada a coordenada cada fila\n",
        "\n",
        "          # Modifico cada coord individualmente simulando una fila de L multiplicando a Ac\n",
        "          Ac[j+1+i][p+1+i] += (s * Ac[i][p+1+i]) \n",
        "          cant_op += 2\n",
        "\n",
        "        # Asigno a un Ac triangulado en el paso i los valores de L_i \n",
        "        Ac[j+1+i][i] = -s\n",
        "        cant_op += 1\n",
        "            \n",
        "    # Descompongo A en LU              \n",
        "    L = np.tril(Ac,-1) + np.eye(A.shape[0]) \n",
        "    U = np.triu(Ac)\n",
        "    \n",
        "    return L, U, cant_op"
      ]
    },
    {
      "cell_type": "code",
      "execution_count": 28,
      "metadata": {},
      "outputs": [],
      "source": [
        "def main():\n",
        "    n = 7\n",
        "    B = np.eye(n) - np.tril(np.ones((n,n)),-1) \n",
        "    B[:n,n-1] = 1\n",
        "    print('Matriz B \\n', B)\n",
        "    \n",
        "    L,U,cant_oper = elim_gaussiana(B)\n",
        "    \n",
        "    print('Matriz L \\n', L)\n",
        "    print('Matriz U \\n', U)\n",
        "    print('Cantidad de operaciones: ', cant_oper)\n",
        "    print('B=LU? ' , 'Si!' if np.allclose(np.linalg.norm(B - L@U, 1), 0) else 'No!')\n",
        "    print('Norma infinito de U: ', np.max(np.sum(np.abs(U), axis=1)) )"
      ]
    },
    {
      "cell_type": "code",
      "execution_count": 29,
      "metadata": {
        "colab": {
          "base_uri": "https://localhost:8080/"
        },
        "id": "wMviFYN0h3vs",
        "outputId": "d76347fc-adb4-4d2a-f73f-612ced528ba1"
      },
      "outputs": [
        {
          "name": "stdout",
          "output_type": "stream",
          "text": [
            "Matriz B \n",
            " [[ 1.  0.  0.  0.  0.  0.  1.]\n",
            " [-1.  1.  0.  0.  0.  0.  1.]\n",
            " [-1. -1.  1.  0.  0.  0.  1.]\n",
            " [-1. -1. -1.  1.  0.  0.  1.]\n",
            " [-1. -1. -1. -1.  1.  0.  1.]\n",
            " [-1. -1. -1. -1. -1.  1.  1.]\n",
            " [-1. -1. -1. -1. -1. -1.  1.]]\n",
            "Matriz L \n",
            " [[ 1.  0.  0.  0.  0.  0.  0.]\n",
            " [-1.  1.  0.  0.  0.  0.  0.]\n",
            " [-1. -1.  1.  0.  0.  0.  0.]\n",
            " [-1. -1. -1.  1.  0.  0.  0.]\n",
            " [-1. -1. -1. -1.  1.  0.  0.]\n",
            " [-1. -1. -1. -1. -1.  1.  0.]\n",
            " [-1. -1. -1. -1. -1. -1.  1.]]\n",
            "Matriz U \n",
            " [[ 1.  0.  0.  0.  0.  0.  1.]\n",
            " [ 0.  1.  0.  0.  0.  0.  2.]\n",
            " [ 0.  0.  1.  0.  0.  0.  4.]\n",
            " [ 0.  0.  0.  1.  0.  0.  8.]\n",
            " [ 0.  0.  0.  0.  1.  0. 16.]\n",
            " [ 0.  0.  0.  0.  0.  1. 32.]\n",
            " [ 0.  0.  0.  0.  0.  0. 64.]]\n",
            "Cantidad de operaciones:  245\n",
            "B=LU?  Si!\n",
            "Norma infinito de U:  64.0\n"
          ]
        }
      ],
      "source": [
        "main()"
      ]
    },
    {
      "attachments": {},
      "cell_type": "markdown",
      "metadata": {},
      "source": [
        "#### Ejercicio 3"
      ]
    },
    {
      "cell_type": "code",
      "execution_count": 67,
      "metadata": {},
      "outputs": [],
      "source": [
        "def generarB(n):\n",
        "    B = np.zeros((n,n))\n",
        "\n",
        "    for i in range(n):\n",
        "\n",
        "        for j in range(n):\n",
        "\n",
        "            if j == i or j == n-1: \n",
        "                B[i][j] = 1\n",
        "            elif i > j:\n",
        "                B[i][j] = -1\n",
        "            else:\n",
        "                B[i][j] = 0\n",
        "\n",
        "    return B"
      ]
    },
    {
      "attachments": {},
      "cell_type": "markdown",
      "metadata": {},
      "source": [
        "Redefino main para trabajar con generarB"
      ]
    },
    {
      "cell_type": "code",
      "execution_count": 76,
      "metadata": {},
      "outputs": [],
      "source": [
        "def main(n):\n",
        "    B = generarB(n)\n",
        "    print('Matriz B \\n', B)\n",
        "    \n",
        "    L,U,cant_oper = elim_gaussiana(B)\n",
        "    \n",
        "    print('Matriz L \\n', L)\n",
        "    print('Matriz U \\n', U)\n",
        "    print('Cantidad de operaciones: ', cant_oper)\n",
        "    print('B=LU? ' , 'Si!' if np.allclose(np.linalg.norm(B - L@U, 1), 0) else 'No!')\n",
        "    print('Norma infinito de U: ', np.max(np.sum(np.abs(U), axis=1)) )"
      ]
    },
    {
      "cell_type": "code",
      "execution_count": 82,
      "metadata": {},
      "outputs": [
        {
          "name": "stdout",
          "output_type": "stream",
          "text": [
            "Matriz B \n",
            " [[ 1.  0.  0.  1.]\n",
            " [-1.  1.  0.  1.]\n",
            " [-1. -1.  1.  1.]\n",
            " [-1. -1. -1.  1.]]\n",
            "Matriz L \n",
            " [[ 1.  0.  0.  0.]\n",
            " [-1.  1.  0.  0.]\n",
            " [-1. -1.  1.  0.]\n",
            " [-1. -1. -1.  1.]]\n",
            "Matriz U \n",
            " [[1. 0. 0. 1.]\n",
            " [0. 1. 0. 2.]\n",
            " [0. 0. 1. 4.]\n",
            " [0. 0. 0. 8.]]\n",
            "Cantidad de operaciones:  46\n",
            "B=LU?  Si!\n",
            "Norma infinito de U:  8.0\n"
          ]
        }
      ],
      "source": [
        "main(4)"
      ]
    },
    {
      "cell_type": "markdown",
      "metadata": {},
      "source": [
        "#### Ejercicio 4\n"
      ]
    },
    {
      "cell_type": "code",
      "execution_count": 93,
      "metadata": {},
      "outputs": [],
      "source": [
        "def solveB(n):\n",
        "    B = generarB(n)\n",
        "    b = np.random.rand(n)\n",
        "\n",
        "    x = np.linalg.solve(B, b)\n",
        "\n",
        "    print(x)"
      ]
    },
    {
      "cell_type": "code",
      "execution_count": 94,
      "metadata": {},
      "outputs": [
        {
          "name": "stdout",
          "output_type": "stream",
          "text": [
            "[ 0.1140621   0.03825174 -0.22532008  0.54514214]\n",
            "[ 0.28513683 -0.07689857  0.0802521   0.43131633]\n",
            "[-0.07582252 -0.01515036 -0.08916788  0.71172567]\n",
            "[ 0.07780488  0.14788199 -0.23161101  0.5837655 ]\n",
            "[-0.28523092 -0.07718378 -0.23128395  0.38137105]\n",
            "[-0.01176654  0.00805819  0.05014672  0.7129008 ]\n",
            "[ 0.05314692 -0.36178514  0.11931024  0.46092762]\n",
            "[-0.11175523 -0.00521158  0.44427727  0.40697175]\n",
            "[-0.00630747 -0.23202347  0.19722151  0.26056416]\n",
            "[ 0.20462876 -0.18165531 -0.12645581  0.45369117]\n"
          ]
        }
      ],
      "source": [
        "for i in range(10):\n",
        "    solveB(4)"
      ]
    }
  ],
  "metadata": {
    "colab": {
      "authorship_tag": "ABX9TyOApe1IME1cM3I11wXzdJOn",
      "include_colab_link": true,
      "provenance": []
    },
    "kernelspec": {
      "display_name": "Python 3",
      "name": "python3"
    },
    "language_info": {
      "codemirror_mode": {
        "name": "ipython",
        "version": 3
      },
      "file_extension": ".py",
      "mimetype": "text/x-python",
      "name": "python",
      "nbconvert_exporter": "python",
      "pygments_lexer": "ipython3",
      "version": "3.10.11"
    }
  },
  "nbformat": 4,
  "nbformat_minor": 0
}
